{
 "cells": [
  {
   "cell_type": "code",
   "execution_count": 1,
   "metadata": {
    "collapsed": true
   },
   "outputs": [],
   "source": [
    "%matplotlib inline\n",
    "%precision 16\n",
    "import numpy\n",
    "import matplotlib.pyplot as plt"
   ]
  },
  {
   "cell_type": "markdown",
   "metadata": {
    "nbgrader": {
     "grade": false,
     "grade_id": "header_1",
     "locked": true,
     "solution": false
    }
   },
   "source": [
    "Before you turn this problem in, make sure everything runs as expected. First, restart the kernel (in the menubar, select Kernel $\\rightarrow$ Restart) and then run all cells (in the menubar, select Cell $\\rightarrow$ Run All).\n",
    "\n",
    "Make sure you fill in any place that says YOUR CODE HERE or \"YOUR ANSWER HERE\", as well as your name and collaborators below:"
   ]
  },
  {
   "cell_type": "markdown",
   "metadata": {
    "nbgrader": {
     "grade": false,
     "grade_id": "header_2",
     "locked": true,
     "solution": false
    }
   },
   "source": [
    "# Midterm - Fall Semester 2016\n",
    "\n",
    "Guidelines:\n",
    "1. Use resources available to you from class and online.\n",
    "1. That being said this is an individual effort, do not work with others and cite what you do use.\n",
    "1. Copying is prohibited, write your own code and solutions.\n",
    "1. Do not use piazza for the duration of the exam, it will be frozen!  \n",
    "1. If you have a question please email the instructor and the TAs for maximal response possibilities.  We will answer questions that pertain only to clarification.  In particular this means we will not debug your code.\n",
    "1. Late turn in of the midterm will result in a 10% reduction every **HOUR** that it is late.  If you feel that there is a special circumstance that warrants consideration tells us **BEFORE** the Tuesday (and more so before the exam starts).\n",
    "\n",
    "Good luck!"
   ]
  },
  {
   "cell_type": "markdown",
   "metadata": {
    "nbgrader": {
     "grade": false,
     "grade_id": "Q-1",
     "locked": true,
     "solution": false
    }
   },
   "source": [
    "## Question 1"
   ]
  },
  {
   "cell_type": "markdown",
   "metadata": {
    "nbgrader": {
     "grade": false,
     "grade_id": "Q-1a",
     "locked": true,
     "solution": false
    }
   },
   "source": [
    "**(a)** (10 points)  Using the second order, centered difference approximation to the first derivative find the $\\Delta x$ that gives the smallest absolute error graphically for the function\n",
    "$$\n",
    "    f(x) = x \\sin(x) + 3 \\cos(x) - x\n",
    "$$  \n",
    "at $x = 2$.  Repeat this for the first order forward difference.  You do not have to be precise but be within an order of magnitude."
   ]
  },
  {
   "cell_type": "code",
   "execution_count": 16,
   "metadata": {
    "collapsed": false
   },
   "outputs": [
    {
     "name": "stdout",
     "output_type": "stream",
     "text": [
      "2.41191333572e-08 6.01252381216e-12\n",
      "Minimum Delta x for first order 1e-08\n",
      "Minimum Delta x for Second order 1e-05\n"
     ]
    },
    {
     "data": {
      "image/png": "[encoded data removed]",
      "text/plain": [
       "<matplotlib.figure.Figure at 0x10acdb490>"
      ]
     },
     "metadata": {},
     "output_type": "display_data"
    }
   ],
   "source": [
    "### INSERT CODE HERE\n",
    "f = lambda x: x*numpy.sin(x) + 3.0*numpy.cos(x) - x\n",
    "f_prime = lambda x: x*numpy.cos(x) - 2.0*numpy.sin(x) - 1\n",
    "\n",
    "delta_x = []\n",
    "error_second = []\n",
    "error_first = []\n",
    "\n",
    "for i in xrange(1,10):\n",
    "    delta_x.append(10**-i)\n",
    "\n",
    "    f_prime_hat_second = ((f(2.0+delta_x[-1]) - f(2.0-delta_x[-1])) / (2.0*delta_x[-1]))\n",
    "    f_prime_hat_first = ((f(2.0+delta_x[-1]) - f(2.0)) / delta_x[-1])\n",
    "    \n",
    "    error_second.append(numpy.abs(f_prime_hat_second - f_prime(2.0)))\n",
    "    error_first.append(numpy.abs(f_prime_hat_first - f_prime(2.0)))\n",
    "        \n",
    "fig = plt.figure()\n",
    "axes = fig.add_subplot(1,1,1)\n",
    "\n",
    "print numpy.min(error_first), numpy.min(error_second)\n",
    "print \"Minimum Delta x for first order\", delta_x[numpy.argmin(error_first)]\n",
    "print \"Minimum Delta x for Second order\", delta_x[numpy.argmin(error_second)]\n",
    "\n",
    "axes.loglog(delta_x, error_second,'r', label=\"Second Order Abs Error\")\n",
    "axes.loglog(delta_x, error_first,'b', label=\"First Order Abs Error\")\n",
    "axes.set_title(\"Second Order Centered Difference Aprroximation\")\n",
    "axes.set_ylabel(\"Abs Error\")\n",
    "axes.set_xlabel(\"delta x\")\n",
    "#axes.set_xlim(0, 1)\n",
    "axes.legend(loc=1)\n",
    "plt.show()\n",
    "\n"
   ]
  },
  {
   "cell_type": "markdown",
   "metadata": {
    "nbgrader": {
     "grade": false,
     "grade_id": "Q-1b",
     "locked": true,
     "solution": false
    }
   },
   "source": [
    "**(b)** (3 points) Why is there an optimal $\\Delta x$?  Why might it be different for each approach?  What method would you choose?"
   ]
  },
  {
   "cell_type": "markdown",
   "metadata": {
    "nbgrader": {
     "grade": true,
     "grade_id": "A-1b",
     "locked": false,
     "points": 3,
     "solution": true
    }
   },
   "source": [
    "As the above graph indicates, the optimal $\\Delta x$ for first order is of magnitude $10^-8$ whereas for second order differences we have $10^-5$. As expected, second order has an optimal delta x that is larger than first order. There might be a delta x because there is that error term $R_2'(x_n) = -\\Delta x^2 \\frac{f'''(c)}{3!}$ which can be minimized. Thus, as we take out these higher order terms, there is a delta x that minimizes this residual that we are getting rid of. It is different for each approach becuse each approah has different orders and as such, a different number of higher order terms are taken out. In this case, second order may be better because our delta x is allows to be larger. "
   ]
  },
  {
   "cell_type": "markdown",
   "metadata": {
    "nbgrader": {
     "grade": false,
     "grade_id": "Q-2",
     "locked": true,
     "solution": false
    }
   },
   "source": [
    "# Question 2"
   ]
  },
  {
   "cell_type": "markdown",
   "metadata": {
    "nbgrader": {
     "grade": false,
     "grade_id": "Q-2a",
     "locked": true,
     "solution": false
    }
   },
   "source": [
    "**(a)** (5 points) Analytically compute the interpolating polynomial given by the following data\n",
    "\n",
    "$\\begin{array}{l|l|l|l|l}\n",
    "x_j  & 0 & 1 & 2 & 3\\\\\n",
    "\\hline\n",
    "f_j & 0 & 0 & 6 & 24\n",
    "\\end{array}$"
   ]
  },
  {
   "cell_type": "markdown",
   "metadata": {
    "nbgrader": {
     "grade": true,
     "grade_id": "A-2a",
     "locked": false,
     "points": 5,
     "solution": true
    }
   },
   "source": [
    "**Newton's Method**\n",
    "\n",
    "In general then $P_N(x)$ can be written in Newton's form as\n",
    "\n",
    "$$P_N(x) = y_0 + (x-x_0)[y_0, y_1] + (x - x_0) (x - x_1) [y_0, y_1, y_2] + \\cdots + (x-x_0) (x-x_1) \\cdots (x-x_{N-1}) [y_0, y_1, \\ldots, y_{N}]$$\n",
    "\n",
    "In our case with three points we have:\n",
    "\n",
    "$$P_3(x) = y_0 + (x-x_0)[y_0, y_1] + (x - x_0) (x - x_1) [y_0, y_1, y_2] + (x - x_0) (x - x_1)(x- x_2) [y_0, y_1, y_2, y_3]$$\n",
    "\n",
    "Solving for the bracketed quantities:\n",
    "\n",
    "$$[y_0] = y_0 = 0$$\n",
    "\n",
    "$$[y_0, y_1] = \\frac{y_1 - y_0}{x_1 - x_0} = \\frac{0-0}{1} = 0$$\n",
    "\n",
    "$$[y_0, y_1, y_2] = \\frac{[y_1, y_2] - [y_0, y_1]}{x_{2} - x_{0}} = \\frac{\\frac{y_2 - y_1}{x_2 - x_1} - \\frac{y_1 - y_0}{x_1 - x_0}}{x_2 - x_0} = \\frac{y_2 - y_1}{(x_2 - x_1)(x_2 - x_0)} - \\frac{y_1 - y_0}{(x_1 - x_0)(x_2 - x_0)} = \\frac{6}{2} - 0 = 3$$\n",
    "\n",
    "$$[y_0, y_1, y_2,y_3] = \\frac{[y_1,y_2,y_3] - [y_0,y_1,y_2]}{x_3-x_0} = \\frac{1}{x_3 - x_0}\\bigg[\\frac{y_3 - y_2}{(x_3 - x_2)(x_3 - x_1)} - \\frac{y_2 - y_1}{(x_2 - x_1)(x_3 - x_1)}\\bigg] - \\frac{3}{x_3-x_0} = \\frac{1}{3}\\bigg[\\frac{18}{2} - \\frac{6}{2}\\bigg] - \\frac{3}{3} = 1 $$\n",
    "\n",
    "Plugging in:\n",
    "\n",
    "$$P_3(x) = y_0 + (x-x_0)[y_0, y_1] + (x - x_0) (x - x_1) [y_0, y_1, y_2] + (x - x_0) (x - x_1)(x- x_2) [y_0, y_1, y_2, y_3] = 0 + 0 + 3(x)(x-1) + (x)(x-1)(x-2)(1) = 3x^2 - 3x + x^3 - 3x^2 + 2x = x^3-x$$\n",
    "\n",
    "$$P_3(x) = x^3 - x = x(x^2 - 1) = x(x+1)(x-1)$$"
   ]
  },
  {
   "cell_type": "markdown",
   "metadata": {
    "nbgrader": {
     "grade": false,
     "grade_id": "Q-2b",
     "locked": true,
     "solution": false
    }
   },
   "source": [
    "**(b)** (3 points) Show that the interpolating polynomial you found is indeed an interpolant of the data."
   ]
  },
  {
   "cell_type": "markdown",
   "metadata": {
    "nbgrader": {
     "grade": true,
     "grade_id": "A-2b",
     "locked": false,
     "points": 3,
     "solution": true
    }
   },
   "source": [
    "**Solution** \n",
    "\n",
    "We know that an interpolant must pass through all the given data points. Therefore, to show that this is indeed an interpolant of our data, we can plug back in each point:\n",
    "\n",
    "For (0,0):\n",
    "\n",
    "$$P_3(x) = x^3 - x = 0 - 0 = 0 \\: \\checkmark$$\n",
    "\n",
    "For (1,0):\n",
    "\n",
    "$$P_3(x) = x^3 - x = 1 - 1 = 0 \\: \\checkmark$$\n",
    "\n",
    "For (2,6):\n",
    "\n",
    "$$P_3(x) = x^3 - x = 8 - 2 = 6 \\: \\checkmark$$\n",
    "\n",
    "For (3,24):\n",
    "\n",
    "$$P_3(x) = x^3 - x = 27 - 3 = 24 \\: \\checkmark$$"
   ]
  },
  {
   "cell_type": "markdown",
   "metadata": {
    "nbgrader": {
     "grade": false,
     "grade_id": "Q-2c",
     "locked": true,
     "solution": false
    }
   },
   "source": [
    "**(c)** (2 points) Determine the first and second derivative of $p$ and use the result to describe the shape of the function that data may have come from.  "
   ]
  },
  {
   "cell_type": "markdown",
   "metadata": {
    "nbgrader": {
     "grade": true,
     "grade_id": "A-2c",
     "locked": false,
     "points": 2,
     "solution": true
    }
   },
   "source": [
    "**Solution**\n",
    "\n",
    "Analytically, its is fairly easy to find the derivative of our interpolant:\n",
    "\n",
    "$$P_3(x) = x^3 - x$$\n",
    "\n",
    "$$P_3'(x) = 3x^2 - 1$$\n",
    "\n",
    "$$P_3''(x) = 6x$$\n",
    "\n",
    "The first derivative tells us whether the function is increasing or decreasing. Therefore, the shape of the function that our data came from will be increasing as $|x| > \\sqrt(\\frac{1}{3})$. This suggests a parabolic shape.\n",
    "\n",
    "The second derivative tells us whether the first derivative is increasing or decreasing. For the shape of the orignal function then, this translates to concavity. Thus, for $x > 0$, the function of our data should be concave up and for $x < 0$ we'll get concave down"
   ]
  },
  {
   "cell_type": "markdown",
   "metadata": {
    "nbgrader": {
     "grade": false,
     "grade_id": "Q-3d",
     "locked": true,
     "solution": false
    }
   },
   "source": [
    "**(d)** (3 points) Plot the interpolating polynomial with the data points included to verify all that you have found.  Make sure to properly label your plot.  Also mark the maxima and minima you found."
   ]
  },
  {
   "cell_type": "code",
   "execution_count": 227,
   "metadata": {
    "collapsed": false,
    "nbgrader": {
     "grade": true,
     "grade_id": "A-2d",
     "locked": false,
     "points": 3,
     "solution": true
    }
   },
   "outputs": [
    {
     "name": "stdout",
     "output_type": "stream",
     "text": [
      "Minimum is:  0.57735026919 -0.38490017946\n"
     ]
    },
    {
     "data": {
      "image/png": "[encoded data removed]",
      "text/plain": [
       "<matplotlib.figure.Figure at 0x10c85eed0>"
      ]
     },
     "metadata": {},
     "output_type": "display_data"
    }
   ],
   "source": [
    "### INSERT CODE HERE\n",
    "x_data = [0,1,2,3]\n",
    "y_data = [0,0,6,24]\n",
    "\n",
    "p_3 = lambda x: x**3 - x\n",
    "\n",
    "fig = plt.figure()\n",
    "axes = fig.add_subplot(1,1,1)\n",
    "\n",
    "x = numpy.linspace(-5,5,100)\n",
    "x_min = 1 / numpy.sqrt(3)\n",
    "axes.plot(x_data, y_data, 'ko', label=\"data points\")\n",
    "axes.plot(x,p_3(x), 'r--', label=\"P_3(x)\")\n",
    "axes.plot(x_min, p_3(x_min), 'mo', label=\"Local Minimum\")\n",
    "axes.set_title(\"Interpolation of 4 Data Points\")\n",
    "axes.set_xlabel(\"x\")\n",
    "axes.set_ylabel(\"P_3(x)\")\n",
    "axes.legend(loc=4)\n",
    "\n",
    "print \"Minimum is: \", x_min, p_3(x_min)\n",
    "\n",
    "plt.show()\n"
   ]
  },
  {
   "cell_type": "markdown",
   "metadata": {
    "nbgrader": {
     "grade": false,
     "grade_id": "Q-3",
     "locked": true,
     "solution": false
    }
   },
   "source": [
    "## Question 3\n",
    "\n",
    "Suppose we have a system of non-linear equations we want to solve.  Define\n",
    "$$\n",
    "    \\vec{x} = [x_0, x_1, \\ldots, x_n]\n",
    "$$ \n",
    "and \n",
    "$$\n",
    "    \\vec{f}(\\vec{x}) = [f_0(\\vec{x}), f_1(\\vec{x}), \\ldots, f_n(\\vec{x})] = \\vec{0}.\n",
    "$$ \n",
    "We can derive a multi-dimensional version of Newton's method by considering the multi-dimensional Taylor series around the point $\\vec{x}$ of each function $f_i$,\n",
    "$$\n",
    "    f_i(\\vec{x} + \\vec{\\delta}) = f_i(\\vec{x}) + \\sum^n_{j = 1} \\frac{\\partial f_i}{\\partial x_j} \\delta_j + \\mathcal{O}(\\Delta x^2).\n",
    "$$\n",
    "where\n",
    "$$\n",
    "    \\vec{\\delta} = [\\delta_0, \\delta_1, \\ldots, \\delta_n]\n",
    "$$\n",
    "and\n",
    "$$\n",
    "    \\Delta x = \\max_{i=0, n} \\delta_i.\n",
    "$$\n",
    "\n",
    "As we did before for Newton's method we drop the higher order terms and set $\\vec{f}(\\vec{x} + \\vec{\\delta}) = 0$ we can rewrite the above equation as\n",
    "$$\n",
    "    \\mathbf{J}(\\vec{x}) \\vec{\\delta} = -\\vec{f}(\\vec{x})\n",
    "$$\n",
    "where $\\mathbf{J}$ is the Jacobian matrix defined by\n",
    "$$\n",
    "    J_{ij} = \\frac{\\partial f_i}{\\partial x_j}.\n",
    "$$\n",
    "This is now a linear system that needs to be solved for the vector $\\vec{\\delta}$ which can then be used in the update formula\n",
    "$$\n",
    "    \\vec{x}_{i+1} = \\vec{x}_i + \\vec{\\delta}.\n",
    "$$\n",
    "\n",
    "For the rest of the question please consider the system (note that $\\log$ is the natural log)\n",
    "$$\\begin{aligned}\n",
    "    \\sin x + y^2 + \\log z - 7 = 0& \\\\\n",
    "    3 x + 2^y - z^3 + 1 = 0& \\\\\n",
    "    x + y + z - 5.0= 0&\n",
    "\\end{aligned}$$"
   ]
  },
  {
   "cell_type": "markdown",
   "metadata": {
    "nbgrader": {
     "grade": false,
     "grade_id": "Q-3a",
     "locked": true,
     "solution": false
    }
   },
   "source": [
    "**(a)** (3 points) Analytically find the Jacobian of the system of equations."
   ]
  },
  {
   "cell_type": "markdown",
   "metadata": {
    "nbgrader": {
     "grade": true,
     "grade_id": "A-3a",
     "locked": false,
     "points": 3,
     "solution": true
    }
   },
   "source": [
    "**Solution**\n",
    "\n",
    "$$J_{ij} = \\frac{\\partial f_i}{\\partial x_j}$$\n",
    "\n",
    "$$\n",
    "J_{ij} = \\begin{bmatrix} \n",
    "     cos(x) & 2y & \\frac{1}{z} \\\\\n",
    "     3 & log(2)2^y & -3z^2 \\\\\n",
    "     1 & 1 & 1 \n",
    "\\end{bmatrix}\n",
    "$$\n"
   ]
  },
  {
   "cell_type": "markdown",
   "metadata": {
    "nbgrader": {
     "grade": false,
     "grade_id": "Q-3b",
     "locked": true,
     "solution": false
    }
   },
   "source": [
    "**(b)** (3 points) Write a function that computes the Jacobian matrix given a vector $\\vec{x} = [x, y ,z]$."
   ]
  },
  {
   "cell_type": "code",
   "execution_count": 29,
   "metadata": {
    "collapsed": true,
    "nbgrader": {
     "grade": false,
     "grade_id": "A-3b",
     "locked": false,
     "solution": true
    }
   },
   "outputs": [],
   "source": [
    "def jacobian(x):\n",
    "    \"\"\"Compute the jacobian of the above function\n",
    "    \n",
    "    :Input:\n",
    "     - *x* (tuple) - x,y,z to evalaute jacobian with\n",
    "     \n",
    "    :Output:\n",
    "     - *J* (matrix) - jacobian given [x,y,z]\n",
    "    \"\"\"\n",
    "    ### INSERT CODE HERE\n",
    "    J = [[numpy.cos(x[0]), 2*x[1] , 1 / x[2]],[3, numpy.log(2)*2**x[1], -3*x[2]**2],[1,1,1]]\n",
    "    return J"
   ]
  },
  {
   "cell_type": "code",
   "execution_count": 30,
   "metadata": {
    "collapsed": false,
    "nbgrader": {
     "grade": true,
     "grade_id": "T-3b",
     "locked": true,
     "points": 3,
     "solution": false
    }
   },
   "outputs": [
    {
     "name": "stdout",
     "output_type": "stream",
     "text": [
      "Success!\n"
     ]
    }
   ],
   "source": [
    "x = (1.0, 1.0, 1.0)\n",
    "answer = jacobian(x)\n",
    "true = numpy.array([[ 0.5403023058681398, 2.0, 1.0],\n",
    "                    [ 3.0, 1.3862943611198906, -3.0],\n",
    "                    [1.0, 1.0, 1.0]])\n",
    "numpy.testing.assert_allclose(jacobian((1.0, 1.0, 1.0)), true)\n",
    "print \"Success!\""
   ]
  },
  {
   "cell_type": "markdown",
   "metadata": {
    "nbgrader": {
     "grade": false,
     "grade_id": "Q-3c",
     "locked": true,
     "solution": false
    }
   },
   "source": [
    "**(c)** (10 points) Using the function from (b) write a new function that finds the root given an initial guess $\\vec{x}_0$ using Newton's method for the system.  Use the `numpy.linalg.solve` command to solve the linear system at each step.  As a stopping criteria check that the distance of $\\vec{f}(\\vec{x})$ from $\\vec{0}$ is below the given tolerance."
   ]
  },
  {
   "cell_type": "code",
   "execution_count": 105,
   "metadata": {
    "collapsed": false,
    "nbgrader": {
     "grade": false,
     "grade_id": "A-3c",
     "locked": false,
     "solution": true
    }
   },
   "outputs": [],
   "source": [
    "def newton(x, tolerance=1e-10):\n",
    "    \"\"\"Find the root given an initial guess\n",
    "    \n",
    "    :Input:\n",
    "     - *x* (tuple) - x,y,z to evalaute jacobian with\n",
    "     - *tolerance* (scalar) - Stopping criteria for newton's method\n",
    "\n",
    "     \n",
    "    :Output:\n",
    "     - *x_arrow* (array) - roots of the system\n",
    "    \"\"\"\n",
    "    ### INSERT CODE HERE\n",
    "    #Given equations\n",
    "    f_0 = lambda x,y,z: numpy.sin(x) + y**2 + numpy.log(z) - 7\n",
    "    f_1 = lambda x,y,z: 3*x + 2**y - z**3 + 1 \n",
    "    f_2 = lambda x,y,z: x + y + z - 5.0\n",
    "    \n",
    "    #Matrix evaluated at x_arrow\n",
    "    def f_arrow(x_arrow):\n",
    "        return [f_0(x_arrow[0], x_arrow[1], x_arrow[2]), f_1(x_arrow[0], x_arrow[1], x_arrow[2]), f_2(x_arrow[0], x_arrow[1], x_arrow[2])]\n",
    "    \n",
    "    MAX_STEPS = 100\n",
    "    \n",
    "    #Check if initial guess is already within tolerance\n",
    "    x_arrow = [x[0],x[1],x[2]]\n",
    "    if(numpy.all(numpy.abs(f_arrow(x_arrow) - numpy.zeros(len(x)) < tolerance))):\n",
    "            print \"Stopping Criteria Reached\"\n",
    "            return x_arrow\n",
    "    \n",
    "    #Newton's Method  \n",
    "    for n in xrange(1, MAX_STEPS + 1):\n",
    "        delta_arrow = numpy.linalg.solve(jacobian(x_arrow), [i*-1 for i in f_arrow(x_arrow)])\n",
    "        x_arrow = numpy.add(x_arrow, delta_arrow)\n",
    "        if(numpy.all(numpy.abs(f_arrow(x_arrow) - numpy.zeros(x_arrow.shape)) < tolerance)):\n",
    "            print \"Stopping Criteria Reached\"\n",
    "            return x_arrow\n",
    "    print \"Stopping Criteria not reached - max steps reached\"\n",
    "    return x_arrow"
   ]
  },
  {
   "cell_type": "code",
   "execution_count": 106,
   "metadata": {
    "collapsed": false,
    "nbgrader": {
     "grade": true,
     "grade_id": "T-3c",
     "locked": true,
     "points": 10,
     "solution": false
    }
   },
   "outputs": [
    {
     "name": "stdout",
     "output_type": "stream",
     "text": [
      "Stopping Criteria Reached\n",
      "Success!\n"
     ]
    }
   ],
   "source": [
    "numpy.testing.assert_allclose(newton(x), numpy.array([ 0.5990537566405669, 2.3959314023778169, 2.005014840981616 ]))\n",
    "print \"Success!\""
   ]
  },
  {
   "cell_type": "markdown",
   "metadata": {
    "nbgrader": {
     "grade": false,
     "grade_id": "Q-4",
     "locked": true,
     "solution": false
    }
   },
   "source": [
    "## Question 4\n",
    "\n",
    "Consider the Lennard-Jones potential between two molecules\n",
    "$$\n",
    "    V(r) = 4 \\epsilon \\left [ \\left(\\frac{\\sigma}{r} \\right)^{12} - \\left( \\frac{\\sigma}{r} \\right)^6 \\right ]\n",
    "$$\n",
    "where $\\epsilon$ and $\\sigma$ are constants, and $r$ is the distance between the molecules."
   ]
  },
  {
   "cell_type": "markdown",
   "metadata": {
    "nbgrader": {
     "grade": false,
     "grade_id": "Q-4a",
     "locked": true,
     "solution": false
    }
   },
   "source": [
    "**(a)** (10 points) Analytically find the minimum $\\sigma / r$ that minimizes the potential.  Plot the potential and the minimum you found as a check."
   ]
  },
  {
   "cell_type": "markdown",
   "metadata": {
    "nbgrader": {
     "grade": true,
     "grade_id": "A-4a",
     "locked": false,
     "points": 10,
     "solution": true
    }
   },
   "source": [
    "**Solution**\n",
    "\n",
    "Let $v = \\frac{\\sigma}{r}$\n",
    "\n",
    "$$V(r) = 4 \\epsilon (v^{12} - v^6)$$\n",
    "$$V(r) = 4 \\epsilon v^{12} - 4 \\epsilon v^6$$\n",
    "\n",
    "\n",
    "$$V'(r) = 48 \\epsilon v^{11} - 24 \\epsilon v^5 = 0$$\n",
    "$$\\epsilon v^{11} = \\frac{1}{2} \\epsilon v^5$$\n",
    "$$v = \\frac{1}{2}^{\\frac{1}{6}}$$\n",
    "\n",
    "Plugging back in to $V(r)$\n",
    "\n",
    "$$V(r) = 4 \\epsilon ((\\frac{1}{2})^2 - \\frac{1}{2}) = -\\epsilon$$"
   ]
  },
  {
   "cell_type": "code",
   "execution_count": 110,
   "metadata": {
    "collapsed": false
   },
   "outputs": [
    {
     "name": "stdout",
     "output_type": "stream",
     "text": [
      "0.729790700964 -0.3165555 -0.3165555\n",
      "-0.310569081068\n"
     ]
    },
    {
     "data": {
      "image/png": "[encoded data removed]",
      "text/plain": [
       "<matplotlib.figure.Figure at 0x10dc68c10>"
      ]
     },
     "metadata": {},
     "output_type": "display_data"
    }
   ],
   "source": [
    "def lennard_jones(eps, sigma, r):\n",
    "    return (4.*eps)*((sigma / r)**12 - (sigma / r)**6)\n",
    "\n",
    "r = numpy.linspace(-5,5,50)\n",
    "eps = .3165555\n",
    "sigma = .6501696\n",
    "v = ((.5)**(1./6.))\n",
    "r_min = sigma / v\n",
    "print r_min, lennard_jones(eps,sigma,r_min), -1.*eps\n",
    "print numpy.min(lennard_jones(eps,sigma,r))\n",
    "\n",
    "fig = plt.figure()\n",
    "axes = fig.add_subplot(1,1,1)\n",
    "axes.plot(r, lennard_jones(eps,sigma,r), 'k', label=\"LJ Potential\")\n",
    "axes.plot(r_min, lennard_jones(eps,sigma,r_min), 'mo', label=\"minimum\")\n",
    "axes.set_title(\"Lennard Jones Potential\")\n",
    "axes.set_xlabel(\"r\")\n",
    "axes.set_ylabel(\"V(r)\")\n",
    "#axes.set_ylim(-10,10)\n",
    "axes.legend(loc=4)\n",
    "plt.show()"
   ]
  },
  {
   "cell_type": "markdown",
   "metadata": {
    "nbgrader": {
     "grade": false,
     "grade_id": "Q-4b",
     "locked": true,
     "solution": false
    }
   },
   "source": [
    "**(b)** (10 points) Using Golden section search compute the minimum of the potential numerically down to a bracket size of $10^{-6}$.  Plot the convergence to the true solution you found (the location) above at each step of the algorithm.  Also plot the potential and the minimum you found.  You can choose any value of $\\epsilon$ you want."
   ]
  },
  {
   "cell_type": "code",
   "execution_count": 233,
   "metadata": {
    "collapsed": false,
    "nbgrader": {
     "grade": true,
     "grade_id": "A-4b",
     "locked": false,
     "points": 10,
     "solution": true
    }
   },
   "outputs": [
    {
     "name": "stdout",
     "output_type": "stream",
     "text": [
      "Success!\n",
      "  t* = 0.890898727731\n",
      "  f(t*) = -0.3165555\n",
      "  number of steps = 31\n"
     ]
    },
    {
     "data": {
      "image/png": "[encoded data removed]",
      "text/plain": [
       "<matplotlib.figure.Figure at 0x10d5276d0>"
      ]
     },
     "metadata": {},
     "output_type": "display_data"
    }
   ],
   "source": [
    "### INSERT CODE HERE\n",
    "eps = .3165555\n",
    "f = lambda x: (4*eps) * (x**12 - x**6)\n",
    "\n",
    "phi = (numpy.sqrt(5.0) - 1.0) / 2.0\n",
    "\n",
    "TOLERANCE = 1e-6\n",
    "MAX_STEPS = 100\n",
    "\n",
    "x = [0.1, None, None, 2.0]\n",
    "x[1] = x[3] - phi * (x[3] - x[0])\n",
    "x[2] = x[0] + phi * (x[3] - x[0])\n",
    "\n",
    "t = numpy.linspace(-2, 2, 200)\n",
    "fig = plt.figure()\n",
    "\n",
    "axes = fig.add_subplot(1, 1, 1)\n",
    "axes.plot(t, f(t), 'r')\n",
    "axes.set_xlabel(\"v\")\n",
    "axes.set_ylabel(\"V(v)\")\n",
    "axes.set_title(\"Golden Section Search\")\n",
    "v = ((.5)**(1./6.))\n",
    "axes.plot(v, f(v), 'mo', label=\"Minimum\")\n",
    "axes.plot(v*numpy.ones(t.shape), f(t), 'k--', label=\"True Solution v\")\n",
    "axes.plot(t, f(v)*numpy.ones(t.shape), 'k--', label=\"True Solution f(v)\")\n",
    "\n",
    "success = False\n",
    "for n in xrange(1, MAX_STEPS + 1):\n",
    "    axes.plot(x[0], f(x[0]),'ko')\n",
    "    axes.plot(x[3], f(x[3]),'ko')\n",
    "    if n % (int(MAX_STEPS / 4)) == 0 or n == 1:\n",
    "        axes.text(x[0], f(x[0]), str(n), fontsize=\"15\")\n",
    "        axes.text(x[3], f(x[3]), str(n), fontsize=\"15\")\n",
    "    f_1 = f(x[1])\n",
    "    f_2 = f(x[2])\n",
    "    \n",
    "    if f_1 < f_2:\n",
    "        x[3] = x[2]\n",
    "        x[2] = x[1]\n",
    "        x[1] = x[3] - phi * (x[3] - x[0])\n",
    "    else:\n",
    "        x[0] = x[1]\n",
    "        x[1] = x[2]\n",
    "        x[2] = x[0] + phi * (x[3] - x[0])\n",
    "        \n",
    "    if numpy.abs(x[3] - x[0]) < TOLERANCE:\n",
    "        success = True\n",
    "        break\n",
    "        \n",
    "if success:\n",
    "    print \"Success!\"\n",
    "    print \"  t* = %s\" % str((x[3] + x[0]) / 2.0)\n",
    "    print \"  f(t*) = %s\" % f((x[3] + x[0]) / 2.0)\n",
    "    print \"  number of steps = %s\" % n\n",
    "else:\n",
    "    print \"Reached maximum number of steps!\"\n",
    "\n",
    "axes.legend()  \n",
    "plt.show()"
   ]
  },
  {
   "cell_type": "markdown",
   "metadata": {},
   "source": [
    "**Comments**\n",
    "\n",
    "The above graph shows the golden search method is indeed getting closer to the minimum, signified by the dotted vertical line. Moreover, f(t) does indeed equal $-\\epsilon$ as expected."
   ]
  },
  {
   "cell_type": "markdown",
   "metadata": {
    "nbgrader": {
     "grade": false,
     "grade_id": "Q-5",
     "locked": true,
     "solution": false
    }
   },
   "source": [
    "## Question 5\n",
    "\n",
    "The equation for an ellipse is $x^2/a^2 + y^2/b^2=1$.  The general equation for arc-length and therfore the circumference of an ellipse can be computed using\n",
    "$$\n",
    "    S = 2 \\int^a_{-a} \\sqrt{1 + (\\text{d}y/\\text{d}x)^2} dx.\n",
    "$$"
   ]
  },
  {
   "cell_type": "markdown",
   "metadata": {
    "nbgrader": {
     "grade": false,
     "grade_id": "Q-5a",
     "locked": true,
     "solution": false
    }
   },
   "source": [
    "**(a)** (3 points) We can approximate the circumference by following a paper by Srinivasa Ramanujan in 1914 [1] where\n",
    "$$\n",
    "    S \\approx \\pi (a + b) \\left ( 1 + \\frac{3 h}{10 + \\sqrt{4 - 3 h}} \\right )\n",
    "$$\n",
    "\n",
    "which is $h^5$ order accurate where \n",
    "$$\n",
    "    h = \\frac{(a-b)^2}{(a + b)^2}.\n",
    "$$\n",
    "Implement a function that computes the approximation using Ramanujan's result.\n",
    "\n",
    "1. Ramanujan, Srinivasa, (1914). \"Modular Equations and Approximations to $\\pi$\". \n",
    "   Quart. J. Pure App. Math. 45: 350-372."
   ]
  },
  {
   "cell_type": "code",
   "execution_count": 107,
   "metadata": {
    "collapsed": true,
    "nbgrader": {
     "grade": false,
     "grade_id": "A-5a",
     "locked": false,
     "solution": true
    }
   },
   "outputs": [],
   "source": [
    "def S_ramanujan(a, b):\n",
    "    ### INSERT CODE HERE\n",
    "    h = (a-b)**2 / (a+b)**2\n",
    "    S = numpy.pi*(a+b)*(1+(3*h / (10 + numpy.sqrt(4-3*h))))\n",
    "    return S"
   ]
  },
  {
   "cell_type": "code",
   "execution_count": 108,
   "metadata": {
    "collapsed": false,
    "nbgrader": {
     "grade": true,
     "grade_id": "T-5a",
     "locked": true,
     "points": 3,
     "solution": false
    }
   },
   "outputs": [
    {
     "name": "stdout",
     "output_type": "stream",
     "text": [
      "Computed = 11.8037253012\n",
      "True = 11.803725302\n",
      "Error = 7.2932593298e-10\n",
      "Success!\n"
     ]
    }
   ],
   "source": [
    "x = numpy.random.random((2)) * 2.0 + 1.0\n",
    "x.sort()\n",
    "import scipy.special\n",
    "S_exact = lambda a, b: 4.0 * a * scipy.special.ellipe(1.0 - b**2 / a**2)\n",
    "computed = S_ramanujan(x[1], x[0])\n",
    "true = S_exact(x[1], x[0])\n",
    "print \"Computed = %s\" % computed\n",
    "print \"True = %s\" % true\n",
    "print \"Error = %s\" % (numpy.abs(computed - true))\n",
    "numpy.testing.assert_allclose(computed, true)\n",
    "print \"Success!\""
   ]
  },
  {
   "cell_type": "markdown",
   "metadata": {
    "nbgrader": {
     "grade": false,
     "grade_id": "Q-5b",
     "locked": true,
     "solution": false
    }
   },
   "source": [
    "**(b)** (10 points) Another way to compute the circumference is to use a series due to Ivory and Bessel (you can find the original papers online which may be worth a look).  One way to write this series is\n",
    "\n",
    "$$S = \\pi (a + b) \\sum^{\\infty}_{n=0} \\left(\\begin{aligned} 0.5 \\\\ n~~ \\end{aligned} \\right)^2 h^n ~~~~~ \\text{with} ~~~~~~ h = \\frac{(a - b)^2}{(a+b)^2}$$\n",
    "\n",
    "where $\\left(\\begin{aligned} 0.5 \\\\ n~~ \\end{aligned} \\right)$ is the binomial coefficient which can be computed via a `scipy` function.  Write a function to compute this series to a point where the difference between the partial sums is less than $\\epsilon_{\\text{machine}}$."
   ]
  },
  {
   "cell_type": "code",
   "execution_count": 127,
   "metadata": {
    "collapsed": false,
    "nbgrader": {
     "grade": false,
     "grade_id": "A-5b",
     "locked": false,
     "solution": true
    }
   },
   "outputs": [],
   "source": [
    "def S_ivory(a, b):\n",
    "    ### INSERT CODE HERE\n",
    "    import scipy.special as sp\n",
    "    tolerance = numpy.finfo(float).eps\n",
    "    h = (a-b)**2 / (a+b)**2\n",
    "    \n",
    "    N = 1000\n",
    "    \n",
    "    #Horner's Method\n",
    "    p = numpy.array([sp.binom(.5,n-1)**2 for n in xrange(N+1, 0, -1)])\n",
    "    y = p[0]\n",
    "    for i,coef in enumerate(p[1:]):\n",
    "        y = y*h + coef\n",
    "        if i+2 <= N:\n",
    "            y_next = y*h + p[i+2]\n",
    "        else:\n",
    "            y_next = y\n",
    "        if numpy.abs(y_next - y) < tolerance:\n",
    "            print \"Tolerance Reached\"\n",
    "            break\n",
    "    S = numpy.pi*(a+b)*y\n",
    "    return S"
   ]
  },
  {
   "cell_type": "code",
   "execution_count": 128,
   "metadata": {
    "collapsed": false,
    "nbgrader": {
     "grade": true,
     "grade_id": "T-5b",
     "locked": true,
     "points": 10,
     "solution": false
    }
   },
   "outputs": [
    {
     "name": "stdout",
     "output_type": "stream",
     "text": [
      "Tolerance Reached\n",
      "Computed = 13.4877298015\n",
      "True = 13.4877298015\n",
      "Error = 1.7763568394e-15\n",
      "Success!\n"
     ]
    }
   ],
   "source": [
    "x = numpy.random.random((2)) * 2.0 + 1.0\n",
    "x.sort()\n",
    "import scipy.special\n",
    "S_exact = lambda a, b: 4.0 * a * scipy.special.ellipe(1.0 - b**2 / a**2)\n",
    "computed = S_ivory(x[1], x[0])\n",
    "true = S_exact(x[1], x[0])\n",
    "print \"Computed = %s\" % computed\n",
    "print \"True = %s\" % true\n",
    "print \"Error = %s\" % (numpy.abs(computed - true))\n",
    "numpy.testing.assert_allclose(computed, true)\n",
    "print \"Success!\""
   ]
  },
  {
   "cell_type": "markdown",
   "metadata": {
    "nbgrader": {
     "grade": false,
     "grade_id": "Q-5c",
     "locked": true,
     "solution": false
    }
   },
   "source": [
    "**(c)** (5 points) Derive an expression for the integrand using implicit differentiation."
   ]
  },
  {
   "cell_type": "markdown",
   "metadata": {
    "nbgrader": {
     "grade": true,
     "grade_id": "A-5c",
     "locked": false,
     "points": 5,
     "solution": true
    }
   },
   "source": [
    "**Solution**\n",
    "\n",
    "$$S = 2 \\int^a_{-a} \\sqrt{1 + (\\text{d}y/\\text{d}x)^2} dx$$\n",
    "\n",
    "$$x^2/a^2 + y^2/b^2=1$$\n",
    "\n",
    "We want an expression for $\\frac{dy}{dx}$:\n",
    "\n",
    "$$\\frac{2x}{a^2} + \\frac{2y}{b^2}\\frac{dy}{dx} = 0$$\n",
    "\n",
    "$$\\frac{dy}{dx} = -\\frac{2x}{a^2}\\frac{b^2}{2y} = -\\frac{xb^2}{ya^2}$$\n",
    "\n",
    "Plugging into our arc length forumula, the integrand now becomes:\n",
    "\n",
    "$$S = 2 \\int^a_{-a} \\sqrt{1 + \\frac{x^2b^4}{y^2a^4}} dx$$\n",
    "\n",
    "We still have a y term in this equation that we dont want. Therefore, we can substitute from the initial relationship the term: $y = \\sqrt{b^2 - \\frac{x^2b^2}{a^2}}$\n",
    "\n",
    "This gives us:\n",
    "\n",
    "$$S = 2 \\int^a_{-a} \\sqrt{1 + \\frac{x^2b^4}{(b^2 - \\frac{x^2b^2}{a^2})a^4}} dx$$\n",
    "$$S = 2 \\int^a_{-a} \\sqrt{1 + \\frac{x^2b^2}{a^4 - x^2a^2}} dx$$\n",
    "\n"
   ]
  },
  {
   "cell_type": "markdown",
   "metadata": {
    "nbgrader": {
     "grade": false,
     "grade_id": "Q-5d",
     "locked": true,
     "solution": false
    }
   },
   "source": [
    "**(d)** (10 points) Write a function that computes the integral to a given tolerance.  Note that this may converge very slowly so use a high enough order quadrature rule so that the computation takes less than a minute to do (this will result in an error otherwise).  Suggested largest $N$ is $1000$.  If the integration does not succeed raise a `ValueError`.  Use the `S_exact` function used in the tests above to evaluate the tolerance."
   ]
  },
  {
   "cell_type": "code",
   "execution_count": 167,
   "metadata": {
    "collapsed": false,
    "nbgrader": {
     "grade": false,
     "grade_id": "A-5d",
     "locked": false,
     "solution": true
    }
   },
   "outputs": [],
   "source": [
    "def S_direct(a, b, tolerance):\n",
    "    \"\"\"Compute the integral above\n",
    "    \n",
    "    :Input:\n",
    "     - *a* (scalar) - given constant for ellipse axis\n",
    "     - *b* (scalar) - given constant for ellipse axis\n",
    "     - *tolerance* (scalar) - Stopping criteria for quadrature method\n",
    "\n",
    "     \n",
    "    :Output:\n",
    "     - *S* (scalar) - computed integral\n",
    "    \"\"\"    \n",
    "    ### INSERT CODE HERE\n",
    "    f = lambda x: numpy.sqrt(1+((x**2)*(b**2)) / (a**4 - ((x**2) * (a**2)) ) )\n",
    "    \n",
    "    N = 1000\n",
    "    x = numpy.linspace(-1*a, a, N+1)\n",
    "    delta_x = x[1] - x[0]\n",
    "    \n",
    "    #3-point Gaussian Method\n",
    "    xi_map = lambda a,b,xi : (b - a) / 2.0 * xi + (a + b) / 2.0\n",
    "    xi_0 = -numpy.sqrt(3.0 / 5.0)\n",
    "    xi_1 =  numpy.sqrt(3.0 / 5.0)\n",
    "    suc_flag = False\n",
    "    \n",
    "    Qf = numpy.zeros(x.shape)\n",
    "    Qf = (((8.0/9.0) * f(xi_map(x[0],x[1],0))) + (5.0/9.0)*(f(xi_map(x[0], x[1],xi_0)) + f(xi_map(x[0],x[1],xi_1)))) * (delta_x/2.0)\n",
    "    for i in xrange(1, N):\n",
    "        Qf += (((8.0/9.0) * f(xi_map(x[i],x[i+1],0))) + (5.0/9.0)*(f(xi_map(x[i], x[i+1],xi_0)) + f(xi_map(x[i],x[i+1],xi_1)))) * (delta_x/2.0)\n",
    "        if numpy.abs(2.*Qf - S_exact(a, b)) < tolerance:\n",
    "            print \"Tolerance reached!\"\n",
    "            suc_flag = True\n",
    "            break\n",
    "    if suc_flag == False:\n",
    "        raise ValueError(\"Integration Failed\")\n",
    "    return 2.*Qf"
   ]
  },
  {
   "cell_type": "code",
   "execution_count": 168,
   "metadata": {
    "collapsed": false,
    "nbgrader": {
     "grade": true,
     "grade_id": "T-5d",
     "locked": true,
     "points": 10,
     "solution": false
    }
   },
   "outputs": [
    {
     "name": "stdout",
     "output_type": "stream",
     "text": [
      "Tolerance reached!\n",
      "Computed = 12.0687242917\n",
      "True = 12.1186822066\n",
      "Error = 0.0499579148425\n",
      "Success!\n"
     ]
    }
   ],
   "source": [
    "x = numpy.random.random((2)) * 2.0 + 1.0\n",
    "x.sort()\n",
    "import scipy.special\n",
    "S_exact = lambda a, b: 4.0 * a * scipy.special.ellipe(1.0 - b**2 / a**2)\n",
    "tolerance = 1e-1\n",
    "computed = S_direct(x[1], x[0], tolerance)\n",
    "true = S_exact(x[1], x[0])\n",
    "print \"Computed = %s\" % computed\n",
    "print \"True = %s\" % true\n",
    "print \"Error = %s\" % (numpy.abs(computed - true))\n",
    "numpy.testing.assert_allclose(computed, true, atol=tolerance)\n",
    "print \"Success!\""
   ]
  },
  {
   "cell_type": "markdown",
   "metadata": {
    "nbgrader": {
     "grade": false,
     "grade_id": "Q-5e",
     "locked": true,
     "solution": false
    }
   },
   "source": [
    "**(e)** (10 points) Note that we have been using a special function from SciPy called `ellipe`.  This function computes the elliptic integral of the second kind\n",
    "$$\n",
    "    E(e) = \\int^{\\pi/2}_0 \\sqrt{1 - e^2 \\sin^2 \\theta} d\\theta\n",
    "$$\n",
    "which is the arc-length over one quadrant of the ellipse.  The value $e$ is the eccentricity defined as\n",
    "$$\n",
    "    e = \\sqrt{1 - b^2 / a^2}\n",
    "$$\n",
    "where here we need to define $a$ as the major-axis and $b$ the minor-axis of the ellipse (this definition is slightly different than the one in SciPy which we have been accommodating).  Elliptic integrals are a broad class of special functions that all arose from attempts at computing things related to ellipses.\n",
    "\n",
    "Again write a function that computes the circumference of an ellipse to a provided tolerance but using this formulation of the problem.  If the integration does not succeed raise a `ValueError`.  Remember that computing the function above only gives you one quarter of the circumference and to find the total circumference you want to use\n",
    "$$\n",
    "    S = 4 a E(e).\n",
    "$$"
   ]
  },
  {
   "cell_type": "code",
   "execution_count": 234,
   "metadata": {
    "collapsed": true,
    "nbgrader": {
     "grade": false,
     "grade_id": "A-5e",
     "locked": false,
     "solution": true
    }
   },
   "outputs": [],
   "source": [
    "def S_elliptic_integral(a, b, tolerance):\n",
    "    \"\"\"Compute the integral above\n",
    "    \n",
    "    :Input:\n",
    "     - *a* (scalar) - given constant for ellipse axis\n",
    "     - *b* (scalar) - given constant for ellipse axis\n",
    "     - *tolerance* (scalar) - Stopping criteria for quadrature method\n",
    "\n",
    "     \n",
    "    :Output:\n",
    "     - *S* (scalar) - computed integral\n",
    "     \"\"\"\n",
    "    ### INSERT CODE HERE\n",
    "    f = lambda x: numpy.sqrt(1 - numpy.sin(x)**2 + (b**2 / a**2)*numpy.sin(x)**2)\n",
    "    \n",
    "    N = 100\n",
    "    x = numpy.linspace(0.0, numpy.pi / 2, N+1)\n",
    "    delta_x = x[1] - x[0]\n",
    "    \n",
    "    #3-point Gaussian\n",
    "    xi_map = lambda a,b,xi : (b - a) / 2.0 * xi + (a + b) / 2.0\n",
    "    xi_0 = -numpy.sqrt(3.0 / 5.0)\n",
    "    xi_1 =  numpy.sqrt(3.0 / 5.0)\n",
    "    suc_flag = False\n",
    "    \n",
    "    Qf = (((8.0/9.0) * f(xi_map(x[0],x[1],0))) + (5.0/9.0)*(f(xi_map(x[0], x[1],xi_0)) + f(xi_map(x[0],x[1],xi_1)))) * (delta_x/2.0)\n",
    "    for i in xrange(1, N):\n",
    "        Qf += (((8.0/9.0) * f(xi_map(x[i],x[i+1],0))) + (5.0/9.0)*(f(xi_map(x[i], x[i+1],xi_0)) + f(xi_map(x[i],x[i+1],xi_1)))) * (delta_x/2.0)\n",
    "        if numpy.abs(4.0*a*Qf - S_exact(a, b)) < tolerance:\n",
    "            print \"Tolerance reached!\"\n",
    "            suc_flag = True\n",
    "            break\n",
    "    if suc_flag == False:\n",
    "        raise ValueError(\"Integration Failed\")\n",
    "    S = 4.0*a*Qf\n",
    "    return S"
   ]
  },
  {
   "cell_type": "code",
   "execution_count": 235,
   "metadata": {
    "collapsed": false,
    "nbgrader": {
     "grade": true,
     "grade_id": "T-5e",
     "locked": true,
     "points": 10,
     "solution": false
    }
   },
   "outputs": [
    {
     "name": "stdout",
     "output_type": "stream",
     "text": [
      "Tolerance reached!\n",
      "Computed = 11.1031048071\n",
      "True = 11.1031048071\n",
      "Error = 7.1054273576e-15\n",
      "Success!\n"
     ]
    }
   ],
   "source": [
    "x = numpy.random.random((2)) * 2.0 + 1.0\n",
    "x.sort()\n",
    "import scipy.special\n",
    "S_exact = lambda a, b: 4.0 * a * scipy.special.ellipe(1.0 - b**2 / a**2)\n",
    "tolerance = 1e-10\n",
    "computed = S_elliptic_integral(x[1], x[0], tolerance)\n",
    "true = S_exact(x[1], x[0])\n",
    "print \"Computed = %s\" % computed\n",
    "print \"True = %s\" % true\n",
    "print \"Error = %s\" % (numpy.abs(computed - true))\n",
    "numpy.testing.assert_allclose(computed, true, atol=tolerance)\n",
    "print \"Success!\""
   ]
  },
  {
   "cell_type": "code",
   "execution_count": null,
   "metadata": {
    "collapsed": true
   },
   "outputs": [],
   "source": []
  }
 ],
 "metadata": {
  "anaconda-cloud": {},
  "kernelspec": {
   "display_name": "Python [Root]",
   "language": "python",
   "name": "Python [Root]"
  },
  "language_info": {
   "codemirror_mode": {
    "name": "ipython",
    "version": 2
   },
   "file_extension": ".py",
   "mimetype": "text/x-python",
   "name": "python",
   "nbconvert_exporter": "python",
   "pygments_lexer": "ipython2",
   "version": "2.7.12"
  },
  "latex_envs": {
   "bibliofile": "biblio.bib",
   "cite_by": "apalike",
   "current_citInitial": 1,
   "eqLabelWithNumbers": true,
   "eqNumInitial": 0
  }
 },
 "nbformat": 4,
 "nbformat_minor": 0
}
