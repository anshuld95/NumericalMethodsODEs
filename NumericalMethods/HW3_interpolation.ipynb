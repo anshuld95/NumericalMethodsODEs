{
 "cells": [
  {
   "cell_type": "code",
   "execution_count": 1,
   "metadata": {
    "collapsed": false,
    "nbgrader": {
     "grade": false,
     "grade_id": "header1",
     "locked": false,
     "solution": false
    }
   },
   "outputs": [],
   "source": [
    "%matplotlib inline\n",
    "import numpy\n",
    "import matplotlib.pyplot as plt"
   ]
  },
  {
   "cell_type": "markdown",
   "metadata": {
    "nbgrader": {
     "grade": false,
     "grade_id": "header2",
     "locked": true,
     "solution": false
    }
   },
   "source": [
    "Before you turn this problem in, make sure everything runs as expected. First, restart the kernel (in the menubar, select Kernel $\\rightarrow$ Restart) and then run all cells (in the menubar, select Cell $\\rightarrow$ Run All).\n",
    "\n",
    "Make sure you fill in any place that says YOUR CODE HERE or \"YOUR ANSWER HERE\", as well as your name and collaborators below:"
   ]
  },
  {
   "cell_type": "markdown",
   "metadata": {},
   "source": [
    "**Name**: Anshul Doshi (ad3222)\n",
    "**Collaborators**: Edwin Vargas"
   ]
  },
  {
   "cell_type": "markdown",
   "metadata": {
    "nbgrader": {
     "grade": false,
     "grade_id": "header3",
     "locked": true,
     "solution": false
    }
   },
   "source": [
    "# HW 3:  Interpolation"
   ]
  },
  {
   "cell_type": "markdown",
   "metadata": {
    "nbgrader": {
     "grade": false,
     "grade_id": "Q1",
     "locked": true,
     "solution": false
    }
   },
   "source": [
    "## Question 1\n",
    "\n",
    "Consider data at three points $(x_0, y_0) = (0, 0)$, $(x_1, y_1) = (1, 2)$, and $(x_2, y_2) = (2, 2)$."
   ]
  },
  {
   "cell_type": "markdown",
   "metadata": {
    "nbgrader": {
     "grade": false,
     "grade_id": "Q1-a",
     "locked": true,
     "solution": false
    }
   },
   "source": [
    "**(a)** (20 points) Analytically find the interpolating polynomial $P(x)$ in the basis\n",
    "1. Monomial: $P(x) = p_0 + p_1 x + p_2 x^2$\n",
    "1. Newton: $P(x) = \\sum^2_{i=0} a_i n_i(x)$"
   ]
  },
  {
   "cell_type": "markdown",
   "metadata": {
    "nbgrader": {
     "grade": true,
     "grade_id": "A1-a",
     "locked": false,
     "points": 20,
     "solution": true
    }
   },
   "source": [
    "**Monomial Solution**\n",
    "\n",
    "Consider $P_2(x) = p_0 + p_1 x + p_2 x^2$ with the three data points. We have three equations and three unknowns as expected:\n",
    "\n",
    "$$P_2(x_0) = p_0 + p_1 x_0 + p_2 x_0^2  = y_0$$\n",
    "\n",
    "$$P_2(x_1) = p_0 + p_1 x_1 + p_2 x_1^2 = y_1$$\n",
    "\n",
    "$$P_2(x_2) = p_0 + p_1 x_2 + p_2 x_2^2 = y_2$$\n",
    "\n",
    "Using the Vandermonde Matrix:\n",
    "\n",
    "$$\n",
    "V = \\begin{bmatrix} \n",
    "     1 & x_0 & x_0^2 & x_0^3 \\\\\n",
    "     1 & x_1 & x_1^2 & x_1^3 \\\\\n",
    "     1 & x_2 & x_2^2 & x_2^3 \n",
    "\\end{bmatrix}\n",
    "$$\n",
    "\n",
    "$$\\begin{bmatrix} \n",
    "     1 & x_0 & x_0^2  \\\\\n",
    "     1 & x_1 & x_1^2  \\\\\n",
    "     1 & x_2 & x_2^2  \n",
    "\\end{bmatrix} \\begin{bmatrix} p_0 \\\\ p_1 \\\\ p_2  \\end{bmatrix} = \\begin{bmatrix} y_0 \\\\ y_1 \\\\ y_2 \\end{bmatrix}$$\n",
    "\n",
    "Plugging in our given data points:\n",
    "\n",
    "$$\\begin{bmatrix} \n",
    "     1 & 0 & 0  \\\\\n",
    "     1 & 1 & 1  \\\\\n",
    "     1 & 2 & 4  \n",
    "\\end{bmatrix} \\begin{bmatrix} p_0 \\\\ p_1 \\\\ p_2  \\end{bmatrix} = \\begin{bmatrix} y_0 \\\\ y_1 \\\\ y_2 \\end{bmatrix}$$\n",
    "\n",
    "Solving for our coefficents p:\n",
    "\n",
    "$$p_0 = 0$$\n",
    "$$p_1 + p_2 = 2$$\n",
    "$$2p_1 + 4p_2 = 2$$\n",
    "\n",
    "Solving this systems gives:\n",
    "\n",
    "$$p_0 = 0, p_1 = 3, p_2 = -1$$\n",
    "\n",
    "Therefore our polynomial is:\n",
    "\n",
    "$$P_2 = 3x - x^2$$\n",
    "\n",
    "**Newton's Method**\n",
    "\n",
    "In general then $P_N(x)$ can be written in Newton's form as\n",
    "\n",
    "$$P_N(x) = y_0 + (x-x_0)[y_0, y_1] + (x - x_0) (x - x_1) [y_0, y_1, y_2] + \\cdots + (x-x_0) (x-x_1) \\cdots (x-x_{N-1}) [y_0, y_1, \\ldots, y_{N}]$$\n",
    "\n",
    "In our case with three points we have:\n",
    "\n",
    "$$P_2(x) = y_0 + (x-x_0)[y_0, y_1] + (x - x_0) (x - x_1) [y_0, y_1, y_2]$$\n",
    "\n",
    "Solving for the bracketed quantities:\n",
    "\n",
    "$$[y_0] = y_0 = 0$$\n",
    "\n",
    "$$[y_0, y_1] = \\frac{y_1 - y_0}{x_1 - x_0} = \\frac{2}{1} = 2$$\n",
    "\n",
    "$$[y_0, y_1, y_2] = \\frac{[y_1, y_2] - [y_0, y_1]}{x_{2} - x_{0}} = \\frac{\\frac{y_2 - y_1}{x_2 - x_1} - \\frac{y_1 - y_0}{x_1 - x_0}}{x_2 - x_0} = \\frac{y_2 - y_1}{(x_2 - x_1)(x_2 - x_0)} - \\frac{y_1 - y_0}{(x_1 - x_0)(x_2 - x_0)} = 0 - \\frac{2}{2} = -1$$\n",
    "\n",
    "Plugging in:\n",
    "\n",
    "$$P_2(x) = 0 + (x)(2) + (x) (x - 1)(-1) = 2x - x^2 + x$$\n",
    "\n",
    "$$P_2(x) = 3x - x^2$$\n"
   ]
  },
  {
   "cell_type": "markdown",
   "metadata": {
    "nbgrader": {
     "grade": false,
     "grade_id": "Q1-b",
     "locked": true,
     "solution": false
    }
   },
   "source": [
    "**(b)** (10 points) Show that these all lead to the same polynomial (show that $P(x)$ is in fact unique)."
   ]
  },
  {
   "cell_type": "markdown",
   "metadata": {
    "nbgrader": {
     "grade": true,
     "grade_id": "A1-b",
     "locked": false,
     "points": 10,
     "solution": true
    }
   },
   "source": [
    "**Solution/Proof**\n",
    "\n",
    "Consider the two general forms of the Monomial and Newton method polynomials:\n",
    "\n",
    "$$P_2(x) = p_0 + p_1 x + p_2 x^2$$\n",
    "\n",
    "$$P_2(x) = y_0 + (x-x_0)[y_0, y_1] + (x - x_0) (x - x_1) [y_0, y_1, y_2]$$\n",
    "\n",
    "Assume there exists a newton polynomial \n",
    "\n",
    "$$Q_N(x) = \\sum^N_{j=0} a_j n_j(x)$$\n",
    "\n",
    "that passes through the same set of points such that $Q_N(x_i) = y_i$.  Now compute $T_N(x) = P_N(x) - Q_N(x)$:\n",
    "\n",
    "We know that by assumption that $T_N(x_i) = 0$:\n",
    "\n",
    "$$T_N(x) = P_N(x) - Q_N(x) = \\sum^N_{n=0} p_n x^n - a_j n_j(x)$$\n",
    "\n",
    "Plugging $x=x_i$:\n",
    "\n",
    "$$T_N(x_i) = P_N(x_i) - Q_N(x_i) = \\sum^N_{n=0} p_n x_i^n - a_j n_j(x_i) = y_i - y_i = 0$$\n",
    "\n",
    "By definition $n_j(x) is$\n",
    "\n",
    "$$n_j(x) = \\prod^{j-1}_{i=0} (x - x_i)$$\n",
    "\n",
    "Therefore, after plugging in $x=x_i$ this product will contain an $x_i^N$ term which we can factor out, leaving some function behind R(x).\n",
    "\n",
    "Thus, we get:\n",
    "\n",
    "$$T_N(x_i) = \\sum^N_{n=0} (p_n- (a_j)(R(x)))(x_i^N)$$\n",
    "\n",
    "\n",
    "But if $T_N(x_i) = 0$ implies that $p_n - (a_j)R(x) = 0$ individually and therefore $P_N(x) = Q_N(x)$.\n",
    "\n",
    "From the previous part we can see that the polynomials are indeed the same:\n",
    "\n",
    "$$\\text{Monomial Basis } P_n(x) = 3x - x^2$$\n",
    "\n",
    "$$\\text{Newton Basis } P_n(x) = 3x - x^2$$"
   ]
  },
  {
   "cell_type": "markdown",
   "metadata": {
    "nbgrader": {
     "grade": false,
     "grade_id": "Q1-c",
     "locked": true,
     "solution": false
    }
   },
   "source": [
    "**(c)** (10 points) Use the uniqueness of the interpolating polynomial to show that for general $N+1$ points\n",
    "\n",
    "$$\\sum^N_{i=0} \\ell_i(x) = 1$$\n",
    "\n",
    "at any value of $x$ (i.e. the interpolant of a constant is a constant regardless of $N$).\n",
    "\n",
    "Hint:  Consider the Newton polynomial form and uniqueness."
   ]
  },
  {
   "cell_type": "markdown",
   "metadata": {
    "nbgrader": {
     "grade": true,
     "grade_id": "A1-c",
     "locked": false,
     "points": 10,
     "solution": true
    }
   },
   "source": [
    "**Solution**\n",
    "\n",
    "By uniqueness of the interpolating polynomial consider:\n",
    "\n",
    "$$P_N(x) = \\sum^{N}_{i=0} y_i \\ell_i(x) = \\sum^N_{j=0} a_j n_j(x)$$\n",
    "\n",
    "We want to show that: \n",
    "\n",
    "$$\\sum^N_{i=0} \\ell_i(x) = 1$$\n",
    "\n",
    "Thus:\n",
    "\n",
    "$$\\sum^N_{i=0} \\ell_i(x) = \\sum^N_{j=0} \\frac{a_j n_j(x)}{y_j}$$\n",
    "\n",
    "General Newton Polynomial Form:\n",
    "\n",
    "$$P_N(x) = y_0 + (x-x_0)[y_0, y_1] + (x - x_0) (x - x_1) [y_0, y_1, y_2] + \\cdots + (x-x_0) (x-x_1) \\cdots (x-x_{N-1}) [y_0, y_1, \\ldots, y_{N}]$$\n",
    "\n",
    "Dividing by $y_j$\n",
    "\n",
    "$$P_N(x) = \\frac{1}{y_0}y_0 + \\frac{1}{y_1}(x-x_0)[y_0, y_1] + \\frac{1}{y_2}(x - x_0) (x - x_1) [y_0, y_1, y_2] + \\cdots + \\frac{1}{y_n}(x-x_0) (x-x_1) \\cdots (x-x_{N-1}) [y_0, y_1, \\ldots, y_{N}]$$\n",
    "\n",
    "However, since we are interpolating a constant function, all the divided differences will be 0 and all that remains is:\n",
    "\n",
    "$$P_N(x) = \\frac{1}{y_0}y_0 = 1$$\n"
   ]
  },
  {
   "cell_type": "markdown",
   "metadata": {
    "nbgrader": {
     "grade": false,
     "grade_id": "Q2",
     "locked": true,
     "solution": false
    }
   },
   "source": [
    "## Question 2\n",
    "\n",
    "(10 points) The $n$th Chebyshev polynomial is characterized (up to a constant) by the identity\n",
    "\n",
    "$$T_n(\\cos \\theta) = \\cos (n \\theta)$$\n",
    "\n",
    "Use this identity to show that the Chebyshev polynomials are orthogonal on $x\\in[-1,1]$ with respect to the weight\n",
    "\n",
    "$$w(x) = \\frac{1}{\\sqrt{1 - x^2}}$$\n",
    "\n",
    "To do this you must prove that\n",
    "\n",
    "$$\\int^1_{-1} w(x) T_n(x) T_m(x) dx = \\left \\{ \\begin{aligned} a & ~ & m = n \\\\ 0 & ~ & m \\neq n \\end{aligned} \\right .$$\n",
    "\n",
    "where $a$ is a finite constant (also find this coefficient)."
   ]
  },
  {
   "cell_type": "markdown",
   "metadata": {
    "nbgrader": {
     "grade": true,
     "grade_id": "A2",
     "locked": false,
     "points": 10,
     "solution": true
    }
   },
   "source": [
    "**Solution**\n",
    "\n",
    "Let $x = cos(\\theta)$ and $\\frac{dx}{d\\theta} = -sin(\\theta)$\n",
    "\n",
    "Plugging into our $w(x)$ formula:\n",
    "\n",
    "$$w(x) = \\frac{1}{\\sqrt{1 - x^2}} = \\frac{1}{\\sqrt{1 - cos^2(\\theta)}} = \\frac{1}{sin(\\theta)}$$\n",
    "\n",
    "We must change where we are evaluating the integral:\n",
    "\n",
    "At $x = -1$ and $x=1$:\n",
    "\n",
    "$$cos^{-1}(-1) = \\pi \\quad \\textrm{and} \\quad cos^{-1}(1) = 0$$\n",
    "\n",
    "Now plugging into the integral:\n",
    "\n",
    "$$\\int^1_{-1} w(x) T_n(x) T_m(x) dx = \\int^\\pi_{0}  \\frac{1}{sin(\\theta)} cos(n\\theta) cos(m\\theta) (-sin(\\theta)) d\\theta$$\n",
    "\n",
    "$$\\int^\\pi_{0} cos(n\\theta)*cos(m\\theta) d\\theta $$\n",
    "\n",
    "Case 1: $m = n$:\n",
    "\n",
    "$$\\int^\\pi_{0} cos^2(n\\theta) d\\theta $$\n",
    "\n",
    "$$\\frac{1}{2} (\\int^\\pi_{0} cos(2n\\theta) d\\theta + \\int^\\pi_{0} d\\theta)$$\n",
    "\n",
    "$$\\frac{1}{2} (\\frac{-1}{2n} sin(2n\\theta)\\bigg|_{0}^\\pi) + \\frac{\\pi}{2}$$\n",
    "\n",
    "$$\\frac{\\pi}{2} = \\alpha$$\n",
    "\n",
    "Case 2: $m \\neq n$:\n",
    "\n",
    "$$\\int^\\pi_{0} cos(n\\theta) cos(m\\theta) d\\theta $$\n",
    "\n",
    "$$\\frac{1}{2} \\bigg(\\int^\\pi_{0} cos((n+m)\\theta) d\\theta + \\int^\\pi_{0} cos((n-m)\\theta) d\\theta \\bigg)$$\n",
    "\n",
    "$$\\frac{1}{2} \\bigg(\\frac{-1}{n+m}sin((n+m)\\theta)\\bigg|_0^\\pi + \\frac{-1}{n-m}sin((n-m)\\theta)\\bigg|_0^\\pi \\bigg)$$\n",
    "\n",
    "$$\\frac{1}{2}(0 + 0) = 0$$\n"
   ]
  },
  {
   "cell_type": "markdown",
   "metadata": {
    "nbgrader": {
     "grade": false,
     "grade_id": "Q3",
     "locked": true,
     "solution": false
    }
   },
   "source": [
    "## Question 3\n",
    "\n",
    "(10 points) For N = 4 find the maximum value and its location of $|\\ell_2(x)|$ for equispaced points on $[-1, 1]$."
   ]
  },
  {
   "cell_type": "markdown",
   "metadata": {
    "nbgrader": {
     "grade": true,
     "grade_id": "A3",
     "locked": false,
     "points": 10,
     "solution": true
    }
   },
   "source": [
    "**Solution**\n",
    "\n",
    "$$\\ell_i(x) = \\prod^{N}_{j=0, j \\neq i} \\frac{x - x_j}{x_i - x_j} = \\frac{x - x_0}{x_i - x_0} \\frac{x - x_1}{x_i - x_1} \\cdots \\frac{x - x_{i-1}}{x_i - x_{i-1}}\\frac{x - x_{i+1}}{x_i - x_{i+1}} \\cdots \\frac{x - x_{N}}{x_i - x_{N}}$$\n",
    "\n",
    "Thus for $\\ell_2(x):$\n",
    "\n",
    "$$|\\ell_2(x)| = \\frac{x-x_0}{x_2-x_0}\\frac{x-x_1}{x_2-x_1}\\frac{x-x_3}{x_2-x_3}\\frac{x-x_4}{x_2-x_4}$$\n",
    "\n",
    "Need 5 equidistant points from [-1,1]:\n",
    "\n",
    "$$x_0 = -1$$\n",
    "$$x_1 = -.5$$\n",
    "$$x_2 = 0$$\n",
    "$$x_3 = .5$$\n",
    "$$x_4 = 1$$\n",
    "\n",
    "Plugging in:\n",
    "\n",
    "$$|\\ell_2(x)| = \\frac{x-1}{1}*\\frac{x+.5}{.5}*\\frac{x-.5}{-.5}*\\frac{x-1}{-1}$$\n",
    "\n",
    "$$|\\ell_2(x)| = (x-1)(1-x)(2x+1)(1-2x)$$\n",
    "\n",
    "$$|\\ell_2(x)| = 4x^4 - 5x^2 + 1$$\n",
    "\n",
    "Taking a derivative:\n",
    "\n",
    "$$|\\ell_2(x)|' = 16x^3 - 10x = 0$$\n",
    "\n",
    "$$x = 0 \\text{ and } x = \\sqrt{\\frac{5}{8}}$$\n",
    "\n",
    "The second derivative - $48x^2 - 10$ tells is that $x=0$ will be our maximum. Thus the max occurs at:\n",
    "\n",
    "$$(x,y) = (0,1)$$\n",
    "\n"
   ]
  },
  {
   "cell_type": "code",
   "execution_count": 2,
   "metadata": {
    "collapsed": false
   },
   "outputs": [
    {
     "data": {
      "image/png": "[encoded data removed]",
      "text/plain": [
       "<matplotlib.figure.Figure at 0x10a2e2b10>"
      ]
     },
     "metadata": {},
     "output_type": "display_data"
    }
   ],
   "source": [
    "data = numpy.linspace(-1.0,1.0,5)\n",
    "N = 4\n",
    "x = numpy.linspace(-1.0, 1.0, 100)\n",
    "\n",
    "# ====================================================\n",
    "# Compute the Lagrange basis (\\ell_i(x))\n",
    "def lagrange(x,N):\n",
    "    lagrange_basis = 1\n",
    "    i = 2\n",
    "    for j in xrange(N + 1):\n",
    "            if i != j:\n",
    "                lagrange_basis *= (x - data[j]) / (data[i] - data[j])\n",
    "    return numpy.abs(lagrange_basis)\n",
    "\n",
    "fig = plt.figure()\n",
    "axes = fig.add_subplot(1,1,1)\n",
    "\n",
    "axes.plot(x, lagrange(x,4), 'r')\n",
    "#print numpy.max(x,lagrange_basis)\n",
    "\n",
    "plt.show()"
   ]
  },
  {
   "cell_type": "markdown",
   "metadata": {
    "nbgrader": {
     "grade": false,
     "grade_id": "Q4",
     "locked": true,
     "solution": false
    }
   },
   "source": [
    "## Question 4\n",
    "\n",
    "Consider the Lebesgue function\n",
    "$$\n",
    "\\lambda_N(x)  = \\sum_{i=0}^N\\big{|}\\ell_i(x)\\big{|}\n",
    "$$\n",
    "where $\\ell_i(x)$ are Lagrange basis functions for a given set of $x_i$.  The maximum of the Lebesgue function is called $\\Lambda_n$ the Lebesgue constant and are clearly related to Lagrangian interpolation as they provide a first estimate for the interpolation error.  Unfortunately, $\\Lambda_N$ is not uniformly bounded regardless of the nodes used as one can show that \n",
    "$$\n",
    "    \\Lambda_N > \\mathcal{O}(\\log N) ~~~\\text{as}~~~ N \\rightarrow \\infty\n",
    "$$\n",
    "\n",
    "Note, $\\Lambda_n$ is the infinite-norm of the linear operator mapping data to interpolant on the given grid and interval."
   ]
  },
  {
   "cell_type": "markdown",
   "metadata": {
    "nbgrader": {
     "grade": false,
     "grade_id": "Q4-a",
     "locked": true,
     "solution": false
    }
   },
   "source": [
    "**(a)** (5 points) What do you expect the Lebesgue function to look like?  Are there key points where we will know the function value exactly?"
   ]
  },
  {
   "cell_type": "markdown",
   "metadata": {
    "nbgrader": {
     "grade": true,
     "grade_id": "A4-a",
     "locked": false,
     "points": 5,
     "solution": true
    }
   },
   "source": [
    "As we have seen before, the sum of the lagrange basis functions should tend to 1. Thus, I would expect that lebesgue function would approach 1 and perhaps blow up at our endpoints."
   ]
  },
  {
   "cell_type": "markdown",
   "metadata": {
    "nbgrader": {
     "grade": false,
     "grade_id": "Q4-b",
     "locked": true,
     "solution": false
    }
   },
   "source": [
    "**(b)** (10 points) Plot the Lebesgue function for $x\\in[-1, 1]$ for $N = 5, 10, 20$ with\n",
    "$$\n",
    "    x_i = -1 + \\frac{2 i}{N}, ~~~ i = 0, 1, \\ldots, N.\n",
    "$$\n",
    "For the case where $N = 20$ comment on what you see (you may need to use `semilogy` to see the results)."
   ]
  },
  {
   "cell_type": "code",
   "execution_count": 3,
   "metadata": {
    "collapsed": false,
    "nbgrader": {
     "grade": true,
     "grade_id": "A4-b1",
     "locked": false,
     "points": 8,
     "solution": true
    }
   },
   "outputs": [
    {
     "data": {
      "image/png": "[encoded data removed]",
      "text/plain": [
       "<matplotlib.figure.Figure at 0x10a2f6a90>"
      ]
     },
     "metadata": {},
     "output_type": "display_data"
    },
    {
     "data": {
      "image/png": "[encoded data removed]",
      "text/plain": [
       "<matplotlib.figure.Figure at 0x10cda1bd0>"
      ]
     },
     "metadata": {},
     "output_type": "display_data"
    },
    {
     "data": {
      "image/png": "[encoded data removed]",
      "text/plain": [
       "<matplotlib.figure.Figure at 0x10ce3d690>"
      ]
     },
     "metadata": {},
     "output_type": "display_data"
    }
   ],
   "source": [
    "### INSERT CODE HERE\n",
    "def lebesgue_b(x, N):\n",
    "    \"\"\"Return the lebesgue function with equidistant points\n",
    "    \n",
    "    :Input:\n",
    "     - *x* (ndarray) - the linspace we are using for our plot.\n",
    "     - *N* (integer) - Number of points\n",
    "     \n",
    "    :Output:\n",
    "     - *lebesgue* (ndarray) - Sum of the absolute value of the lagrange basis \n",
    "    \"\"\"\n",
    "    \n",
    "    data = numpy.zeros(N+1)\n",
    "    for i in xrange(N+1):\n",
    "        data[i] = -1 + (2.0*i) / N\n",
    "        \n",
    "    # ====================================================\n",
    "    # Compute the Lagrange basis (\\ell_i(x))\n",
    "    lagrange_basis = numpy.ones((N + 1, x.shape[0]))\n",
    "    for i in xrange(N + 1):\n",
    "        for j in xrange(N + 1):\n",
    "            if i != j:\n",
    "                lagrange_basis[i, :] *= (x - data[j]) / (data[i] - data[j])\n",
    "        lagrange_basis[i, :] = numpy.abs(lagrange_basis[i,:])\n",
    "\n",
    "    # Calculate full summation\n",
    "    lebesgue = numpy.zeros(x.shape[0])\n",
    "    for n in xrange(x.shape[0]): \n",
    "        for i in xrange(N+1):\n",
    "            lebesgue[n] += lagrange_basis[i,n]\n",
    "    return lebesgue\n",
    "# ====================================================\n",
    "x = numpy.linspace(-1.0, 1.0, 100)\n",
    "\n",
    "# Plot lebesgue funtion for N = 5\n",
    "fig = plt.figure()\n",
    "axes = fig.add_subplot(1, 1, 1)\n",
    "axes.plot(x, lebesgue_b(x,5), label=\"$\\lamda_n_{%s}(x)$\" % N)\n",
    "axes.set_title(\"$Lebesgue Function$\")\n",
    "axes.set_xlabel(\"x\")\n",
    "axes.set_ylabel(\"$\\lambda_n(x)$\")\n",
    "\n",
    "# Plot lebesgue funtion for N = 10\n",
    "fig = plt.figure()\n",
    "axes = fig.add_subplot(1, 1, 1)\n",
    "axes.plot(x, lebesgue_b(x,10), label=\"$\\lamda_n_{%s}(x)$\" % N)\n",
    "axes.set_title(\"$Lebesgue Function$\")\n",
    "axes.set_xlabel(\"x\")\n",
    "axes.set_ylabel(\"$\\lambda_n(x)$\")\n",
    "\n",
    "# Plot lebesgue funtion for N = 20\n",
    "fig = plt.figure()\n",
    "axes = fig.add_subplot(1, 1, 1)\n",
    "axes.semilogy(x, lebesgue_b(x,20), label=\"$\\lamda_n_{%s}(x)$\" % N)\n",
    "axes.set_title(\"$Lebesgue Function$\")\n",
    "axes.set_xlabel(\"x\")\n",
    "axes.set_ylabel(\"$\\lambda_n(x)$\")\n",
    "plt.show()\n"
   ]
  },
  {
   "cell_type": "markdown",
   "metadata": {
    "nbgrader": {
     "grade": true,
     "grade_id": "A4-b2",
     "locked": false,
     "points": 2,
     "solution": true
    }
   },
   "source": [
    "**Comments**\n",
    "\n",
    "From the above graphs, it is interesting to note that our N tells us how many 'bumps' the graph has and N+1 tell us how many times our function equals 1. Moreover, while the first two graphs stay near a minimum of 1, it seems with higher Ns, the bumps are forming a parabolic shape that becomes increasing narrower. "
   ]
  },
  {
   "cell_type": "markdown",
   "metadata": {
    "nbgrader": {
     "grade": false,
     "grade_id": "Q4-c",
     "locked": true,
     "solution": false
    }
   },
   "source": [
    "**(c)** (10 points) Plot the Lebesgue function for $x\\in[-1, 1]$ for $N = 5, 10, 20$ with\n",
    "$$\n",
    "    x_i = \\cos\\left( \\frac{(2i - 1) \\pi}{2 N} \\right ) ~~~ i = 1, \\ldots, N + 1.\n",
    "$$\n",
    "Again comment on what you see in the case $N = 20$."
   ]
  },
  {
   "cell_type": "code",
   "execution_count": 4,
   "metadata": {
    "collapsed": false,
    "nbgrader": {
     "grade": true,
     "grade_id": "A4-c1",
     "locked": false,
     "points": 8,
     "solution": true
    },
    "scrolled": true
   },
   "outputs": [
    {
     "data": {
      "image/png": "[encoded data removed]",
      "text/plain": [
       "<matplotlib.figure.Figure at 0x10a2f6ed0>"
      ]
     },
     "metadata": {},
     "output_type": "display_data"
    }
   ],
   "source": [
    "### INSERT CODE HERE\n",
    "def lebesgue_c(x,N):\n",
    "    \"\"\"Return the lebesgue function with Chebychev Nodes\n",
    "    \n",
    "    :Input:\n",
    "     - *x* (ndarray) - the linspace we are using for our plot.\n",
    "     - *N* (integer) - Number of points\n",
    "     \n",
    "    :Output:\n",
    "     - *lebesgue* (ndarray) - Sum of the absolute value of the lagrange basis \n",
    "    \"\"\"\n",
    "    \n",
    "    data = numpy.cos(numpy.arange(N + 1) * numpy.pi / N)\n",
    "    #data = numpy.zeros(N+1)\n",
    "    #for i in xrange(1,N+2):\n",
    "        #data[i-1] = numpy.cos(((2.0*i - 1.0)*numpy.pi) / (2.0 * (N+1)))  \n",
    "# ====================================================\n",
    "    # Compute the Lagrange basis (\\ell_i(x))\n",
    "    lagrange_basis = numpy.ones((N + 1, x.shape[0]))\n",
    "    for i in xrange(N + 1):\n",
    "        for j in xrange(N + 1):\n",
    "            if i != j:\n",
    "                lagrange_basis[i, :] *= (x - data[j]) / (data[i] - data[j])\n",
    "        lagrange_basis[i, :] = numpy.abs(lagrange_basis[i, :])\n",
    "\n",
    "    # Calculate full summation\n",
    "    lebesgue = numpy.zeros(x.shape[0])\n",
    "    for n in xrange(x.shape[0]):\n",
    "        for i in xrange(N+1):\n",
    "            lebesgue[n] += lagrange_basis[i,n]\n",
    "    return lebesgue\n",
    "# ====================================================\n",
    "x = numpy.linspace(-1.0, 1.0, 100)\n",
    "\n",
    "# Plot lebesgue funtion\n",
    "fig = plt.figure()\n",
    "axes = fig.add_subplot(1, 1, 1)\n",
    "axes.plot(x, lebesgue_c(x,5), label=\"$N = %s$\" % 5)\n",
    "axes.set_title(\"$Lebesgue Function$\")\n",
    "axes.set_xlabel(\"x\")\n",
    "axes.set_ylabel(\"$\\lambda_n(x)$\")\n",
    "\n",
    "# Plot lebesgue funtion\n",
    "axes.plot(x, lebesgue_c(x,10), label=\"$N = %s$\" % 10)\n",
    "axes.set_title(\"$Lebesgue Function$\")\n",
    "axes.set_xlabel(\"x\")\n",
    "axes.set_ylabel(\"$\\lambda_n(x)$\")\n",
    "\n",
    "# Plot lebesgue funtion\n",
    "axes.semilogy(x, lebesgue_c(x,20), label=\"$N = %s$\" % 20)\n",
    "axes.set_title(\"$Lebesgue Function$\")\n",
    "axes.set_xlabel(\"x\")\n",
    "axes.set_ylabel(\"$\\lambda_n(x)$\")\n",
    "axes.legend()\n",
    "\n",
    "plt.show()\n"
   ]
  },
  {
   "cell_type": "markdown",
   "metadata": {
    "nbgrader": {
     "grade": true,
     "grade_id": "A4-c2",
     "locked": false,
     "points": 2,
     "solution": true
    }
   },
   "source": [
    "**Comments**\n",
    "\n",
    "Again, N gives us the number of \"bumps\" that the function has and N+1 tells us the number of times our function is 1. However, one intersting thing to note is that the edges are actually well-behaved unlike before. Moreover, the function's global max is near the center instead of the edges. "
   ]
  },
  {
   "cell_type": "markdown",
   "metadata": {
    "nbgrader": {
     "grade": false,
     "grade_id": "Q4-d",
     "locked": true,
     "solution": false
    }
   },
   "source": [
    "**(d)** (5 points) What do you observe about the Lebesgue function for each of the distribution of points?"
   ]
  },
  {
   "cell_type": "markdown",
   "metadata": {
    "nbgrader": {
     "grade": true,
     "grade_id": "A4-d",
     "locked": false,
     "points": 5,
     "solution": true
    }
   },
   "source": [
    "In the first equation gives us an equidistant sampling which our interpolating polynomial will pass through. Therefore, we see the lebesgue function pass through each of these equidisant points in the first equation. However, as we have seen in class, we can mimnimize the interpolating error by setting our points equal to the roots of the polynomials. Therefore, part two lets our chebychev nodes to be the roots of the polynomials, minimizing the error.\n",
    "\n",
    "It is due to this minimization of error that our graphs for the second equation look much nicer and don't blow up at the edges. Furthermore, at the nodes themselves, the chebychev nodes in fact go to 1 but in the case of the equidistant points, the N=20 shows that as we get closer to the edges, we get this error that causes us to miss 1. Therefore, this excersise shows that there is some error when using equidistant points but this error can be minimized if we use the roots of the polynomials as the nodes. "
   ]
  },
  {
   "cell_type": "markdown",
   "metadata": {
    "nbgrader": {
     "grade": false,
     "grade_id": "Q4-e",
     "locked": true,
     "solution": false
    }
   },
   "source": [
    "**(e)** (10 points) Using suitable values for $N$ plot the Lebesgue constants of each of the above cases.  Make sure to use a suitably large number of points to evaluate the function at.  Graphically demonstrate that the constant grow with the predicted growth rate $\\mathcal{O}(\\log N)$.  Describe what you observe."
   ]
  },
  {
   "cell_type": "code",
   "execution_count": 5,
   "metadata": {
    "collapsed": false,
    "nbgrader": {
     "grade": true,
     "grade_id": "Q4-e1",
     "locked": false,
     "points": 10,
     "solution": true
    }
   },
   "outputs": [
    {
     "data": {
      "image/png": "[encoded data removed]",
      "text/plain": [
       "<matplotlib.figure.Figure at 0x10d0a7590>"
      ]
     },
     "metadata": {},
     "output_type": "display_data"
    },
    {
     "data": {
      "image/png": "[encoded data removed]",
      "text/plain": [
       "<matplotlib.figure.Figure at 0x10d6e9490>"
      ]
     },
     "metadata": {},
     "output_type": "display_data"
    }
   ],
   "source": [
    "### INSERT CODE HERE\n",
    "constants_equidistant = [] \n",
    "constants_chebychev = []\n",
    "\n",
    "x = numpy.linspace(-1,1,1000)\n",
    "\n",
    "N = [5, 10, 20, 40, 80, 160]\n",
    "for n in N:\n",
    "    constants_equidistant.append(lebesgue_b(x, n).max())\n",
    "    constants_chebychev.append(lebesgue_c(x, n).max())\n",
    "    \n",
    "fig = plt.figure()\n",
    "axes = fig.add_subplot(1,1,1)\n",
    "axes.loglog(N, constants_equidistant, label=\"$\\Lambda_N$\")\n",
    "axes.loglog(N, numpy.log(N), label=\"log(N)\")\n",
    "axes.set_title(\"$Lebesgue Function Part b$\")\n",
    "axes.set_xlabel(\"N\")\n",
    "axes.set_ylabel(\"$log(\\Lambda_N)$\")\n",
    "axes.legend()\n",
    "\n",
    "fig = plt.figure()\n",
    "axes = fig.add_subplot(1,1,1)\n",
    "axes.loglog(N, constants_chebychev, label=\"$\\Lambda_N$\")\n",
    "axes.loglog(N, numpy.log(N), label=\"log(n)\")\n",
    "axes.loglog(N, (.5)*numpy.log(N), label=\".5log(n)\")\n",
    "axes.set_title(\"$Lebesgue Function Part b$\")\n",
    "axes.set_ylabel(\"$log(\\Lambda_N)$\")\n",
    "axes.set_xlabel(\"N\")\n",
    "axes.legend(loc=3)\n",
    "plt.show()"
   ]
  },
  {
   "cell_type": "markdown",
   "metadata": {
    "nbgrader": {
     "grade": true,
     "grade_id": "Q4-e2",
     "locked": false,
     "solution": true
    }
   },
   "source": [
    "**Constants**\n",
    "\n",
    "Based on our graphs, we have successfully shown that for equidistant points, the lebesgue constants are indeed:\n",
    "\n",
    "$$\\Lambda_n > \\mathcal{O}(log(N))$$\n",
    "\n",
    "However, for the chebychev nodes, we see this intersection with the log(N) graph. Therefore, while our original log(n) graph doesn't prove the inequality. However, by the properties of big O, we can multiply log(N) by any constant since the order will still be log(N). Thus, the above graph also plots $.5log(N)$ and shows that the conclusion we want to prove:\n",
    "\n",
    "$$\\Lambda_N > \\mathcal{O}(.5\\log N) = \\mathcal{O}(\\log N) ~~~\\text{as}~~~ N \\rightarrow \\infty$$"
   ]
  },
  {
   "cell_type": "code",
   "execution_count": null,
   "metadata": {
    "collapsed": true
   },
   "outputs": [],
   "source": []
  }
 ],
 "metadata": {
  "anaconda-cloud": {},
  "kernelspec": {
   "display_name": "Python [Root]",
   "language": "python",
   "name": "Python [Root]"
  },
  "language_info": {
   "codemirror_mode": {
    "name": "ipython",
    "version": 2
   },
   "file_extension": ".py",
   "mimetype": "text/x-python",
   "name": "python",
   "nbconvert_exporter": "python",
   "pygments_lexer": "ipython2",
   "version": "2.7.12"
  }
 },
 "nbformat": 4,
 "nbformat_minor": 0
}
