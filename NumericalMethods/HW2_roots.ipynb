{
 "cells": [
  {
   "cell_type": "code",
   "execution_count": 1,
   "metadata": {
    "collapsed": false,
    "nbgrader": {
     "grade": false,
     "grade_id": "header1",
     "locked": false,
     "solution": false
    }
   },
   "outputs": [],
   "source": [
    "%matplotlib inline\n",
    "import numpy\n",
    "import matplotlib.pyplot as plt"
   ]
  },
  {
   "cell_type": "markdown",
   "metadata": {
    "nbgrader": {
     "grade": false,
     "grade_id": "header2",
     "locked": true,
     "solution": false
    }
   },
   "source": [
    "Before you turn this problem in, make sure everything runs as expected. First, restart the kernel (in the menubar, select Kernel $\\rightarrow$ Restart) and then run all cells (in the menubar, select Cell $\\rightarrow$ Run All).\n",
    "\n",
    "Make sure you fill in any place that says YOUR CODE HERE or \"YOUR ANSWER HERE\", as well as your name and collaborators below:"
   ]
  },
  {
   "cell_type": "markdown",
   "metadata": {
    "nbgrader": {
     "grade": false,
     "grade_id": "header3",
     "locked": true,
     "solution": false
    }
   },
   "source": [
    "# HW 2:  Root Finding and Optimization"
   ]
  },
  {
   "cell_type": "markdown",
   "metadata": {
    "nbgrader": {
     "grade": false,
     "grade_id": "Q1",
     "locked": true,
     "solution": false
    }
   },
   "source": [
    "## Question 1 - Finding the Root\n",
    "\n",
    "Let's say that we wanted to calculate $\\sqrt{M}$ given that $M \\in \\mathbb{R}$ and $M > 0$ and that we did not want to use the function `sqrt` directly.  One way to do this is to solve for the zeros of the function $f(x) = x^2 - M$.\n",
    "\n",
    " - Note that not all the methods will work!\n",
    " - Make sure to handle the case where $M_0 = \\sqrt{M}$.\n",
    " - We are only looking for the positive root of $f(x)$."
   ]
  },
  {
   "cell_type": "markdown",
   "metadata": {
    "nbgrader": {
     "grade": false,
     "grade_id": "Q1-a",
     "locked": true,
     "solution": false
    }
   },
   "source": [
    "**(a)** (5 points) Write a function that uses fixed-point iteration to solve for the zeros of $f(x)$.  \n",
    "\n",
    "Note: There are multiple ways to write the iteration function $g(x)$, some work better than others.  Make sure to use the input function $f(x)$ to formulate this."
   ]
  },
  {
   "cell_type": "code",
   "execution_count": 2,
   "metadata": {
    "collapsed": false,
    "nbgrader": {
     "grade": false,
     "grade_id": "A1-a",
     "locked": false,
     "solution": true
    }
   },
   "outputs": [],
   "source": [
    "def fixed_point(x_0, f, tolerance):\n",
    "    \"\"\"Find the zeros of the given function f using fixed-point iteration\n",
    "    \n",
    "    :Input:\n",
    "     - *x_0* (float) - Initial iterate\n",
    "     - *f* (function) - The function that will be analyzed\n",
    "     - *tolerance* (float) - Stopping tolerance for iteration\n",
    "     \n",
    "    :Output:\n",
    "    If the iteration was successful the return values are:\n",
    "     - *M* (float) - Zero found via the given intial iterate.\n",
    "     - *n* (int) - Number of iterations it took to achieve the specified\n",
    "       tolerance.\n",
    "    otherwise\n",
    "     - *x* (float) - Last iterate found\n",
    "     - *n* (int) - *n = -1*\n",
    "    \"\"\"\n",
    "    \n",
    "    # Parameters\n",
    "    MAX_STEPS = 1000\n",
    "    \n",
    "    # INSERT CODE HERE\n",
    "    g = lambda x: f(x) + x #setup the iteration scheme function\n",
    "    \n",
    "    #initialize variables and check tolerance before beginning\n",
    "    x = x_0\n",
    "    if numpy.abs(f(x)) < tolerance:\n",
    "            return x, 0\n",
    "    \n",
    "    #loop - x_n+1 = f(x_n) + x_n = g(x_n)\n",
    "    for steps in xrange(1,MAX_STEPS+1):\n",
    "        #print \"x: \", x\n",
    "        diff = g(x) - x\n",
    "        #print \"Residual: \", diff\n",
    "        x = g(x)\n",
    "        if numpy.abs(f(x)) < tolerance:\n",
    "            return x, steps\n",
    "    return x, -1"
   ]
  },
  {
   "cell_type": "code",
   "execution_count": 3,
   "metadata": {
    "collapsed": false,
    "nbgrader": {
     "grade": true,
     "grade_id": "T1-a",
     "locked": true,
     "points": 5,
     "solution": false
    }
   },
   "outputs": [
    {
     "name": "stdout",
     "output_type": "stream",
     "text": [
      "Fixed-point test failed!\n",
      "Success!\n"
     ]
    }
   ],
   "source": [
    "M = 1.8\n",
    "TOLERANCE = 1e-10\n",
    "f = lambda x: x**2 - M\n",
    "\n",
    "# Note that this test probably will fail\n",
    "try:\n",
    "    M_f, n = fixed_point(2.0, f, TOLERANCE)\n",
    "except OverflowError:\n",
    "    print \"Fixed-point test failed!\"\n",
    "    print \"Success!\"\n",
    "else:\n",
    "    if n == -1:\n",
    "        print \"Fixed-point test failed!\"\n",
    "        print \"Success!\"\n",
    "    else:\n",
    "        print M_f, n\n",
    "        raise ValueError(\"Test should have failed!\")"
   ]
  },
  {
   "cell_type": "markdown",
   "metadata": {
    "nbgrader": {
     "grade": false,
     "grade_id": "Q1-b",
     "locked": true,
     "solution": false
    }
   },
   "source": [
    "**(b)** (5 points) Write a function that uses Newton's method to find the roots of $f(x)$. The analytical derivative of $f'(x)$ is provided."
   ]
  },
  {
   "cell_type": "code",
   "execution_count": 4,
   "metadata": {
    "collapsed": true,
    "nbgrader": {
     "grade": false,
     "grade_id": "A1-b",
     "locked": false,
     "solution": true
    }
   },
   "outputs": [],
   "source": [
    "def newton(x_0, f, f_prime, tolerance):\n",
    "    \"\"\"Find the zeros of the given function f using Newton's method\n",
    "    \n",
    "    :Input:\n",
    "     - *M_0* (float) - Initial iterate\n",
    "     - *f* (function) - The function that will be analyzed\n",
    "     - *f_prime* (function) - The derivative of *f*\n",
    "     - *tolerance* (float) - Stopping tolerance for iteration\n",
    "     \n",
    "    :Output:\n",
    "    If the iteration was successful the return values are:\n",
    "     - *M* (float) - Zero found via the given intial iterate.\n",
    "     - *n* (int) - Number of iterations it took to achieve the specified\n",
    "       tolerance.\n",
    "    otherwise\n",
    "     - *M* (float) - Last iterate found\n",
    "     - *n* (int) - *n = -1*\n",
    "    \"\"\"\n",
    "    \n",
    "    # Parameters\n",
    "    MAX_STEPS = 1000\n",
    "    \n",
    "    # INSERT CODE HERE\n",
    "    x_k = x_0\n",
    "    if numpy.abs(f(x_k)) < tolerance:\n",
    "        return x_k, 0\n",
    "    \n",
    "    for n in xrange(1,MAX_STEPS+1):\n",
    "        x_k = x_k - (f(x_k)/f_prime(x_k))\n",
    "        if numpy.abs(f(x_k)) < tolerance:\n",
    "            return x_k, n\n",
    "    return x, -1"
   ]
  },
  {
   "cell_type": "code",
   "execution_count": 5,
   "metadata": {
    "collapsed": false,
    "nbgrader": {
     "grade": true,
     "grade_id": "T-1b",
     "locked": true,
     "points": 5,
     "solution": false
    }
   },
   "outputs": [
    {
     "name": "stdout",
     "output_type": "stream",
     "text": [
      "1.73205080757 4\n",
      "1.73205080757 0\n",
      "Success!\n"
     ]
    }
   ],
   "source": [
    "M = 3.0\n",
    "TOLERANCE = 1e-10\n",
    "f = lambda x: x**2 - M\n",
    "f_prime = lambda x: 2.0 * x\n",
    "\n",
    "M_f, n = newton(2.0, f, f_prime, TOLERANCE)\n",
    "numpy.testing.assert_almost_equal(M_f, numpy.sqrt(M))\n",
    "print M_f, n\n",
    "assert(n == 4)\n",
    "\n",
    "M_f, n = newton(numpy.sqrt(M), f, f_prime, TOLERANCE)\n",
    "print M_f, n\n",
    "assert(n == 0)\n",
    "\n",
    "print \"Success!\""
   ]
  },
  {
   "cell_type": "markdown",
   "metadata": {
    "nbgrader": {
     "grade": false,
     "grade_id": "Q1-c",
     "locked": true,
     "solution": false
    }
   },
   "source": [
    "**(c)** (5 points) Write a function to find the zeros of $f(x)$ using the secant method."
   ]
  },
  {
   "cell_type": "code",
   "execution_count": 6,
   "metadata": {
    "collapsed": true,
    "nbgrader": {
     "grade": false,
     "grade_id": "A1-c",
     "locked": false,
     "solution": true
    }
   },
   "outputs": [],
   "source": [
    "def secant(x_0, f, tolerance):\n",
    "    \"\"\"Find the zeros of the given function f using the secant method\n",
    "    \n",
    "    :Input:\n",
    "     - *x_0* (list of 2 floats) - Initial bracket\n",
    "     - *f* (function) - The function that will be analyzed\n",
    "     - *tolerance* (float) - Stopping tolerance for iteration\n",
    "     \n",
    "    :Output:\n",
    "    If the iteration was successful the return values are:\n",
    "     - *M* (float) - Zero found via the given intial iterate.\n",
    "     - *n* (int) - Number of iterations it took to achieve the specified\n",
    "       tolerance.\n",
    "    otherwise\n",
    "     - *M* (float) - Last iterate found\n",
    "     - *n* (int) - *n = -1*\n",
    "    \"\"\"\n",
    "    \n",
    "    # Parameters\n",
    "    MAX_STEPS = 1000\n",
    "    \n",
    "    # INSERT CODE HERE\n",
    "    x_k = x_0[1]\n",
    "    x_km = x_0[0]\n",
    "    \n",
    "    if numpy.abs(f(x_k)) < tolerance:\n",
    "            return x_k, 0\n",
    "    \n",
    "    for n in xrange(1,MAX_STEPS+1):\n",
    "        x_kp = x_k - ((f(x_k)*(x_k-x_km)) / (f(x_k) - f(x_km)))\n",
    "        x_km = x_k\n",
    "        x_k = x_kp\n",
    "        if numpy.abs(f(x_k)) < tolerance:\n",
    "            return x_k, n\n",
    "    return x, -1"
   ]
  },
  {
   "cell_type": "code",
   "execution_count": 7,
   "metadata": {
    "collapsed": false,
    "nbgrader": {
     "grade": true,
     "grade_id": "T1-c",
     "locked": true,
     "points": 5,
     "solution": false
    }
   },
   "outputs": [
    {
     "name": "stdout",
     "output_type": "stream",
     "text": [
      "1.73205080757 7\n",
      "Success!\n"
     ]
    }
   ],
   "source": [
    "M = 3.0\n",
    "TOLERANCE = 1e-10\n",
    "f = lambda x: x**2 - M\n",
    "\n",
    "M_f, n = secant([0.0, 3.0], f, TOLERANCE)\n",
    "numpy.testing.assert_almost_equal(M_f, numpy.sqrt(M))\n",
    "print M_f, n\n",
    "assert(n == 7)\n",
    "\n",
    "M_f, n = secant([1.0, numpy.sqrt(M)], f, TOLERANCE)\n",
    "assert(n == 0)\n",
    "\n",
    "print \"Success!\""
   ]
  },
  {
   "cell_type": "markdown",
   "metadata": {
    "nbgrader": {
     "grade": false,
     "grade_id": "Q1-d",
     "locked": true,
     "solution": false
    }
   },
   "source": [
    "**(d)** (5 points) Using the theory and illustrative plots why the fixed-point method did not work (pick a bracket that demonstrates the problem well).  "
   ]
  },
  {
   "cell_type": "markdown",
   "metadata": {
    "nbgrader": {
     "grade": true,
     "grade_id": "A1-d1",
     "locked": false,
     "points": 2,
     "solution": true
    }
   },
   "source": [
    "The range is not contained within the domain and therefore fixed-point iteration will not converge.  The plot below should be included."
   ]
  },
  {
   "cell_type": "code",
   "execution_count": 8,
   "metadata": {
    "collapsed": false,
    "nbgrader": {
     "grade": true,
     "grade_id": "A1-d2",
     "locked": false,
     "points": 3,
     "solution": true
    },
    "scrolled": true
   },
   "outputs": [
    {
     "name": "stdout",
     "output_type": "stream",
     "text": [
      "(0.05857992595400119, -1)\n"
     ]
    },
    {
     "data": {
      "image/png": "[encoded data removed]",
      "text/plain": [
       "<matplotlib.figure.Figure at 0x10a309b10>"
      ]
     },
     "metadata": {},
     "output_type": "display_data"
    }
   ],
   "source": [
    "M = 1.8\n",
    "x = numpy.linspace(-5,5, 100)\n",
    "TOLERANCE = 1e-10\n",
    "f = lambda x: x**2 - M\n",
    "\n",
    "MAX_STEPS = 5\n",
    "\n",
    "fig = plt.figure()\n",
    "axes = fig.add_subplot(1,1,1)\n",
    "axes.plot(x, f(x)+x, 'r')\n",
    "axes.plot(x,x,'b')\n",
    "axes.set_xlabel(\"x\")\n",
    "axes.set_ylabel(\"g(x) = f(x)+x\")\n",
    "axes.set_title(\"Fixed Point Iteration\")\n",
    "axes.set_ylim([-5, 5])\n",
    "plt.axhline(y = 0, xmin=-5, xmax=5, linewidth=1, color = 'k')\n",
    "print fixed_point(1.3, f, TOLERANCE)\n",
    "\n",
    "xn = 1.3\n",
    "for steps in xrange(1,MAX_STEPS+1):\n",
    "    #print \"plotting:\", xn, f(xn)+xn\n",
    "    axes.plot(xn, f(xn) + xn, 'o')\n",
    "    axes.text(xn, f(xn)+xn, steps, fontsize='15')\n",
    "    xn = f(xn) + xn\n",
    "plt.show()\n"
   ]
  },
  {
   "cell_type": "markdown",
   "metadata": {},
   "source": [
    "**Comments**\n",
    "\n",
    "In part a, we chose a generic iteration scheme $g(x) = f(x) + x$. In this case:\n",
    "\n",
    "$$g(x) = x^2 + x - M$$\n",
    "\n",
    "$$g'(x) = 2x + 1$$\n",
    "\n",
    "Therefore, for x0 > 0, say x0 = 2, this will diverge as the derivative is positive. However, if we choose a negative x0, the function converges to a negative root. Thus, our iteration scheme fails."
   ]
  },
  {
   "cell_type": "markdown",
   "metadata": {
    "nbgrader": {
     "grade": false,
     "grade_id": "Q2",
     "locked": true,
     "solution": false
    }
   },
   "source": [
    "## Question 2 - Bessel Function Zeros\n",
    "\n",
    "The zeros of the Bessel functions $J_0(x)$ can be important for a number of applications.  Considering only $x \\geq 0$ \n",
    "we are going to find the first ten zeros of $J_0(x)$ by using a hybrid approach."
   ]
  },
  {
   "cell_type": "markdown",
   "metadata": {
    "nbgrader": {
     "grade": false,
     "grade_id": "Q2-a",
     "locked": true,
     "solution": false
    }
   },
   "source": [
    "**(a)** (5 points) Plot the Bessel function $J_0(x)$ and its zeros on the same plot.  Note that the module `scipy.special` contains functions dealing with the Bessel functions (`jn`)."
   ]
  },
  {
   "cell_type": "code",
   "execution_count": 9,
   "metadata": {
    "collapsed": false,
    "nbgrader": {
     "grade": true,
     "grade_id": "A2-a",
     "locked": false,
     "points": 5,
     "solution": true
    }
   },
   "outputs": [
    {
     "name": "stdout",
     "output_type": "stream",
     "text": [
      "[  2.40482556   5.52007811   8.65372791  11.79153444  14.93091771\n",
      "  18.07106397  21.21163663  24.35247153  27.49347913  30.63460647]\n"
     ]
    },
    {
     "data": {
      "image/png": "[encoded data removed]",
      "text/plain": [
       "<matplotlib.figure.Figure at 0x10d63b8d0>"
      ]
     },
     "metadata": {},
     "output_type": "display_data"
    }
   ],
   "source": [
    "import scipy.special as sp\n",
    "\n",
    "x = numpy.linspace(0,35,100)\n",
    "\n",
    "fig = plt.figure()\n",
    "axes = fig.add_subplot(1,1,1)\n",
    "axes.plot(x,sp.jn(0,x), 'r')\n",
    "axes.set_xlabel(\"x\")\n",
    "axes.set_ylabel(\"J(x)\")\n",
    "axes.set_title(\"First Order Bessel Function\")\n",
    "plt.axhline(y = 0, xmin=-5, xmax=5, linewidth=1, color = 'k')\n",
    "\n",
    "bessel_roots = sp.jn_zeros(0,10)\n",
    "print bessel_roots\n",
    "for root in bessel_roots:\n",
    "    axes.plot(root, sp.jn(0,-1*root), 'o')\n",
    "\n",
    "plt.show()"
   ]
  },
  {
   "cell_type": "markdown",
   "metadata": {
    "nbgrader": {
     "grade": false,
     "grade_id": "Q2-b",
     "locked": true,
     "solution": false
    }
   },
   "source": [
    "**(b)** (15 points) Now write a function `j0_zeros` that takes two tolerances, a bracket size tolerance `bracket_tolerance` and `tolerance` for the final convergence tolerance.  Given an initial bracket, the function should perform secant iterations until the bracket size is less than `bracket_tolerance`.  If this is successful then proceed with Newton's method using the newest value of the bracket until `tolerance` is reached.  Return both the zero found and the number of steps needed in each iteration.  Also write a `doc-string` for the function.\n",
    "\n",
    "Notes:\n",
    " - Newton's method by itself does not work here given the initial brackets provided.\n",
    " - The secant method does work however it is slower than the approach outlined.\n",
    " - Try playing a bit yourself with the tolerances used."
   ]
  },
  {
   "cell_type": "code",
   "execution_count": 10,
   "metadata": {
    "collapsed": false,
    "nbgrader": {
     "grade": false,
     "grade_id": "A2-b",
     "locked": false,
     "solution": true
    }
   },
   "outputs": [],
   "source": [
    "import scipy.special\n",
    "\n",
    "# Note that the num_steps being returned should be a list \n",
    "# of the number of steps being used in each method\n",
    "def j0_zeros(x0, bracket_tolerance, tolerance):\n",
    "    \"\"\"Find the zeros of the first order bessel function using a hybrid secant/newton method\n",
    "    \n",
    "    :Input:\n",
    "     - *x_0* (list of 2 floats) - Initial bracket\n",
    "     - *bracket_tolerance* (float) - Stopping tolerance for bracket size in secant iteration\n",
    "     - *tolerance* (float) - Stopping tolerance for newton iteration\n",
    "     \n",
    "    :Output:\n",
    "    If the iteration was successful the return values are:\n",
    "     - *M* (float) - Zero found via the given intial iterate.\n",
    "     - *n* (int) - Number of iterations it took to achieve the specified\n",
    "       tolerance.\n",
    "    otherwise\n",
    "     - *M* (float) - Last iterate found\n",
    "     - *n* (int) - *n = -1*\n",
    "    \"\"\"\n",
    "    \n",
    "    # INSERT CODE HERE\n",
    "    MAX_STEPS = 1000\n",
    "    \n",
    "    #Secant Method\n",
    "    x_k = x0[1]\n",
    "    x_km = x0[0]\n",
    "    sec_steps = 0\n",
    "    sec_success = False\n",
    "    \n",
    "    if numpy.abs(x_k - x_km) < bracket_tolerance:\n",
    "        sec_steps = 0\n",
    "        sec_success = True\n",
    "    else:\n",
    "        for n in xrange(1,MAX_STEPS+1):\n",
    "            x_kp = x_k - ((scipy.special.jn(0,x_k)*(x_k-x_km)) / (scipy.special.jn(0,x_k) - scipy.special.jn(0,x_km)))\n",
    "            x_km = x_k\n",
    "            x_k = x_kp\n",
    "            #if numpy.abs(scipy.special.jn(0,x_k) - scipy.special.jn(0,x_km)) < bracket_tolerance:\n",
    "            if numpy.abs(x_k - x_km) < bracket_tolerance:\n",
    "                sec_steps = n\n",
    "                sec_success = True\n",
    "                break\n",
    "    if sec_success == False:\n",
    "        return x_k, -1\n",
    "    \n",
    "    #print x_k, sec_steps, sec_success\n",
    "    \n",
    "    #newtons method\n",
    "    x_kn = x_k\n",
    "    \n",
    "    if numpy.abs(scipy.special.jn(0,x_kn)) < tolerance:\n",
    "        return x_kn, sec_steps\n",
    "    \n",
    "    for n in xrange(1,MAX_STEPS+1):\n",
    "        x_kn = x_kn - (scipy.special.jn(0,x_kn)/scipy.special.jvp(0,x_kn,1))\n",
    "        if numpy.abs(scipy.special.jn(0,x_kn)) < tolerance:\n",
    "            return x_kn, n + sec_steps\n",
    "    return x_kn, -1\n",
    "\n"
   ]
  },
  {
   "cell_type": "code",
   "execution_count": 11,
   "metadata": {
    "collapsed": false,
    "nbgrader": {
     "grade": true,
     "grade_id": "T2-b",
     "locked": true,
     "points": 15,
     "solution": false
    }
   },
   "outputs": [
    {
     "name": "stdout",
     "output_type": "stream",
     "text": [
      "2.4048255577 5\n",
      "5.52007811029 6\n",
      "8.65372791291 5\n",
      "11.791534439 5\n",
      "14.9309177085 4\n",
      "18.0710639679 4\n",
      "21.2116366299 5\n",
      "24.3524715307 6\n",
      "27.493479132 5\n",
      "30.6346064684 5\n",
      "Success!\n"
     ]
    }
   ],
   "source": [
    "brackets = [[ 2.0,  3.0], [ 4.0,  7.0], [ 7.0, 10.0], [10.0, 12.0], \n",
    "            [13.0, 15.0], [17.0, 19.0], [19.0, 22.0], \n",
    "            [22.0, 26.0], [26.0, 29.0], [29.0, 32.0]]\n",
    "\n",
    "zero = []\n",
    "for bracket in brackets:\n",
    "    x, num_steps = j0_zeros(bracket, 1e-1, 1e-15)\n",
    "    print x, num_steps\n",
    "    zero.append(x)\n",
    "numpy.testing.assert_allclose(zero, scipy.special.jn_zeros(0, 10), rtol=1e-14)\n",
    "print \"Success!\""
   ]
  },
  {
   "cell_type": "markdown",
   "metadata": {
    "nbgrader": {
     "grade": false,
     "grade_id": "Q3",
     "locked": true,
     "solution": false
    }
   },
   "source": [
    "## Question 3 - Newton's Method Convergence\n",
    "\n",
    "Recall that Newton's method converges as\n",
    "\n",
    "$$|\\epsilon_{n+1}| = \\frac{|f''(c)|}{2 |f'(x_n)|} |\\epsilon_n|^2$$\n",
    "\n",
    "with $\\epsilon_n = x_n - x^*$ where $x^*$ is the true solution and $c$ is between $x_n$ and $x^*$."
   ]
  },
  {
   "cell_type": "markdown",
   "metadata": {
    "nbgrader": {
     "grade": false,
     "grade_id": "Q3-a",
     "locked": true,
     "solution": false
    }
   },
   "source": [
    "**(a)** (10 points) Show that the Newton iteration when $f(x) = x^2 - M$ with $M > 0$ is\n",
    "\n",
    "$$x_{n+1} = \\frac{1}{2} \\left (x_n + \\frac{M}{x_n} \\right )$$"
   ]
  },
  {
   "cell_type": "markdown",
   "metadata": {
    "nbgrader": {
     "grade": true,
     "grade_id": "A3-a",
     "locked": false,
     "points": 10,
     "solution": true
    }
   },
   "source": [
    "General Newton Iteration Scheme:\n",
    "\n",
    "$$x_{k+1} = x_k-\\frac{f(x_k)}{f'(x_k)}$$\n",
    "\n",
    "Plugging in with $f(x) = x^2 - M$ and $f'(x) = 2x$:\n",
    "\n",
    "$$x_{n+1} = x_n-\\frac{x_n^2 - M}{2x_n}$$\n",
    "\n",
    "$$x_{n+1} = x_n-\\frac{x_n - \\frac{M}{x_n}}{2}$$\n",
    "\n",
    "$$x_{n+1} = x_n-\\frac{1}{2}(x_n - \\frac{M}{x_n})$$\n",
    "\n",
    "$$x_{n+1} = x_n-\\frac{x_n}{2}+\\frac{M}{2x_n}$$\n",
    "\n",
    "$$x_{n+1} = \\frac{x_n}{2}+\\frac{M}{2x_n} = \\frac{1}{2} \\left (x_n + \\frac{M}{x_n} \\right )$$"
   ]
  },
  {
   "cell_type": "markdown",
   "metadata": {
    "collapsed": true,
    "nbgrader": {
     "grade": false,
     "grade_id": "Q3-b",
     "locked": true,
     "solution": false
    }
   },
   "source": [
    "**(b)** (10 points) From this update scheme show that \n",
    "\n",
    "$$\\frac{x_{n+1} - \\sqrt{M}}{(x_n - \\sqrt{M})^2} = \\frac{1}{2 x_n}$$"
   ]
  },
  {
   "cell_type": "markdown",
   "metadata": {
    "nbgrader": {
     "grade": true,
     "grade_id": "A3-b",
     "locked": false,
     "points": 10,
     "solution": true
    }
   },
   "source": [
    "**Solution**\n",
    "\n",
    "From part a, we know that:\n",
    "\n",
    "$$x_{n+1} = \\frac{1}{2} \\left (x_n + \\frac{M}{x_n} \\right )$$\n",
    "\n",
    "Subracting by $\\sqrt{M}$\n",
    "\n",
    "$$x_{n+1} - \\sqrt{M} = \\frac{x_n}{2} + \\frac{M}{2x_n} - \\sqrt{M}$$\n",
    "\n",
    "$$x_{n+1} - \\sqrt{M} = \\frac{1}{2x_n}(x_n^2 + M - 2\\sqrt{M}x_n)$$\n",
    "\n",
    "Notice that $(x_n^2 + M - 2\\sqrt{M}x_n) = (x_n - \\sqrt{M})^2$:\n",
    "\n",
    "$$x_{n+1} - \\sqrt{M} = \\frac{1}{2x_n}(x_n - \\sqrt{M})^2$$\n",
    "\n",
    "$$\\frac{x_{n+1} - \\sqrt{M}}{(x_n - \\sqrt{M})^2} = \\frac{1}{2 x_n}$$"
   ]
  },
  {
   "cell_type": "markdown",
   "metadata": {
    "nbgrader": {
     "grade": false,
     "grade_id": "Q3-c",
     "locked": true,
     "solution": false
    }
   },
   "source": [
    "**(c)** (10 points) Confirm that the asymptotic error convergence matches the general convergence for Newton's method."
   ]
  },
  {
   "cell_type": "markdown",
   "metadata": {
    "nbgrader": {
     "grade": true,
     "grade_id": "A3-c",
     "locked": false,
     "points": 10,
     "solution": true
    }
   },
   "source": [
    "Let $g(x) = x - \\frac{f(x)}{f'(x)}$, then:\n",
    "\n",
    "$$x_{k+1} = g(x_k) = \\frac{1}{2} \\left (x_n + \\frac{M}{x_n} \\right )$$\n",
    "\n",
    "We know that by taylor expansion:\n",
    "\n",
    "$$e_{k+1} = g'(x^*) e_k + \\frac{g''(x^*) e_k^2}{2!} + \\ldots$$\n",
    "\n",
    "Solving for $g'(x)$:\n",
    "\n",
    "$$g'(x) = \\frac{1}{2} - \\frac{M}{2x_n^2}$$\n",
    "\n",
    "Since $g(x^*) = 0 \\rightarrow (x^*)^2 = M$. Thus:\n",
    "\n",
    "$$g'(x) = \\frac{1}{2} - \\frac{1}{2} = 0$$\n",
    "\n",
    "Simplfying our expressions:\n",
    "\n",
    "$$e_{k+1} = \\frac{g''(x^*) e_k^2}{2!} + \\ldots$$\n",
    "\n",
    "$$g''(x) = \\frac{M}{(x^*)^3} = \\frac{1}{x^*}$$\n",
    "\n",
    "$$e_{k+1} = \\frac{1}{2x^*}e_k^2 $$\n",
    "\n",
    "We can see this is equivalent to the general Newton Convergence:\n",
    "\n",
    "$$|\\epsilon_{n+1}| = \\frac{|f''(c)|}{2 |f'(x_n)|} |\\epsilon_n|^2$$\n",
    "\n",
    "Recall $f''(c) = 2$ and $f'(x_n) = 2x_n$\n",
    "\n",
    "$$e_{k+1} = \\frac{2}{4x_n}e_k^2 $$\n",
    "\n",
    "$$e_{k+1} = \\frac{1}{2x_n}e_k^2 $$"
   ]
  },
  {
   "cell_type": "markdown",
   "metadata": {
    "nbgrader": {
     "grade": false,
     "grade_id": "Q4",
     "locked": true,
     "solution": false
    }
   },
   "source": [
    "## Question 4 - Optimization of a Data Series\n",
    "\n",
    "For the following questions we are given a set of data $(t_0, y_0), (t_1, y_1), \\ldots, (t_N, y_N)$."
   ]
  },
  {
   "cell_type": "markdown",
   "metadata": {
    "nbgrader": {
     "grade": false,
     "grade_id": "Q4-a",
     "locked": true,
     "solution": false
    }
   },
   "source": [
    "**(a)** (15 points) Write a function that takes in the data series $(t_i, y_i)$ and finds the value at a point $t_\\ast$ by constructing the equation of the line between the two data points that bound $t_\\ast$ and evaluating the resulting function at $t_\\ast$.  Write a `doc-string` for the function.\n",
    "\n",
    "Hints:\n",
    " - Make sure to handle the case that $t_\\ast = t_i$.\n",
    " - If $t_\\ast < t_0$ or $t_\\ast > t_N$ then return the corresponding value $y_0$ or $y_N$.\n",
    " - If you write your function so that $t_\\ast$ can be an array you can use the plotting code in the cell.  Otherwise just delete it."
   ]
  },
  {
   "cell_type": "code",
   "execution_count": 12,
   "metadata": {
    "collapsed": false,
    "nbgrader": {
     "grade": false,
     "grade_id": "A4-a",
     "locked": false,
     "solution": true
    }
   },
   "outputs": [
    {
     "data": {
      "image/png": "[encoded data removed]",
      "text/plain": [
       "<matplotlib.figure.Figure at 0x10c862d50>"
      ]
     },
     "metadata": {},
     "output_type": "display_data"
    }
   ],
   "source": [
    "def linear_eval(t, y, t_star):\n",
    "    \"\"\"Find the value at a point t* given a data series (t_i, y_i)\n",
    "    \n",
    "    :Input:\n",
    "     - *t* (t values in data series) - t0, t1, ... t_N (1darray)\n",
    "     - *y* (f(t) or y values in data series) - y0, y1, ... y_N (1darray)\n",
    "     - *t_star* - value we want to evaluate the data series at (1darray) \n",
    "     \n",
    "    :Output:\n",
    "    If our t_star is within t_0 and t_N:\n",
    "     - *y_star* - value returned from evaluating data series at t_star\n",
    "    otherwise\n",
    "     - *y_star* - y0 if t_star was less than t0 and y_N if t_star was greater than t_N  \n",
    "    \"\"\"\n",
    "    \n",
    "    # INSERT CODE HERE\n",
    "    # Want t* to be an array so we convert it to one \n",
    "    if type(t_star) is not type(t):\n",
    "        t_star = numpy.array([float(t_star)])\n",
    "    \n",
    "    y_star = []\n",
    "    \n",
    "    #loop on each t* and first check if its in t0<t*<t_N\n",
    "    for n in xrange(0, len(t_star)):\n",
    "        t_eval = t_star[n]\n",
    "        if (t_eval < t[0]):\n",
    "            y_star.append(y[0])\n",
    "        elif (t_eval > t[N]):\n",
    "            y_star.append(y[N])\n",
    "        else:\n",
    "            i = 0\n",
    "            #find the upper bound on our t* value\n",
    "            while (t[i] <= t_eval):\n",
    "                i = i + 1\n",
    "            if (t[i] == t_eval):\n",
    "                y_star.append(y[i])\n",
    "            else:\n",
    "                #get the equation of a line\n",
    "                x1 = t[i-1]\n",
    "                x2 = t[i]\n",
    "                y1 = y[i-1]\n",
    "                y2 = y[i]\n",
    "                m = (y2 - y1) / (x2 - x1)\n",
    "                b = (y1) - (m * x1)\n",
    "                lin_f = lambda x: m*x + b\n",
    "                y_star.append(lin_f(t_eval))\n",
    "    return y_star\n",
    "\n",
    "N = 10\n",
    "t_fine = numpy.linspace(-numpy.pi, numpy.pi, 100)\n",
    "t_rand = numpy.random.rand(N + 1) * (2.0 * numpy.pi) - numpy.pi\n",
    "t_rand.sort()\n",
    "f = lambda x: numpy.sin(x) * numpy.cos(x)\n",
    "\n",
    "fig = plt.figure()\n",
    "fig.set_figwidth(fig.get_figwidth()*1.5)\n",
    "axes = fig.add_subplot(1, 1, 1)\n",
    "axes.plot(t_fine, f(t_fine), 'k-', label=\"True\")\n",
    "axes.plot(t_rand, f(t_rand), 'og', label=\"Sample Data\")\n",
    "axes.plot(t_fine, linear_eval(t_rand, f(t_rand), t_fine), 'xb', label=\"linear_eval\")\n",
    "axes.set_xlim((-numpy.pi, numpy.pi))\n",
    "axes.set_title(\"Demo Plot\")\n",
    "axes.set_xlabel('$t$')\n",
    "axes.set_ylabel('$f(t)$')\n",
    "axes.legend()\n",
    "plt.show()"
   ]
  },
  {
   "cell_type": "code",
   "execution_count": 13,
   "metadata": {
    "collapsed": false,
    "nbgrader": {
     "grade": true,
     "grade_id": "T4-a",
     "locked": true,
     "points": 15,
     "solution": false
    }
   },
   "outputs": [
    {
     "name": "stdout",
     "output_type": "stream",
     "text": [
      "Success!\n",
      "Computed solution: 0.420735492404\n",
      "True solution: 0.420735492404\n",
      "Success!\n"
     ]
    }
   ],
   "source": [
    "N = 10\n",
    "f = lambda x: numpy.sin(x) * numpy.cos(x)\n",
    "t = numpy.linspace(-1, 1, N + 1)\n",
    "t_star = 0.5\n",
    "\n",
    "numpy.testing.assert_almost_equal(linear_eval(t, f(t), t_star), f(t_star), verbose=True, decimal=2)\n",
    "print \"Success!\"\n",
    "\n",
    "N = 100\n",
    "f = lambda x: numpy.sin(x) * numpy.cos(x)\n",
    "t = numpy.linspace(-1, 1, N + 1)\n",
    "t_star = 0.5\n",
    "answer = linear_eval(t, f(t), t_star)\n",
    "if isinstance(answer, list):\n",
    "    answer = answer[0]\n",
    "print \"Computed solution: %s\" % answer\n",
    "print \"True solution: %s\" % f(t_star)\n",
    "numpy.testing.assert_almost_equal(answer, f(t_star), verbose=True, decimal=7)\n",
    "print \"Success!\""
   ]
  },
  {
   "cell_type": "markdown",
   "metadata": {
    "nbgrader": {
     "grade": false,
     "grade_id": "Q4-b",
     "locked": true,
     "solution": false
    }
   },
   "source": [
    "**(b)** (10 points) Using the function you wrote in part (a) write a function that uses Golden search to find the minimum of a series of data.  Again you can use the plotting code available if your `linear_eval` function from part (a) handles arrays.  Write a `doc-string` for the function."
   ]
  },
  {
   "cell_type": "code",
   "execution_count": 21,
   "metadata": {
    "collapsed": false,
    "nbgrader": {
     "grade": false,
     "grade_id": "A4-b",
     "locked": false,
     "solution": true
    }
   },
   "outputs": [
    {
     "data": {
      "image/png": "[encoded data removed]",
      "text/plain": [
       "<matplotlib.figure.Figure at 0x10d8e9e90>"
      ]
     },
     "metadata": {},
     "output_type": "display_data"
    }
   ],
   "source": [
    "def golden_search(bracket, t, y, max_steps=100, tolerance=1e-4):\n",
    "    \"\"\"Find the value at a point t* given a data series (t_i, y_i)\n",
    "    \n",
    "    :Input:\n",
    "     - *bracket* - list of two elements representing initial places to eval function\n",
    "     - *t* - list of values to evaluate (ndarray)\n",
    "     - *y* - (f(t) or y values in data series) - y0, y1, ... y_N (1darray)\n",
    "     \n",
    "    :Output:\n",
    "    If our t_star is within t_0 and t_N:\n",
    "     - *t_star* - value returned from evaluating data series at t_star \n",
    "    \"\"\"\n",
    "    \n",
    "    phi = (numpy.sqrt(5.0) - 1.0) / 2.0\n",
    "    \n",
    "\n",
    "    # INSERT CODE HERE\n",
    "    z = [bracket[0], None, None, bracket[1]]\n",
    "    z[1] = z[3] - phi * (z[3] - z[0])\n",
    "    z[2] = z[0] + phi * (z[3] - z[0])\n",
    "    \n",
    "    for n in xrange(1, max_steps + 1):\n",
    "        f_1 = linear_eval(t, y, z[1])\n",
    "        f_2 = linear_eval(t, y, z[2])\n",
    "\n",
    "        if f_1 > f_2:\n",
    "            z[3] = z[2]\n",
    "            z[2] = z[1]\n",
    "            z[1] = z[3] - phi * (z[3] - z[0])\n",
    "        else:\n",
    "            z[0] = z[1]\n",
    "            z[1] = z[2]\n",
    "            z[2] = z[0] + phi * (z[3] - z[0])\n",
    "\n",
    "        if numpy.abs(z[3] - z[0]) < tolerance:\n",
    "            #print \"x[3] is \", x[3]\n",
    "            #print \"x[0] is \", x[0]\n",
    "            #print \"t* is \", (x[3] + x[0]) / 2\n",
    "            break\n",
    "    \n",
    "    t_star = (z[3] + z[0]) / 2.0\n",
    "    \n",
    "    return t_star\n",
    "\n",
    "N = 10\n",
    "t_fine = numpy.linspace(-numpy.pi, numpy.pi, 100)\n",
    "t_rand = numpy.random.rand(N + 1) * (2.0 * numpy.pi) - numpy.pi\n",
    "t_rand.sort()\n",
    "f = lambda x: numpy.sin(x) * numpy.cos(x)\n",
    "\n",
    "fig = plt.figure()\n",
    "fig.set_figwidth(fig.get_figwidth()*1.5)\n",
    "axes = fig.add_subplot(1, 1, 1)\n",
    "axes.plot(t_fine, f(t_fine), 'k-', label=\"True\")\n",
    "axes.plot(t_rand, f(t_rand), 'og', label=\"Sample Data\")\n",
    "axes.plot(t_fine, linear_eval(t_rand, f(t_rand), t_fine), 'xb', label=\"linear_eval\")\n",
    "axes.set_xlim((-numpy.pi, numpy.pi))\n",
    "axes.set_title(\"Demo Plot\")\n",
    "axes.set_xlabel('$t$')\n",
    "axes.set_ylabel('$f(t)$')\n",
    "axes.legend()\n",
    "plt.show()"
   ]
  },
  {
   "cell_type": "code",
   "execution_count": 22,
   "metadata": {
    "collapsed": false,
    "nbgrader": {
     "grade": true,
     "grade_id": "T4-b",
     "locked": true,
     "points": 10,
     "solution": false
    }
   },
   "outputs": [
    {
     "name": "stdout",
     "output_type": "stream",
     "text": [
      "0.776831 - 0.785398 = 0.008567\n",
      "Error: 0.0085669565998, 0.0109077879209\n",
      "Success!\n"
     ]
    }
   ],
   "source": [
    "N = 100\n",
    "t = numpy.random.rand(N + 1) * (2.0 * numpy.pi) - numpy.pi\n",
    "t.sort()\n",
    "y = numpy.sin(t) * numpy.cos(t)\n",
    "t_star = golden_search([0.1, 3.0 * numpy.pi / 4.0], t, y)\n",
    "t_true = numpy.pi / 4.0\n",
    "abs_error = numpy.abs(t_star - t_true)\n",
    "rel_error = numpy.abs(t_star - t_true) / numpy.abs(t_true)\n",
    "print \"Error: %s, %s\" % (abs_error, rel_error)\n",
    "numpy.testing.assert_allclose(abs_error, 0.0, rtol=1e-1, atol=1e-1)\n",
    "print \"Success!\""
   ]
  },
  {
   "cell_type": "markdown",
   "metadata": {
    "collapsed": true,
    "nbgrader": {
     "grade": false,
     "grade_id": "Q4-c",
     "locked": true,
     "solution": false
    }
   },
   "source": [
    "**(c)** (5 points) Below is sample code that plots the number of sample points $N$ vs. the relative error.  Note because we are sampling at random points that we do each $N$ 6 times and average the relative error to reduce noise.  Additionally a line is drawn representing what would be linear (1st order) convergence.\n",
    "\n",
    "Modify this code and try it out on other problems.  Do you continue to see linear convergence?  What about if you change how we sample points?  Make sure that you change your initial interval and range of values of $t$ inside the loop."
   ]
  },
  {
   "cell_type": "code",
   "execution_count": 23,
   "metadata": {
    "collapsed": false,
    "nbgrader": {
     "grade": false,
     "grade_id": "A4-c",
     "locked": false,
     "solution": false
    }
   },
   "outputs": [
    {
     "data": {
      "image/png": "[encoded data removed]",
      "text/plain": [
       "<matplotlib.figure.Figure at 0x10d8e9550>"
      ]
     },
     "metadata": {},
     "output_type": "display_data"
    }
   ],
   "source": [
    "f = lambda t: numpy.sin(t)\n",
    "N_range = numpy.array([2**n for n in range(1, 7)], dtype=int)\n",
    "rel_error = numpy.zeros(len(N_range))\n",
    "t_true = numpy.pi / 2.0\n",
    "\n",
    "for (i, N) in enumerate(N_range):\n",
    "    for j in xrange(6):\n",
    "        t = numpy.random.rand(N + 1) * (2.0 * numpy.pi) - numpy.pi\n",
    "        t.sort()\n",
    "        y = f(t)\n",
    "        t_star = golden_search([0.1, 3.0 * numpy.pi / 4.0], t, y)\n",
    "        rel_error[i] += numpy.abs(t_star - t_true) / numpy.abs(t_true)\n",
    "    rel_error[i] /= 6\n",
    "\n",
    "order_C = lambda N, error, order: numpy.exp(numpy.log(error) - order * numpy.log(N))\n",
    "    \n",
    "fig = plt.figure()\n",
    "axes = fig.add_subplot(1, 1, 1)\n",
    "axes.loglog(N_range, rel_error, 'ko', label=\"Ave. Error\")\n",
    "axes.loglog(N_range, order_C(N_range[0], rel_error[0], -1.0) * N_range**(-1.0), 'r', label=\"1st order\")\n",
    "axes.loglog(N_range, order_C(N_range[0], rel_error[0], -2.0) * N_range**(-2.0), 'b', label=\"2nd Order\")\n",
    "axes.set_xlabel(\"N\")\n",
    "axes.set_ylabel(\"Relative Error\")\n",
    "axes.legend()\n",
    "plt.show()"
   ]
  },
  {
   "cell_type": "markdown",
   "metadata": {
    "nbgrader": {
     "grade": true,
     "grade_id": "A4-c",
     "locked": false,
     "points": 5,
     "solution": true
    }
   },
   "source": [
    "**Comments**\n",
    "\n",
    "Trying out golden section search on other problems reveals that we do continue to see linear convergence if we choose a good bracket. Each new function evaluation will bracket the minimum/maximum to a new interval $\\phi = \\frac{\\sqrt(5) - 1}{2}$ times the preceding interval, thus giving linear convergence. \n",
    "\n",
    "Basically, golden search works as an optimized bisection method. From lecture, we know that the bisection method is linearly convergent. Since the golden search works the same way, with this phi constant as a way to optmize moving brackets, it follows that golden search will converge linearly as well."
   ]
  },
  {
   "cell_type": "code",
   "execution_count": null,
   "metadata": {
    "collapsed": true
   },
   "outputs": [],
   "source": []
  }
 ],
 "metadata": {
  "anaconda-cloud": {},
  "kernelspec": {
   "display_name": "Python [Root]",
   "language": "python",
   "name": "Python [Root]"
  },
  "language_info": {
   "codemirror_mode": {
    "name": "ipython",
    "version": 2
   },
   "file_extension": ".py",
   "mimetype": "text/x-python",
   "name": "python",
   "nbconvert_exporter": "python",
   "pygments_lexer": "ipython2",
   "version": "2.7.12"
  }
 },
 "nbformat": 4,
 "nbformat_minor": 0
}
