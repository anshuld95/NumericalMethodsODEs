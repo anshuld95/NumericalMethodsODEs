{
 "cells": [
  {
   "cell_type": "code",
   "execution_count": 1,
   "metadata": {
    "collapsed": true,
    "nbgrader": {
     "grade": false,
     "grade_id": "header1",
     "locked": true,
     "solution": false
    }
   },
   "outputs": [],
   "source": [
    "%matplotlib inline\n",
    "%precision 16\n",
    "import numpy\n",
    "import matplotlib.pyplot as plt"
   ]
  },
  {
   "cell_type": "markdown",
   "metadata": {
    "nbgrader": {
     "grade": false,
     "grade_id": "header2",
     "locked": true,
     "solution": false
    }
   },
   "source": [
    "Before you turn this problem in, make sure everything runs as expected. First, restart the kernel (in the menubar, select Kernel $\\rightarrow$ Restart) and then run all cells (in the menubar, select Cell $\\rightarrow$ Run All).\n",
    "\n",
    "Make sure you fill in any place that says YOUR CODE HERE or \"YOUR ANSWER HERE\", as well as your name and collaborators below:"
   ]
  },
  {
   "cell_type": "markdown",
   "metadata": {},
   "source": [
    "**Name: Anshul Doshi (ad3222)**"
   ]
  },
  {
   "cell_type": "markdown",
   "metadata": {
    "nbgrader": {
     "grade": false,
     "grade_id": "header3",
     "locked": true,
     "solution": false
    }
   },
   "source": [
    "# HW 1 - Forms of Error"
   ]
  },
  {
   "cell_type": "markdown",
   "metadata": {
    "nbgrader": {
     "grade": false,
     "grade_id": "Q1",
     "locked": true,
     "points": 1,
     "solution": false
    }
   },
   "source": [
    "## Question 1\n",
    "\n",
    "Find the absolute error, relative error, and decimal precision (number of significant decimal digits) for the following $f$ and approximations $\\hat{f}$.  Note that here we may also mean precision as compared to $f$.  In these cases use the absolute error to help define $\\hat{f}$'s precision (each worth 5 points).\n",
    "\n",
    "**(a)** $f = \\pi$ and $\\hat{f} = 3.14$\n",
    "\n",
    "**(b)** $f = \\pi$ and $\\hat{f} = 22 / 7$\n",
    "\n",
    "**(c)** $f = \\log (n!)$ and $\\hat{f} = n~log(n) - n$ for $n = 5, ~~ 10, ~~ 100$ (Stirling's approximation)\n",
    "\n",
    "**(d)** $f = e^x$ and $\\hat{f} = T_n(x)$ where $T_n(x)$ is the Taylor polynomial approximation to $e^x$ expanded about $x = 0$.  Consider $N = 1, 2, 3$.  What vaule of $N$ is required for this approximation to be good to 6 digits of decimal precision?"
   ]
  },
  {
   "cell_type": "code",
   "execution_count": 2,
   "metadata": {
    "collapsed": false
   },
   "outputs": [
    {
     "name": "stdout",
     "output_type": "stream",
     "text": [
      "Part A Solution\n",
      "\n",
      "decimal precision p is: 3.0\n",
      "[3.0, 0.001593, 0.00050699999999999996]\n",
      "\n",
      "\n",
      "Part B Solution\n",
      "\n",
      "decimal precision p is: 3.0\n",
      "[3.0, 0.0012639999999999999, 0.00040199999999999996]\n",
      "\n",
      "\n",
      "Part C Solution\n",
      "\n",
      "decimal precision p is: 0.0\n",
      "[0.0, 1.74, 0.36399999999999999]\n",
      "decimal precision p is: 1.0\n",
      "[1.0, 2.0790000000000002, 0.13800000000000001]\n",
      "decimal precision p is: 2.0\n",
      "[2.0, 3.222, 0.0090000000000000011]\n",
      "\n",
      "\n",
      "Part D Solution\n",
      "\n",
      "approx is  1.0\n",
      "decimal precision p is: 0.0\n",
      "[0.0, 1.718, 0.63200000000000001]\n",
      "decimal precision p is: 0.0\n",
      "approx is  2.0\n",
      "decimal precision p is: 1.0\n",
      "[1.0, 0.71830000000000005, 0.26419999999999999]\n",
      "decimal precision p is: 1.0\n",
      "approx is  2.5\n",
      "decimal precision p is: 1.0\n",
      "[1.0, 0.21830000000000002, 0.08030000000000001]\n",
      "decimal precision p is: 1.0\n",
      "approx is  2.66666666667\n",
      "decimal precision p is: 2.0\n",
      "[2.0, 0.051620000000000006, 0.01899]\n",
      "decimal precision p is: 2.0\n",
      "approx is  2.70833333333\n",
      "decimal precision p is: 2.0\n",
      "[2.0, 0.0099480000000000002, 0.0036599999999999996]\n",
      "decimal precision p is: 2.0\n",
      "approx is  2.71666666667\n",
      "decimal precision p is: 3.0\n",
      "[3.0, 0.0016149999999999999, 0.00059400000000000002]\n",
      "decimal precision p is: 3.0\n",
      "approx is  2.71805555556\n",
      "decimal precision p is: 4.0\n",
      "[4.0, 0.0002263, 8.3199999999999989e-05]\n",
      "decimal precision p is: 4.0\n",
      "approx is  2.71825396825\n",
      "decimal precision p is: 5.0\n",
      "[5.0, 2.7860000000000001e-05, 1.025e-05]\n",
      "decimal precision p is: 5.0\n",
      "approx is  2.71827876984\n",
      "decimal precision p is: 6.0\n",
      "[6.0, 3.0590000000000003e-06, 1.125e-06]\n",
      "decimal precision p is: 6.0\n",
      " Solution --> N = 8\n"
     ]
    }
   ],
   "source": [
    "import sympy\n",
    "\n",
    "def get_error(true_val, approx_val):\n",
    "    f_hat = approx_val\n",
    "    f = true_val\n",
    "\n",
    "    abs_error = abs(f - f_hat)\n",
    "    rel_error = abs_error / f\n",
    "\n",
    "    #decimal percision\n",
    "    p = numpy.round(-numpy.log10(numpy.abs(rel_error)))    \n",
    "    print \"decimal precision p is:\" , p\n",
    "\n",
    "    n = numpy.floor(numpy.log10(abs_error))+1.0-4\n",
    "    abs_error = round(10.0**-n*abs_error)*10.0**n\n",
    "    rel_error = round(10.0**-n*rel_error)*10.0**n\n",
    "    return [p, abs_error,rel_error]\n",
    "\n",
    "#part a\n",
    "print \"Part A Solution\\n\"\n",
    "print get_error(numpy.pi,3.14)\n",
    "print '\\n' \n",
    "\n",
    "#part b\n",
    "print \"Part B Solution\\n\"\n",
    "print get_error(numpy.pi,22.0/7.0)\n",
    "print '\\n' \n",
    "\n",
    "#part c\n",
    "print \"Part C Solution\\n\"\n",
    "N = [5,10,100]\n",
    "for n in N:\n",
    "    print get_error(numpy.log(float(numpy.math.factorial(n))),(n*numpy.log(n)) - n)\n",
    "print '\\n' \n",
    "\n",
    "#part d\n",
    "print \"Part D Solution\\n\"\n",
    "T_n = 0\n",
    "for n in xrange(0,15):\n",
    "    #p = sympy.mpmath.taylor(sympy.exp, 0.0, n)\n",
    "    #approx = sympy.mpmath.polyval(p[::-1], 1.0)\n",
    "    T_n += (1.0 / numpy.math.factorial(n))\n",
    "    print 'approx is ' , T_n\n",
    "    print get_error(numpy.exp(1.0), T_n)\n",
    "    if get_error(numpy.exp(1.0), T_n)[0] == 6.0:\n",
    "        print \" Solution --> N =\", n \n",
    "        break\n",
    "    "
   ]
  },
  {
   "cell_type": "markdown",
   "metadata": {
    "nbgrader": {
     "grade": true,
     "grade_id": "A1",
     "locked": false,
     "points": 20,
     "solution": true
    }
   },
   "source": [
    "Absolute Error:  $e = |f - \\hat{f}|$\n",
    "\n",
    "Relative Error:  $r = \\frac{e}{|f|} = \\frac{|f - \\hat{f}|}{|f|}$\n",
    "\n",
    "See above for precise answers.\n",
    "\n",
    "**(a)** \n",
    "\n",
    "    Decimal Precision = 3\n",
    "\n",
    "    Absolute error:\n",
    "\n",
    "$$|\\pi - 3.14 | = 1.59 \\cdot 10^{-3}$$\n",
    "\n",
    "    Relative Error:\n",
    "\n",
    "$$\\frac{|\\pi - 3.14 |}{|3.14|} = 5.06 \\cdot 10^{-4}$$\n",
    "\n",
    "**(b)** \n",
    "\n",
    "    Decimal Precision = 3\n",
    "\n",
    "    Absolute error:\n",
    "\n",
    "$$|\\pi - \\frac{22}{7} | = 1.26 \\cdot 10^{-3}$$\n",
    "\n",
    "    Relative Error:\n",
    "\n",
    "$$\\frac{|\\pi - \\frac{22}{7} |}{|\\frac{22}{7}|} = 4.02 \\cdot 10^{-4}$$\n",
    "\n",
    "**(c)** \n",
    "\n",
    "**N = 5**\n",
    "\n",
    "    Decimal Precision = 0\n",
    "\n",
    "    Absolute error:\n",
    "\n",
    "$$|log(n!) - (nlog(n) - n) | = 1.74 \\approx 1$$\n",
    "\n",
    "    Relative Error:\n",
    "\n",
    "$$\\frac{|log(n!) - (nlog(n) - n) |}{(nlog(n) - n) } = .363 \\approx 0$$\n",
    "\n",
    "**N = 10**\n",
    "\n",
    "    Decimal Precision = 1\n",
    "\n",
    "    Absolute error:\n",
    "\n",
    "$$|log(n!) - (nlog(n) - n) | = 2.079 \\approx 2$$\n",
    "\n",
    "    Relative Error:\n",
    "\n",
    "$$\\frac{|log(n!) - (nlog(n) - n) |}{(nlog(n) - n) } = .13 \\approx 0 $$\n",
    "\n",
    "**N = 100**\n",
    "\n",
    "    Decimal Precision = 2\n",
    "\n",
    "    Absolute error:\n",
    "\n",
    "$$|log(n!) - (nlog(n) - n) | = 3.22$$\n",
    "\n",
    "    Relative Error:\n",
    "\n",
    "$$\\frac{|log(n!) - (nlog(n) - n) |}{(nlog(n) - n) } = .0090 $$\n",
    "\n",
    "**(d)**\n",
    "\n",
    "As per the above function, N = 8 for the decimal percision to be 6"
   ]
  },
  {
   "cell_type": "markdown",
   "metadata": {
    "nbgrader": {
     "grade": false,
     "grade_id": "Q2",
     "locked": true,
     "solution": false
    }
   },
   "source": [
    "## Question 2"
   ]
  },
  {
   "cell_type": "markdown",
   "metadata": {
    "collapsed": true,
    "nbgrader": {
     "grade": false,
     "grade_id": "Q2-a",
     "locked": true,
     "solution": false
    }
   },
   "source": [
    "**(a)** (10) Write a Python program to compute\n",
    "\n",
    "$$S_N = \\sum^N_{n=1} \\left [ \\frac{1}{n} - \\frac{1}{n+1} \\right ] = \\sum^N_{n=1} \\frac{1}{n (n + 1)}$$\n",
    "\n",
    "once using the first summation and once using the second for $N = 10, 10^2, \\ldots , 10^7$."
   ]
  },
  {
   "cell_type": "code",
   "execution_count": 3,
   "metadata": {
    "collapsed": false,
    "nbgrader": {
     "grade": false,
     "grade_id": "A2-a",
     "locked": false,
     "solution": true
    }
   },
   "outputs": [],
   "source": [
    "def sum_1(N):\n",
    "    \"\"\"Compute the summation S_N defined as\n",
    "    \n",
    "    \\sum^N_{n=1} \\left [ \\frac{1}{n} - \\frac{1}{n+1} \\right ]\n",
    "    \n",
    "    :Input:\n",
    "     *N* (int) The upper bound on the summation.\n",
    "    \n",
    "    Returns Sn (float)\n",
    "    \"\"\"\n",
    "    \n",
    "    # INSERT CODE HERE\n",
    "    Sn = 0\n",
    "    for n in xrange(1,N+1):\n",
    "        Sn += (1.0/n) - (1.0/(n+1))\n",
    "    return Sn\n",
    "    \n",
    "def sum_2(N):\n",
    "    \"\"\"Compute the summation S_N defined as\n",
    "    \n",
    "    \\sum^N_{n=1} \\frac{1}{n (n + 1)}\n",
    "    \n",
    "    :Input:\n",
    "     *N* (int) The upper bound on the summation.\n",
    "    \n",
    "    Returns Sn (float)\n",
    "    \"\"\"\n",
    "\n",
    "    # INSERT CODE HERE\n",
    "    Sn = 0\n",
    "    for n in xrange(1,N+1):\n",
    "        Sn += 1.0/(n*(n+1))\n",
    "    return Sn"
   ]
  },
  {
   "cell_type": "code",
   "execution_count": 4,
   "metadata": {
    "collapsed": false,
    "nbgrader": {
     "grade": true,
     "grade_id": "T2-a",
     "locked": true,
     "points": 10,
     "solution": false
    }
   },
   "outputs": [
    {
     "name": "stdout",
     "output_type": "stream",
     "text": [
      "Success!\n"
     ]
    }
   ],
   "source": [
    "N = numpy.array([10**n for n in xrange(1,8)])\n",
    "answer = numpy.zeros((2, N.shape[0]))\n",
    "for (n, upper_bound) in enumerate(N):\n",
    "    answer[0, n] = sum_1(upper_bound)\n",
    "    answer[1, n] = sum_2(upper_bound)\n",
    "numpy.testing.assert_allclose(answer[0, :], numpy.array([0.9090909090909089, 0.9900990099009896, \n",
    "                                                         0.9990009990009996, 0.9999000099990004, \n",
    "                                                         0.9999900001000117, 0.9999990000010469,\n",
    "                                                         0.9999998999998143]))\n",
    "numpy.testing.assert_allclose(answer[1, :], numpy.array([0.9090909090909091, 0.9900990099009898, \n",
    "                                                         0.9990009990009997, 0.9999000099990007, \n",
    "                                                         0.9999900001000122, 0.9999990000010476, \n",
    "                                                         0.9999998999998153]))\n",
    "print \"Success!\""
   ]
  },
  {
   "cell_type": "markdown",
   "metadata": {
    "nbgrader": {
     "grade": false,
     "grade_id": "Q2-b",
     "locked": true,
     "solution": false
    }
   },
   "source": [
    "**(b)**  (5) Compute the absolute error between the two summation approaches. "
   ]
  },
  {
   "cell_type": "code",
   "execution_count": 5,
   "metadata": {
    "collapsed": true,
    "nbgrader": {
     "grade": false,
     "grade_id": "A2-b",
     "locked": false,
     "solution": true
    }
   },
   "outputs": [],
   "source": [
    "def abs_error(N):\n",
    "    \"\"\"Compute the absolute error of the two sums defined as\n",
    "    \n",
    "    \\sum^N_{n=1} \\left [ \\frac{1}{n} - \\frac{1}{n+1} \\right ]\n",
    "    \n",
    "    and \n",
    "    \n",
    "    \\sum^N_{n=1} \\frac{1}{n (n + 1)}\n",
    "    \n",
    "    respectively for the given N.\n",
    "    \n",
    "    :Input:\n",
    "     *N* (int) The upper bound on the summation.\n",
    "    \n",
    "    Returns *error* (float)\n",
    "    \"\"\"\n",
    "    \n",
    "    # INSERT CODE HERE\n",
    "    f = sum_1(N)\n",
    "    f_hat = sum_2(N)\n",
    "    \n",
    "    \n",
    "    error = numpy.abs(f-f_hat)\n",
    "    #print f, ' - ', f_hat, ' = ', error\n",
    "    return error"
   ]
  },
  {
   "cell_type": "code",
   "execution_count": 6,
   "metadata": {
    "collapsed": false,
    "nbgrader": {
     "grade": true,
     "grade_id": "T2-b",
     "locked": true,
     "points": 5,
     "solution": false
    }
   },
   "outputs": [
    {
     "name": "stdout",
     "output_type": "stream",
     "text": [
      "Success!\n"
     ]
    }
   ],
   "source": [
    "N = numpy.array([10**n for n in xrange(1,8)])\n",
    "answer = numpy.zeros(N.shape)\n",
    "for (n, upper_bound) in enumerate(N):\n",
    "    answer[n] = abs_error(upper_bound)\n",
    "numpy.testing.assert_allclose(answer, numpy.array([1.1102230246251565e-16, 1.1102230246251565e-16, \n",
    "                                                   1.1102230246251565e-16, 3.3306690738754696e-16, \n",
    "                                                   4.4408920985006262e-16, 6.6613381477509392e-16, \n",
    "                                                   9.9920072216264089e-16]))\n",
    "print \"Success!\""
   ]
  },
  {
   "cell_type": "markdown",
   "metadata": {
    "nbgrader": {
     "grade": false,
     "grade_id": "Q2-c",
     "locked": true,
     "points": 1,
     "solution": false
    }
   },
   "source": [
    "**(c)** (10) Plot the relative and absolute error versus $N$.  Also plot a line where $\\epsilon_{\\text{machine}}$ should be.  Comment on what you see."
   ]
  },
  {
   "cell_type": "code",
   "execution_count": 7,
   "metadata": {
    "collapsed": false,
    "nbgrader": {
     "grade": true,
     "grade_id": "A2-c",
     "locked": false,
     "points": 10,
     "solution": true
    },
    "scrolled": false
   },
   "outputs": [
    {
     "data": {
      "image/png": "[encoded data removed]",
      "text/plain": [
       "<matplotlib.figure.Figure at 0x7f0d63a324d0>"
      ]
     },
     "metadata": {},
     "output_type": "display_data"
    }
   ],
   "source": [
    "fig = plt.figure()\n",
    "fig.set_figwidth(fig.get_figwidth() * 2)\n",
    "\n",
    "# HINT!  Use the plotting function semilogx to plot the errors\n",
    "#        Also, do not forget to label your plot\n",
    "\n",
    "# INSERT CODE HERE\n",
    "axes = fig.add_subplot(1,1,1)\n",
    "abs_list = []\n",
    "rel_list = []\n",
    "n_list = []\n",
    "for x in xrange(1,8):\n",
    "    n = 10**x\n",
    "    n_list.append(n)\n",
    "    err = abs_error(n)\n",
    "    abs_list.append(err)\n",
    "    rel_list.append(err / numpy.abs(sum_1(n)))\n",
    "    abs_plot = axes.semilogx(n, err, 'bo')\n",
    "    rel_plot = axes.semilogx(n, err / numpy.abs(sum_1(n)), 'ro')\n",
    "    eps_plot = axes.semilogx(n, numpy.finfo(float).eps, 'go')\n",
    "axes.semilogx(n_list, abs_list)\n",
    "axes.semilogx(n_list, rel_list)\n",
    "axes.set_xlabel('N')\n",
    "axes.set_ylabel('error')\n",
    "axes.set_title('Plotting Error')\n",
    "axes.ticklabel_format(axis='y', style='sci', scilimits=(-1,1))\n",
    "axes.set_xlim(0, 10**8)\n",
    "plt.axhline(y = numpy.finfo(float).eps, xmin=0, xmax=10^8, linewidth=1, color = 'k')\n",
    "\n",
    "\n",
    "plt.show()\n",
    "\n",
    "\n"
   ]
  },
  {
   "cell_type": "markdown",
   "metadata": {},
   "source": [
    "**Comments**\n",
    "\n",
    "We can see that the relative error and absolute error are superimposed. At small n, we can notice the discrepancy between absolute and realtive error but then, due to the series converging at 1, they end up being nearly equal. This seems to tell us that the sum above, converges to 1, without actually solving for this convergence. In addition, we can see that for larger N, out error gets increasingly larger which makes sense as we had seen how this type of error compunds in class excercises."
   ]
  },
  {
   "cell_type": "markdown",
   "metadata": {
    "nbgrader": {
     "grade": false,
     "grade_id": "Q2-d",
     "locked": true,
     "points": 1,
     "solution": false
    }
   },
   "source": [
    "**(d)** (5) Theorize what may have lead to the differences in answers."
   ]
  },
  {
   "cell_type": "markdown",
   "metadata": {
    "nbgrader": {
     "grade": true,
     "grade_id": "A2-d",
     "locked": false,
     "points": 5,
     "solution": true
    }
   },
   "source": [
    "The difference in answers occurs due to floating point error. We are approximating real numbers with finite precision causing to get these different values in the summation. Moreover, the more arithmetic we perform, the more this floating point error compunds leading to serious discrepancies. Therefore, because of this finite precision, we need to be cognizant of truncation and floating point error.\n",
    "\n",
    "For example, if we take the third term in the series, the first series has a fraction $\\frac{1}{3} - \\frac{1}{4}$ and the second sum has a fraction $\\frac{1}{12}$. As we saw in the class, $\\frac{1}{3}$ is a repeating decimal so due to our finite precision, we will have to truncate it causing us to get some error. Therefore, this trucncation and then calculation would account for the difference in answers between the two summations. "
   ]
  },
  {
   "cell_type": "markdown",
   "metadata": {
    "nbgrader": {
     "grade": false,
     "grade_id": "Q3",
     "locked": true,
     "solution": false
    }
   },
   "source": [
    "## Question 3\n",
    "\n",
    "Following our discussion in lecture regarding approximating $e^x$ again consider the Taylor polynomial approximation:\n",
    "\n",
    "$$e^x \\approx T_n(x) = 1 + x + \\frac{x^2}{2!} + \\frac{x^3}{3!} + \\cdots + \\frac{x^n}{n!}$$"
   ]
  },
  {
   "cell_type": "markdown",
   "metadata": {
    "nbgrader": {
     "grade": false,
     "grade_id": "Q3-a",
     "locked": true,
     "points": 1,
     "solution": false
    }
   },
   "source": [
    "**(a)** Derive the upper bound on the *relative error* assuming that $x > 0$ and\n",
    "\n",
    "$$R_n = \\frac{|e^x - T_n(x)|}{|e^x|}$$\n",
    "\n",
    "is given by\n",
    "\n",
    "$$R_n \\leq \\left | \\frac{x^{n+1}}{(n + 1)!} \\right |$$"
   ]
  },
  {
   "cell_type": "markdown",
   "metadata": {
    "nbgrader": {
     "grade": true,
     "grade_id": "A3-a",
     "locked": false,
     "points": 15,
     "solution": true
    }
   },
   "source": [
    "**(a)** Deriving the upper bound:\n",
    "\n",
    "$$ f(x) = T_N(x) + R_N(x)$$\n",
    "\n",
    "$$R_N(x) = \\frac{f^{(n+1)}(c) \\cdot (x - x_0)^{n+1}}{(n+1)!}$$\n",
    "\n",
    "$$R_N(x) = \\frac{e^cx^{n+1}}{(n+1)!}$$\n",
    "\n",
    "$$ R_N(x) = f(x) - T_N(x)$$\n",
    "\n",
    "$$R_N(x) = e^x - T_N(x)$$\n",
    "\n",
    "The Residual here appears exactly in our relative error equation:\n",
    "\n",
    "$$R_n = \\frac{|R_N(x)|}{|e^x|} =  \\left | \\frac{e^c}{e^x} \\right | \\left | \\frac{x^{n+1}}{(n+1)!} \\right |$$\n",
    "\n",
    "We must choose a c that will maximize the error. With a choice from [0,x], we must choose x since the denominator is exponentially decreasing driving any other choice to 0.\n",
    "\n",
    "Therefore:\n",
    "\n",
    "$$R_n \\leq \\left | \\frac{x^{n+1}}{(n + 1)!} \\right |$$"
   ]
  },
  {
   "cell_type": "markdown",
   "metadata": {
    "nbgrader": {
     "grade": false,
     "grade_id": "Q3-b",
     "locked": true,
     "points": 1,
     "solution": false
    }
   },
   "source": [
    "**(b)** Show that for large $x$ and $n$, $r_n \\leq \\epsilon_{\\text{machine}}$ implies that we need at least $n > e \\cdot x$ terms in the series (where $e = \\text{exp}(1)$).\n",
    "\n",
    "*Hint* Use Stirling's approximation $log (n!) \\approx n~log~n - n$."
   ]
  },
  {
   "cell_type": "markdown",
   "metadata": {
    "nbgrader": {
     "grade": true,
     "grade_id": "A3-b",
     "locked": false,
     "points": 15,
     "solution": true
    }
   },
   "source": [
    "**(b)** We know the following:\n",
    "\n",
    "$$r_n \\leq \\epsilon_{\\text{machine}}$$ and $$r_n \\leq \\left | \\frac{x^{n+1}}{(n + 1)!} \\right |$$ \n",
    "\n",
    "Therefore, let\n",
    "\n",
    "$$\\left | \\frac{x^{n+1}}{(n + 1)!} \\right | \\leq \\epsilon_{\\text{machine}}$$\n",
    "\n",
    "$$log (x^{n+1}) - log (n+1!) \\leq log(\\epsilon_{\\text{machine}})$$\n",
    "\n",
    "By Stirling's Approximation:\n",
    "\n",
    "$$(n+1)log (x) - [(n+1) log (n+1) - (n+1)] \\leq log(\\epsilon_{\\text{machine}})$$\n",
    "\n",
    "$$(n+1) [log(x)-log(n+1)+1] \\leq log(\\epsilon_{\\text{machine}}) $$\n",
    "\n",
    "$$log(x) + 1 \\leq \\frac{log(\\epsilon_{\\text{machine}})}{n+1} + log(n+1)$$\n",
    "\n",
    "For large n, $\\frac{log(\\epsilon_{\\text{machine}})}{n+1}$ will go to 0 and $log(n+1) \\approx log(n)$:\n",
    "\n",
    "$$log(n) > log(x) + 1 \\rightarrow log(n) > log(e \\cdot x)$$\n",
    "\n",
    "$$n > e \\cdot x$$"
   ]
  },
  {
   "cell_type": "markdown",
   "metadata": {
    "nbgrader": {
     "grade": false,
     "grade_id": "Q3-c",
     "locked": true,
     "solution": false
    }
   },
   "source": [
    "**(c)** Write a Python function that accurately computes $T_n$ to the specified relative error tolerance and returns both the estimate on the range and the number of terms in the series needed over the interval $[-2, 2]$.  Note that the testing tolerance will be $8 \\cdot \\epsilon_{\\text{machine}}$.\n",
    "\n",
    "Make sure to document your code including expected inputs, outputs, and assumptions being made."
   ]
  },
  {
   "cell_type": "code",
   "execution_count": 8,
   "metadata": {
    "collapsed": false,
    "nbgrader": {
     "grade": false,
     "grade_id": "A3-c",
     "locked": false,
     "solution": true
    }
   },
   "outputs": [],
   "source": [
    "# HINT: Think about how we evaluated polynomials efficiently in class\n",
    "\n",
    "'''Horners Method.\n",
    "\n",
    "Expected inputs: x as an ndarray and tolerance for error\n",
    "\n",
    "Outputs: \n",
    "    Taylor Approximations in the form of a list, showing all different calculations from varying x\n",
    "    N - number of steps before tolerance reached.\n",
    "'''\n",
    "\n",
    "import scipy.misc as misc\n",
    "\n",
    "def Tn_exp(x, tolerance=1e-3):\n",
    "    \"\"\" Returns the Evaluated Taylor Polynomial given \"\"\"\n",
    "    MAX_N = 100\n",
    "    N = MAX_N\n",
    "    \n",
    "    # INSERT CODE HERE\n",
    "    \"\"\"We are assuming x is an array here\"\"\"\n",
    "    y = numpy.ones(x.shape) * (1.0/misc.factorial(MAX_N))\n",
    "    \n",
    "    \"\"\"We go backwards in order to get our list of coefficients\"\"\"\n",
    "    for n in xrange(MAX_N - 1, -1, -1):\n",
    "        y = y * x + (1.0/misc.factorial(n))\n",
    "        if numpy.all(numpy.abs(numpy.exp(1) - y) / y ) < tolerance:\n",
    "            N = n\n",
    "            break\n",
    "    print N\n",
    "    Tn = y\n",
    "    return Tn, N"
   ]
  },
  {
   "cell_type": "code",
   "execution_count": 9,
   "metadata": {
    "collapsed": false,
    "nbgrader": {
     "grade": true,
     "grade_id": "T3-c",
     "locked": true,
     "points": 10,
     "solution": false
    }
   },
   "outputs": [
    {
     "name": "stdout",
     "output_type": "stream",
     "text": [
      "100\n",
      "Success!\n"
     ]
    }
   ],
   "source": [
    "x = numpy.linspace(-2, 2, 100)\n",
    "tolerance = 8.0 * numpy.finfo(float).eps\n",
    "answer, N = Tn_exp(x, tolerance=tolerance)\n",
    "assert(numpy.all(numpy.abs(answer - numpy.exp(x)) / numpy.abs(numpy.exp(x)) < tolerance))\n",
    "print \"Success!\""
   ]
  },
  {
   "cell_type": "markdown",
   "metadata": {
    "nbgrader": {
     "grade": false,
     "grade_id": "Q4",
     "locked": true,
     "points": 1,
     "solution": false
    }
   },
   "source": [
    "## Question 4\n",
    "\n",
    "Given the Taylor polynomial expansions\n",
    "\n",
    "$$\\frac{1}{1-\\Delta x} = 1 + \\Delta x + \\Delta x^2 + \\Delta x^3 + \\mathcal{O}(\\Delta x^4)$$\n",
    "\n",
    "and\n",
    "\n",
    "$$\\cosh \\Delta x = 1 - \\frac{\\Delta x^2}{2!} + \\frac{\\Delta x^4}{4!} + \\mathcal{O}(\\Delta x^6)$$\n",
    "\n",
    "determine the order of approximation for their sum and product (determine the exponent that belongs in the $\\mathcal{O}$).\n"
   ]
  },
  {
   "cell_type": "markdown",
   "metadata": {
    "nbgrader": {
     "grade": true,
     "grade_id": "A4",
     "locked": false,
     "points": 10,
     "solution": true
    }
   },
   "source": [
    "**Solution**\n",
    "\n",
    "We know the following:\n",
    "   \n",
    "$$f(\\Delta x) = p(\\Delta x) + O(\\Delta x^n)$$\n",
    "$$g(\\Delta x) = q(\\Delta x) + O(\\Delta x^m)$$\n",
    "$$r = \\min(n, m)$$ \n",
    "\n",
    "$$f+g = p + q + O(\\Delta x^r)$$\n",
    "\n",
    "$$f \\cdot g = p \\cdot q + p \\cdot O(\\Delta x^m) + q \\cdot O(\\Delta x^n) + O(\\Delta x^{n+m}) = p \\cdot q + O(\\Delta x^r)$$\n",
    "\n",
    "In this case:\n",
    "\n",
    "$$f(\\Delta x) = \\frac{1}{1-\\Delta x} ~~~~~~ p(\\Delta x) = 1 + \\Delta x + \\Delta x^2 + \\Delta x^3$$\n",
    "\n",
    "$$g(\\Delta x) = \\cosh \\Delta x ~~~~~~ q(\\Delta x) = 1 - \\frac{\\Delta x^2}{2!} + \\frac{\\Delta x^4}{4!}$$\n",
    "\n",
    "$$r = \\min(n, m) = \\min(4,6) = 4 \\leftarrow Sol.$$\n",
    "\n",
    "    f+g:\n",
    "    \n",
    "$$f + g = p + q + O(\\Delta x^r)$$\n",
    "$$= 1 + \\Delta x + \\Delta x^2 + \\Delta x^3 + 1 - \\frac{\\Delta x^2}{2!} + \\frac{\\Delta x^4}{4!} + O(\\Delta x^4)$$ \n",
    "$$= 2 + \\Delta x + \\frac{\\Delta x^2}{2} + \\Delta x^3 + O(\\Delta x^4)$$\n",
    "\n",
    "    fg:\n",
    "\n",
    "$$f \\cdot g = p \\cdot q + p \\cdot O(\\Delta x^m) + q \\cdot O(\\Delta x^n) + O(\\Delta x^{n+m}) = p \\cdot q + O(\\Delta x^r)$$\n",
    "$$(1 + \\Delta x + \\Delta x^2 + \\Delta x^3) \\cdot (1 - \\frac{\\Delta x^2}{2!} + \\frac{\\Delta x^4}{4!}) + (1 + \\Delta x + \\Delta x^2 + \\Delta x^3) \\cdot (\\mathcal{O}(\\Delta x^6)) + (1 - \\frac{\\Delta x^2}{2!} + \\frac{\\Delta x^4}{4!}) \\cdot (\\mathcal{O}(\\Delta x^4)) + \\mathcal{O}(\\Delta x^{10}) $$\n",
    "$$= (1 + \\Delta x + \\Delta x^2 + \\Delta x^3) \\cdot (1 - \\frac{\\Delta x^2}{2!} + \\frac{\\Delta x^4}{4!}) + (\\mathcal{O}(\\Delta x^r)$$\n",
    "$$r = \\min(n, m) = \\min(4,6) = 4 \\leftarrow Sol.$$"
   ]
  },
  {
   "cell_type": "code",
   "execution_count": null,
   "metadata": {
    "collapsed": true
   },
   "outputs": [],
   "source": []
  }
 ],
 "metadata": {
  "anaconda-cloud": {},
  "celltoolbar": "Create Assignment",
  "kernelspec": {
   "display_name": "Python [Root]",
   "language": "python",
   "name": "Python [Root]"
  },
  "language_info": {
   "codemirror_mode": {
    "name": "ipython",
    "version": 2
   },
   "file_extension": ".py",
   "mimetype": "text/x-python",
   "name": "python",
   "nbconvert_exporter": "python",
   "pygments_lexer": "ipython2",
   "version": "2.7.12"
  },
  "latex_envs": {
   "bibliofile": "biblio.bib",
   "cite_by": "apalike",
   "current_citInitial": 1,
   "eqLabelWithNumbers": true,
   "eqNumInitial": 0
  }
 },
 "nbformat": 4,
 "nbformat_minor": 0
}
