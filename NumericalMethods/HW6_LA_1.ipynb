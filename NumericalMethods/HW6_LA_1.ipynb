{
 "cells": [
  {
   "cell_type": "code",
   "execution_count": 2,
   "metadata": {
    "collapsed": false,
    "nbgrader": {
     "grade": false,
     "grade_id": "header1",
     "locked": false,
     "solution": false
    }
   },
   "outputs": [],
   "source": [
    "%matplotlib inline\n",
    "%precision 16\n",
    "import numpy\n",
    "import matplotlib.pyplot as plt"
   ]
  },
  {
   "cell_type": "markdown",
   "metadata": {
    "nbgrader": {
     "grade": false,
     "grade_id": "header1",
     "locked": true,
     "solution": false
    }
   },
   "source": [
    "Before you turn this problem in, make sure everything runs as expected. First, restart the kernel (in the menubar, select Kernel $\\rightarrow$ Restart) and then run all cells (in the menubar, select Cell $\\rightarrow$ Run All).\n",
    "\n",
    "Make sure you fill in any place that says YOUR CODE HERE or \"YOUR ANSWER HERE\", as well as your name and collaborators below:"
   ]
  },
  {
   "cell_type": "markdown",
   "metadata": {
    "nbgrader": {
     "grade": false,
     "grade_id": "header2",
     "locked": true,
     "solution": false
    }
   },
   "source": [
    "# HW 6:  Linear Algebra Part 1"
   ]
  },
  {
   "cell_type": "markdown",
   "metadata": {
    "nbgrader": {
     "grade": false,
     "grade_id": "Q1",
     "locked": true,
     "solution": false
    }
   },
   "source": [
    "## Question 1\n",
    "\n",
    "The Frobenius norm $\\|\\cdot\\|_F$ of a matrix $A\\in\\mathbb R^{m\\times n}$ is defined as\n",
    "\n",
    "$$\n",
    "  \\|A\\|_F := \\left( \\sum_{i=1}^m\\sum_{j=1}^n |a_{ij}|^2\\right )^{1/2}.\n",
    "$$"
   ]
  },
  {
   "cell_type": "markdown",
   "metadata": {
    "nbgrader": {
     "grade": false,
     "grade_id": "Q1-a",
     "locked": true,
     "solution": false
    }
   },
   "source": [
    "**(a)** (10 points) - Show that $\\|\\cdot\\|_F$ is indeed a norm on $\\mathbb R^{m\\times n}$ (show that it follows the definition and properties of a matrix norm)."
   ]
  },
  {
   "cell_type": "markdown",
   "metadata": {
    "nbgrader": {
     "grade": true,
     "grade_id": "A1-a",
     "locked": false,
     "points": 10,
     "solution": true
    }
   },
   "source": [
    "**Solution**\n",
    "\n",
    "**Property 1: $||A|| \\geq 0$ and $||A|| = 0$ only if $A = 0$:**\n",
    "\n",
    "$$\\|A\\|_F = \\left( \\sum_{i=1}^m\\sum_{j=1}^n |a_{ij}|^2\\right )^{1/2} \\geq 0 \\:\\: \\checkmark$$\n",
    "$$\\|A\\|_F = \\left( \\sum_{i=1}^m\\sum_{j=1}^n |a_{ij}|^2\\right )^{1/2} = 0 \\text{ if and only if } A = 0 \\:\\: \\checkmark$$\n",
    "\n",
    "**Property 2: $||A + B|| \\leq ||A|| + ||B||$ (Triangle Inequality):**\n",
    "\n",
    "$$\\|A+B\\|_F = \\left( \\sum_{i=1}^m\\sum_{j=1}^n |a_{ij}+b_{ij}|^2\\right )^{1/2}$$\n",
    "$$\\|A+B\\|_F^2= \\left( \\sum_{i=1}^m\\sum_{j=1}^n |a_{ij}|^2+2|a_{ij}||b_{ij}|+|b_{ij}|^2\\right )$$\n",
    "$$\\|A+B\\|_F^2= \\sum_{i=1}^m\\sum_{j=1}^n |a_{ij}|^2+2\\sum_{i=1}^m\\sum_{j=1}^n|a_{ij}||b_{ij}|+\\sum_{i=1}^m\\sum_{j=1}^n|b_{ij}|^2$$\n",
    "\n",
    "By Cauchy-Schwarz Inequality, this result is less than:\n",
    "\n",
    "$$\\leq \\sum_{i=1}^m\\sum_{j=1}^n |a_{ij}|^2+2\\left (\\sum_{i=1}^m\\sum_{j=1}^n|a_{ij}|^2\\right)^{1/2}\\left( \\sum_{i=1}^m\\sum_{j=1}^n|b_{ij}|^2\\right)^{1/2}+\\sum_{i=1}^m\\sum_{j=1}^n|b_{ij}|^2$$\n",
    "$$\\leq \\left( \\left (\\sum_{i=1}^m\\sum_{j=1}^n|a_{ij}|^2\\right)^{1/2}+\\left( \\sum_{i=1}^m\\sum_{j=1}^n|b_{ij}|^2\\right)^{1/2} \\right) ^2$$\n",
    "\n",
    "Therefore we have triangle inequality:\n",
    "\n",
    "$$\\|A+B\\|_F \\leq \\|A\\|_F  + \\|B\\|_F \\:\\: \\checkmark $$\n",
    "\n",
    "**Property 3: $||c A|| = |c| ||A||$:**\n",
    "\n",
    "$$\\|cA\\|_F = \\left( \\sum_{i=1}^m\\sum_{j=1}^n |ca_{ij}|^2\\right )^{1/2} = \\left( \\sum_{i=1}^m\\sum_{j=1}^n |c|^2|a_{ij}|^2\\right )^{1/2} = |c|^2\\left( \\sum_{i=1}^m\\sum_{j=1}^n |a_{ij}|^2\\right )^{1/2} = c\\|A\\|_F \\:\\: \\checkmark$$"
   ]
  },
  {
   "cell_type": "markdown",
   "metadata": {
    "nbgrader": {
     "grade": false,
     "grade_id": "Q1-b",
     "locked": true,
     "solution": false
    }
   },
   "source": [
    "**(b)** (10 points) - Show that the Frobenius norm fulfills the following inequality \n",
    "$$\n",
    " \\|Ax\\|_2 \\leq \\|A\\|_F \\cdot \\|x\\|_2 \\qquad \\text{for all }A\\in\\mathbb R^{m\\times n}, x\\in \\mathbb R^n,\n",
    "$$\n",
    "where $\\|\\cdot\\|_2$ is the Euclidean norm."
   ]
  },
  {
   "cell_type": "markdown",
   "metadata": {
    "collapsed": true,
    "nbgrader": {
     "grade": true,
     "grade_id": "A1-b",
     "locked": false,
     "points": 10,
     "solution": true
    }
   },
   "source": [
    "**Solution**\n",
    "\n",
    "We know that:\n",
    "\n",
    "$$\\|Ax\\|_2 = || \\sum^n_{j=1} a_j x_j ||_2 \\leq \\sum^n_{j=1} |x_j| ||a_j||_2$$\n",
    "\n",
    "By Cauchy Schwarz Inequality: $\\sum^n_{i=1} x_i y_i \\leq \\left( \\sum^n_{i=1} x_i^2 \\right)^{\\frac{1}{2}}\\left( \\sum^n_{i=1} y_i^2 \\right)^{\\frac{1}{2}}$:\n",
    "\n",
    "$$\\|Ax\\|_2 \\leq \\left( \\sum^n_{j=1} |x_j|^2 \\right)^{\\frac{1}{2}}\\left( \\sum^n_{j=1} |a_j|^2 \\right)^{\\frac{1}{2}}$$\n",
    "\n",
    "Now if we expand out the Frobenius norm and the euclidean norm:\n",
    "\n",
    "$$\\|A\\|_F \\cdot \\|x\\|_2 = \\left( \\sum_{i=1}^m\\sum_{j=1}^n |a_{ij}|^2\\right )^{1/2} \\cdot  \\left( \\sum^m_{i=1} |x_i|^2 \\right)^{\\frac{1}{2}}$$\n",
    "\n",
    "$$\\|A\\|_F \\cdot \\|x\\|_2 = \\left(\\sum^m_{i=1} |x_i|^2 \\sum^n_{j=1} |a_{ij}|^2\\right)^{\\frac{1}{2}}$$\n",
    "\n",
    "$$\\|Ax\\|_2 \\leq \\left( \\sum^n_{j=1} |x_j|^2 \\right)^{\\frac{1}{2}}\\left( \\sum^n_{j=1} |a_j|^2 \\right)^{\\frac{1}{2}} \\leq \\|A\\|_F \\cdot \\|x\\|_2$$"
   ]
  },
  {
   "cell_type": "markdown",
   "metadata": {
    "nbgrader": {
     "grade": false,
     "grade_id": "Q2",
     "locked": true,
     "solution": false
    }
   },
   "source": [
    "## Question 2\n",
    "\n",
    "Vector and matrix $p$-norms are related by various inequalities, often involving the dimensions $m$ or $n$.  For each of the following, verify the inequality and give an example of a nonzero vector or matrix (for general $m$ and $n$) for which equality is achieved.  In this problem $x \\in \\mathbb R^m$ and $A \\in \\mathbb R^{m \\times n}$."
   ]
  },
  {
   "cell_type": "markdown",
   "metadata": {
    "nbgrader": {
     "grade": false,
     "grade_id": "Q2-a",
     "locked": true,
     "solution": false
    }
   },
   "source": [
    "**(a)** (10 points) - $||x||_\\infty \\leq ||x||_2$"
   ]
  },
  {
   "cell_type": "markdown",
   "metadata": {
    "nbgrader": {
     "grade": true,
     "grade_id": "A2-a",
     "locked": false,
     "points": 10,
     "solution": true
    }
   },
   "source": [
    "**Solution**\n",
    "\n",
    "We know that $||x||_\\infty = \\max |x_i|$ and $||x||_2 = \\left( \\sum^m_{i=1} |x_i|^2 \\right)^{1/2}$:\n",
    "\n",
    "$$ \\max |x_i| \\leq \\left( \\sum^m_{i=1} |x_i|^2 \\right)^{1/2}$$\n",
    "\n",
    "This must be true as the maximum of $x_i$ will be in our sum. All other values are squared so there can be no negative numbers and thus the lowest value the euclidean norm can be is the max itself (all other entries are 0).\n",
    "\n",
    "Example:\n",
    "\n",
    "$$v = \\begin{bmatrix}0 \\\\ 4 \\end{bmatrix}$$\n",
    "\n",
    "$$||x||_\\infty = \\max |x_i| = 4$$\n",
    "$$||x||_2 = \\left( \\sum^m_{i=1} |x_i|^2 \\right)^{1/2} = \\sqrt{0^2 + 4^2} = 4$$\n",
    "\n"
   ]
  },
  {
   "cell_type": "markdown",
   "metadata": {
    "nbgrader": {
     "grade": false,
     "grade_id": "Q2-b",
     "locked": true,
     "solution": false
    }
   },
   "source": [
    "**(b)** (10 points) - $||x||_2 \\leq \\sqrt{m} ||x||_\\infty$"
   ]
  },
  {
   "cell_type": "markdown",
   "metadata": {
    "nbgrader": {
     "grade": true,
     "grade_id": "A2-b",
     "locked": false,
     "points": 10,
     "solution": true
    }
   },
   "source": [
    "**Solution**\n",
    "\n",
    "We know that $||x||_\\infty = \\max |x_i|$ and $||x||_2 = \\left( \\sum^m_{i=1} |x_i|^2 \\right)^{1/2}$:\n",
    "\n",
    "$$ \\left( \\sum^m_{i=1} |x_i|^2 \\right)^{1/2} \\leq \\sqrt{m}\\max |x_i|$$\n",
    "$$ \\sum^m_{i=1} |x_i|^2 \\leq m(\\max |x_i|)^2$$\n",
    "\n",
    "Let the vector be ordered such that the last element is the max: $x_m = x_{max}$\n",
    "\n",
    "$$x_1^2 + x_2^2 + ... + x_{m-1}^2 + x_{max}^2 \\leq m x_{max}^2$$\n",
    "\n",
    "Since every value, $x_1, x_2, ... x_{m-1}$ is less than or equal to $x_{max}$, the largest their sum can be will be just $(m-1)x_{max}$ since the highest they will be is if each element is $x_{max}$ itself.\n",
    "\n",
    "Thus, subtracting $x_{max}^2$ off each side\n",
    "\n",
    "$$x_1^2 + x_2^2 + ... + x_{m-1}^2 \\leq (m-1) x_{max}^2$$\n",
    "\n",
    "is always true.\n",
    "\n",
    "Example:\n",
    "\n",
    "$$v = \\begin{bmatrix}2 \\\\ 2 \\\\ 2 \\\\ 2\\end{bmatrix}$$\n",
    "\n",
    "$$||x||_\\infty = \\max |x_i| = 2$$\n",
    "$$||x||_2 = \\left( \\sum^m_{i=1} |x_i|^2 \\right)^{1/2} = \\sqrt{4 + 4 + 4 + 4} = 4$$\n",
    "\n",
    "$$||x||_2 \\leq \\sqrt{m} ||x||_\\infty \\rightarrow 4 = 4 \\:\\: \\checkmark$$\n"
   ]
  },
  {
   "cell_type": "markdown",
   "metadata": {
    "nbgrader": {
     "grade": false,
     "grade_id": "Q2-c",
     "locked": true,
     "solution": false
    }
   },
   "source": [
    "**(c)** (10 points) - $||A||_\\infty \\leq \\sqrt{n} ||A||_2$"
   ]
  },
  {
   "cell_type": "markdown",
   "metadata": {
    "nbgrader": {
     "grade": true,
     "grade_id": "A2-c",
     "locked": false,
     "points": 10,
     "solution": true
    }
   },
   "source": [
    "**Solution**\n",
    "\n",
    "$$||A||_{\\infty} = \\max_{1 \\leq i \\leq m} ||a^\\ast_i||_1 = \\max_i \\sum^n_{j} |a_{ij}|$$\n",
    "\n",
    "Let v be a vector of from $v = (1,1,1,...,1)^T$:\n",
    "\n",
    "$$\\max_i \\sum^n_{j} |a_{ij}| = ||Av||_\\infty \\leq ||Av||_2 \\leq ||A||_2||v||_2 = \\sqrt{n}||A||_2 $$\n",
    "\n",
    "Example (from class):\n",
    "\n",
    "$$A = \\begin{bmatrix} 1 & 2 \\\\ 0 & 2 \\end{bmatrix}$$\n",
    "\n",
    "$$\n",
    "    A^\\ast A = \\begin{bmatrix} 1 & 0 \\\\ 2 & 2 \\end{bmatrix} \\begin{bmatrix} 1 & 2 \\\\ 0 & 2 \\end{bmatrix} = \\begin{bmatrix} 1 & 2 \\\\ 2 & 8 \\end{bmatrix}\n",
    "$$\n",
    "which has eigenvalues \n",
    "$$\n",
    "    \\lambda = \\frac{1}{2}\\left(9 \\pm \\sqrt{65}\\right )\n",
    "$$\n",
    "so $||A||_2 \\approx 2.9208096$.\n",
    "\n",
    "$||A||_{\\infty} = \\max_{1 \\leq i \\leq m} ||a^\\ast_i||_1$ where $a^\\ast_i$ is the $i$th row of $A$.  This represents then the maximum of the row sums of $A$.  Therefore $||A||_\\infty = 3$.\n",
    "\n",
    "Thus:\n",
    "\n",
    "$$||A||_\\infty \\leq \\sqrt{n} ||A||_2 \\rightarrow 3 \\leq \\sqrt{2} * 2.92 \\:\\: \\checkmark$$\n"
   ]
  },
  {
   "cell_type": "markdown",
   "metadata": {
    "nbgrader": {
     "grade": false,
     "grade_id": "Q2-d",
     "locked": true,
     "solution": false
    }
   },
   "source": [
    "**(d)** (10 points) - $||A||_2 \\leq \\sqrt{m} ||A||_\\infty$"
   ]
  },
  {
   "cell_type": "markdown",
   "metadata": {
    "nbgrader": {
     "grade": true,
     "grade_id": "A2-d",
     "locked": false,
     "points": 10,
     "solution": true
    }
   },
   "source": [
    "**Solution**\n",
    "\n",
    "We know that:\n",
    "\n",
    "$$||A||_p = max \\frac{||Ax||_p}{||x||_p}$$\n",
    "\n",
    "Above we found that:\n",
    "\n",
    "$$||x||_\\infty \\leq ||x||_2 \\leq \\sqrt{m} ||x||_\\infty$$\n",
    "\n",
    "Using this information we find:\n",
    "\n",
    "$$||A||_2 = max \\frac{||Ax||_2}{||x||_2} \\leq max \\frac{\\sqrt{m}||Ax||_ \\infty}{||x||_2} \\leq max \\frac{\\sqrt{m}||Ax||_ \\infty}{||x||_\\infty} $$\n",
    "\n",
    "$$||A||_2 \\leq \\sqrt{m} ||A||_\\infty$$\n",
    "\n",
    "Example:\n",
    "\n",
    "Again using the numbers from class above we see that:\n",
    "\n",
    "$$||A||_2 \\leq \\sqrt{m} ||A||_\\infty \\rightarrow 2.92 \\leq \\sqrt{2} * 3 \\:\\: \\checkmark$$\n"
   ]
  },
  {
   "cell_type": "markdown",
   "metadata": {
    "nbgrader": {
     "grade": false,
     "grade_id": "Q3",
     "locked": true,
     "solution": false
    }
   },
   "source": [
    "## Question 3\n",
    "\n",
    "(15 points) - Write a function that computes the least-squares fit of a given polynomial order $n$ without using the function `numpy.linalg.lstsq` and `numpy.vander` (i.e. construct the system that needs to be solved yourself).  This function should return the coefficients of the resulting polynomial in accending order of powers.  If the function does not receive valid input (most notably an underconstrained system) raise a `ValueError` with an appropriate error message.  Make sure to mention this in your `doc-string`.  \n",
    "\n",
    "Also write a function that plots the resulting polynomial along with the data given the data, a set of $x$ points and the coefficients from the first function.  Make sure to label your plot (both the axes and with a legend)."
   ]
  },
  {
   "cell_type": "code",
   "execution_count": 3,
   "metadata": {
    "collapsed": false,
    "nbgrader": {
     "grade": false,
     "grade_id": "A3",
     "locked": false,
     "solution": true
    }
   },
   "outputs": [],
   "source": [
    "def compute_lstsq(data, n):\n",
    "    \"\"\"Computes the coefficients of a least-squares fit polynomial of order n\n",
    "    \n",
    "    :Input:\n",
    "     - *data* (ndarray) - Given data x's and y's\n",
    "     - *n* (integer) - Order of the polynomial\n",
    "     \n",
    "    :Output:\n",
    "     - *p* (ndarray) - Coefficients of the least-squares polynomial\n",
    "    \"\"\"\n",
    "    ### INSERT CODE HERE\n",
    "    #Check if there are enough data points\n",
    "    m = data.shape[0]\n",
    "    if n > m - 1:\n",
    "        raise ValueError(\"Error: underconstrained system\")\n",
    "    \n",
    "    #initialize Vandermonde matrix\n",
    "    A = numpy.zeros((m, n+1))\n",
    "    for i in xrange(m):\n",
    "        for j in xrange(n+1):\n",
    "            A[i][j] = data[i][0]**j\n",
    "    \n",
    "    #Householder Triangularization - from class code\n",
    "    R = A.copy()\n",
    "    v = numpy.empty(A.shape)\n",
    "    m, n = A.shape\n",
    "    for k in xrange(n):\n",
    "        x = R[k:, k]\n",
    "        e1 = numpy.zeros(x.shape)\n",
    "        e1[0] = 1.0\n",
    "        v[k:, k] = numpy.sign(x[0]) * numpy.linalg.norm(x, ord=2) * e1 + x\n",
    "        v[k:, k] = v[k:, k] / numpy.linalg.norm(v[k:, k], ord=2)\n",
    "        R[k:, k:] -= 2.0 * numpy.dot(numpy.outer(v[k:, k], v[k:, k]), R[k:, k:])\n",
    "\n",
    "    # Form Q\n",
    "    m, n = A.shape\n",
    "    Q = numpy.zeros(A.shape)\n",
    "    for i in xrange(n):\n",
    "        en = numpy.zeros(m)\n",
    "        en[i] = 1.0\n",
    "        for j in xrange(n - 1, -1, -1):\n",
    "            en[j:m] -= 2.0 * numpy.dot(numpy.outer(v[j:, j], v[j:, j]), en[j:m])\n",
    "        Q[:, i] = en \n",
    "    \n",
    "    #print \"Householder (reduced) Q = \"\n",
    "    #print Q\n",
    "    #print \"Householder (full) R = \"\n",
    "    #print R\n",
    "    \n",
    "    #p_2 = numpy.linalg.solve(R, numpy.dot(numpy.transpose(Q), data[:,1]))\n",
    "    p = numpy.zeros(n)\n",
    "    y = data[:,1]\n",
    "    b = numpy.dot(numpy.transpose(Q), y)\n",
    "    \n",
    "    #back substitution to get coefficients\n",
    "    p[n-1] = b[n-1] / R[n-1][n-1]\n",
    "    for i in range(n-2, -1, -1):\n",
    "        back_sub_sum = b[i]\n",
    "        for j in range(i+1, n):\n",
    "            back_sub_sum = back_sub_sum - R[i][j]*p[j]\n",
    "        p[i] = back_sub_sum / R[i][i]\n",
    "    return p\n",
    "\n",
    "def plot_lstsq(data, x, p):\n",
    "    ### INSERT CODE HERE\n",
    "    def f(x, p):\n",
    "        poly_sum = 0.\n",
    "        for i in xrange(len(p)):\n",
    "            poly_sum += p[i] * x**i\n",
    "        return poly_sum\n",
    "        \n",
    "    fig = plt.figure()\n",
    "    axes = fig.add_subplot(1,1,1)\n",
    "    axes.plot(data[:,0], data[:,1], 'ro', label=\"Data Points\")\n",
    "    axes.plot(x, f(x,p), 'b', label=\"least square fit\")\n",
    "    axes.set_title(\"Least Squares using QR Factorization\")\n",
    "    axes.set_ylabel(\"y\")\n",
    "    axes.set_xlabel(\"x\")\n",
    "    plt.legend()\n",
    "    plt.show()"
   ]
  },
  {
   "cell_type": "code",
   "execution_count": 4,
   "metadata": {
    "collapsed": false,
    "nbgrader": {
     "grade": true,
     "grade_id": "T3-a",
     "locked": true,
     "points": 5,
     "solution": false
    },
    "scrolled": false
   },
   "outputs": [
    {
     "name": "stdout",
     "output_type": "stream",
     "text": [
      "Success!\n"
     ]
    },
    {
     "data": {
      "image/png": "[encoded data removed]",
      "text/plain": [
       "<matplotlib.figure.Figure at 0x10a185650>"
      ]
     },
     "metadata": {},
     "output_type": "display_data"
    }
   ],
   "source": [
    "try:\n",
    "    N = 5\n",
    "    N_p = 4\n",
    "    data = numpy.empty((N, 2))\n",
    "    data[:, 0] = numpy.random.uniform(size=N)\n",
    "    data[:, 0] = numpy.linspace(0.1, 0.9, N)\n",
    "    data[:, 1] = numpy.sin(numpy.exp(-data[:, 0]**2)) + numpy.random.uniform(size=N)\n",
    "    p = compute_lstsq(data, N_p)\n",
    "except ValueError as e:\n",
    "    raise e\n",
    "else:\n",
    "    P = numpy.zeros(N)\n",
    "    for n in xrange(N):\n",
    "        P += p[n] * data[:, 0]**n\n",
    "    numpy.testing.assert_allclose(P, data[:, 1])\n",
    "    print \"Success!\"\n",
    "\n",
    "    # Plot result\n",
    "    x = numpy.linspace(0.0, 1.0, 100)\n",
    "    plot_lstsq(data, x, p)\n",
    "    plt.show()"
   ]
  },
  {
   "cell_type": "code",
   "execution_count": 5,
   "metadata": {
    "collapsed": false,
    "nbgrader": {
     "grade": true,
     "grade_id": "T3-b",
     "locked": true,
     "points": 5,
     "solution": false
    }
   },
   "outputs": [
    {
     "name": "stdout",
     "output_type": "stream",
     "text": [
      "Success!\n"
     ]
    },
    {
     "data": {
      "image/png": "[encoded data removed]",
      "text/plain": [
       "<matplotlib.figure.Figure at 0x10a1856d0>"
      ]
     },
     "metadata": {},
     "output_type": "display_data"
    }
   ],
   "source": [
    "try:\n",
    "    N = 20\n",
    "    N_p = 4\n",
    "    data = numpy.empty((N, 2))\n",
    "    data[:, 0] = numpy.random.uniform(size=N)\n",
    "    data[:, 0] = numpy.linspace(0.1, 0.9, N)\n",
    "    data[:, 1] = numpy.sin(numpy.exp(-data[:, 0]**2)) + numpy.random.uniform(size=N)\n",
    "    p = compute_lstsq(data, N_p)\n",
    "except ValueError as e:\n",
    "    print e\n",
    "else:\n",
    "    A = numpy.vander(data[:,0], N_p + 1)\n",
    "    numpy.testing.assert_allclose(p, numpy.flipud(numpy.linalg.lstsq(A, data[:, 1])[0]))\n",
    "    print \"Success!\"\n",
    "\n",
    "    # Plot result\n",
    "    x = numpy.linspace(0.0, 1.0, 100)\n",
    "    plot_lstsq(data, x, p)\n",
    "    plt.show()"
   ]
  },
  {
   "cell_type": "code",
   "execution_count": 6,
   "metadata": {
    "collapsed": false,
    "nbgrader": {
     "grade": true,
     "grade_id": "T3-c",
     "locked": true,
     "points": 5,
     "solution": false
    }
   },
   "outputs": [
    {
     "name": "stdout",
     "output_type": "stream",
     "text": [
      "Error: underconstrained system\n"
     ]
    }
   ],
   "source": [
    "try:\n",
    "    N = 5\n",
    "    N_p = 6\n",
    "    data = numpy.empty((N, 2))\n",
    "    data[:, 0] = numpy.random.uniform(size=N)\n",
    "    data[:, 0] = numpy.linspace(0.1, 0.9, N)\n",
    "    data[:, 1] = numpy.sin(numpy.exp(-data[:, 0]**2)) + numpy.random.uniform(size=N)\n",
    "    p = compute_lstsq(data, N_p)\n",
    "except ValueError as e:\n",
    "    print e\n",
    "else:\n",
    "    A = numpy.vander(data[:,0], N_p + 1)\n",
    "    numpy.testing.assert_allclose(p, numpy.flipud(numpy.linalg.lstsq(A, data[:, 1])[0]))\n",
    "    print \"Success!\"\n",
    "\n",
    "    # Plot result\n",
    "    x = numpy.linspace(0.0, 1.0, 100)\n",
    "    plot_lstsq(data, x, p)\n",
    "    plt.show()\n",
    "    assert(False)"
   ]
  },
  {
   "cell_type": "markdown",
   "metadata": {
    "nbgrader": {
     "grade": false,
     "grade_id": "Q4",
     "locked": true,
     "solution": false
    }
   },
   "source": [
    "## Question 4\n",
    "\n",
    "Consider a square matrix that looks like\n",
    "$$\n",
    "    A = \\frac{1}{\\Delta x^2} \\begin{bmatrix}\n",
    "        -2 &  1 &  ~ &  ~ &  ~ &  ~ &  ~ \\\\\n",
    "         1 & -2 &  1 &  ~ &  ~ &  ~ &  ~ \\\\\n",
    "         ~ &  1 & -2 &  1 &  ~ &  ~ &  ~ \\\\\n",
    "         ~ &  ~ & \\ddots & \\ddots & \\ddots & ~ & ~\\\\\n",
    "         ~ &  ~ & ~ & 1 & -2 & 1 & ~ \\\\\n",
    "         ~ &  ~ & ~ & ~ & 1 & -2 & 1 \\\\\n",
    "         ~ &  ~ & ~ & ~ &  ~ & 1 & -2 \\\\\n",
    "    \\end{bmatrix}\n",
    "$$\n",
    "This matrix can be characterized as having $A_{ii} = -2$, $A_{ii-1} = A_{ii+1} = 1$ so that the \"main\" diagonal has the value -2 and the secondary-diagonals are 1 (these are the diagonals that are just above and below the main diagonal).  This matrix is from a discretization of the second derivative using a second order finite difference formula (hence the values of 1, -2, and 1 and the $\\Delta x^2$ factor) with boundary conditions set to 0.  "
   ]
  },
  {
   "cell_type": "markdown",
   "metadata": {
    "nbgrader": {
     "grade": false,
     "grade_id": "Q4-a",
     "locked": true,
     "solution": false
    }
   },
   "source": [
    "**(a)** (10 points) - Write a function that computes the eigenvalues of the matrix above using whatever functions you would like.  The function should take in the size of the matrix $m$ (the matrix should be square) and the value of $\\Delta x$ and return the eigenvalues."
   ]
  },
  {
   "cell_type": "code",
   "execution_count": 7,
   "metadata": {
    "collapsed": true,
    "nbgrader": {
     "grade": false,
     "grade_id": "A4-a",
     "locked": false,
     "solution": true
    }
   },
   "outputs": [],
   "source": [
    "def compute_eigenvalues(m, dx):\n",
    "    \"\"\"Computes the eigenvalues of an mxm matrix of form above\n",
    "    \n",
    "    :Input:\n",
    "     - *m* (integer) - dimensions of our square matrix\n",
    "     - *dx* (float) - dx value to use\n",
    "     \n",
    "    :Output:\n",
    "     - *eig_values* (ndarray) - array of all eigenvalues of the matrix\n",
    "    \"\"\"\n",
    "    ### INSERT CODE HERE\n",
    "    A = numpy.zeros((m,m))\n",
    "    for i in xrange(m):\n",
    "        A[i][i] = -2\n",
    "        if i+1 < m:\n",
    "            A[i][i+1] = 1\n",
    "        if i - 1 > -1:\n",
    "            A[i][i-1] = 1\n",
    "    \n",
    "    eig_values = numpy.linalg.eigvals(A) / (dx)**2\n",
    "    return eig_values"
   ]
  },
  {
   "cell_type": "code",
   "execution_count": 8,
   "metadata": {
    "collapsed": false,
    "nbgrader": {
     "grade": true,
     "grade_id": "T4-a",
     "locked": true,
     "points": 10,
     "solution": false
    },
    "scrolled": false
   },
   "outputs": [
    {
     "name": "stdout",
     "output_type": "stream",
     "text": [
      "Success!\n"
     ]
    }
   ],
   "source": [
    "# Compare against analytical values\n",
    "m = 10\n",
    "dx = 1.0 / (m + 1)\n",
    "eig_values = numpy.flipud(numpy.sort(compute_eigenvalues(m, dx)))\n",
    "p = numpy.arange(1, m + 1)\n",
    "numpy.testing.assert_allclose(eig_values,\n",
    "    2.0 / dx**2 * (numpy.cos(p * numpy.pi * dx) - 1.0))\n",
    "print \"Success!\""
   ]
  },
  {
   "cell_type": "markdown",
   "metadata": {
    "nbgrader": {
     "grade": false,
     "grade_id": "Q4-b",
     "locked": true,
     "solution": false
    }
   },
   "source": [
    "**(b)** (5 points) - Plot the eigenvalues in the complex plane for $m=30$ and $\\Delta x = 1/31$.  Make sure to plot the axes and label everything appropriately."
   ]
  },
  {
   "cell_type": "code",
   "execution_count": 9,
   "metadata": {
    "collapsed": false,
    "nbgrader": {
     "grade": true,
     "grade_id": "A4-b",
     "locked": false,
     "points": 5,
     "solution": true
    }
   },
   "outputs": [
    {
     "data": {
      "image/png": "[encoded data removed]",
      "text/plain": [
       "<matplotlib.figure.Figure at 0x10c815ad0>"
      ]
     },
     "metadata": {},
     "output_type": "display_data"
    }
   ],
   "source": [
    "### INSERT CODE HERE\n",
    "fig = plt.figure()\n",
    "\n",
    "axes = fig.add_subplot(1,1,1)\n",
    "eigen_vals = compute_eigenvalues(30, 1.0/31.0)\n",
    "for val in eigen_vals:\n",
    "    axes.plot(val.real, val.imag, 'mo')\n",
    "\n",
    "axes.set_xlabel(\"Real\")\n",
    "axes.set_ylabel(\"Imaginary\")\n",
    "axes.set_title(\"Eigenvalues\")\n",
    "plt.show()"
   ]
  },
  {
   "cell_type": "markdown",
   "metadata": {
    "nbgrader": {
     "grade": false,
     "grade_id": "Q4-c",
     "locked": true,
     "solution": false
    }
   },
   "source": [
    "**(c)** (10 points) - Think of the above matrix as specifying a system of ODEs.  The exact eigenvalues of the matrix are\n",
    "$$\n",
    "    \\lambda_p = \\frac{2}{\\Delta x^2} (\\cos(p \\pi \\Delta x) - 1)\n",
    "$$\n",
    "for $p = 1, \\ldots, m$.  Find an expression for $\\max_{p = 1, \\ldots, m} |\\lambda_p|$.  Based on our understanding of absolute stability what be the maximum time-step we could use for this system of ODEs if we used the forward Euler method?  What about for the backward Euler method?  How does this relate to the absolute stability regions of each method?  Feel free to use a plot of the stability regions to illustrate the point."
   ]
  },
  {
   "cell_type": "markdown",
   "metadata": {
    "nbgrader": {
     "grade": true,
     "grade_id": "A4-c",
     "locked": false,
     "points": 10,
     "solution": true
    }
   },
   "source": [
    "**Solution**\n",
    "\n",
    "To find an expression for the maximum, we can use the fact that $\\Delta x = \\frac{1}{m+1}$\n",
    "\n",
    "Therefore, we get:\n",
    "\n",
    "$$ \\lambda_p = 2(m+1)^2 (\\cos(\\frac{p}{m+1} \\pi ) - 1)$$\n",
    "\n",
    "$|\\lambda_p|$ is maximized when $\\cos(\\frac{p}{m+1} \\pi)$ is -1.\n",
    "\n",
    "Therefore, this occurs at p=m when the angle is closest to $\\pi$:\n",
    "\n",
    "$$\\max_{p = 1, \\ldots, m} |\\lambda_p| = 2(m+1)^2 (\\cos(\\frac{m}{m+1} \\pi ) - 1)$$\n",
    "\n",
    "Forward Euler Method:\n",
    "\n",
    "$$\\vec{U}_{n+1} = \\vec{U}_n + \\Delta t \\vec{f}(t_n, U_n)$$\n",
    "$$\\vec{U}_{n+1} = (1 + \\Delta t \\lambda) \\vec{U}_n.$$\n",
    "\n",
    "$$|1 + \\Delta t \\lambda| \\leq 1$$\n",
    "\n",
    "Thus, the time step restriction must be $\\Delta t =  \\max_{p = 1, \\ldots, m} |\\lambda_p|^{-1}$. Forward euler becomes unstable near the imaginary axis or when $\\lambda$ is purely imaginary.\n",
    "\n",
    "This makes sense as the above graph shows that all our eigenvalues are real. Therefore, as the problem gets stiffer, max $\\lambda$ becomes larger and our time step must be smaller. \n",
    "\n",
    "Backward Euler Method:\n",
    "\n",
    "$$U_{n+1} = U_n + \\Delta t f(t_{n+1}, U_{n+1}).$$\n",
    "\n",
    "$$\\left|\\frac{1}{1-\\Delta t \\lambda}\\right| \\leq 1$$\n",
    "\n",
    "$$1 \\geq 1-\\Delta t \\lambda \\rightarrow 0 \\geq - \\Delta t \\lambda$$\n",
    "\n",
    "This will be true for all $\\lambda$ since trace is always negative and the determinant will always be positive for any m. Therefore, the eigenvalues must all be negative as the above graph indicates. \n",
    "\n",
    "The general plot of the forward euler stability region shows that everything contained in a circle/ball will be stable to it follows that there exists a maximum timestep. On the other hand, the backwards euler stability picture shows that everything outside a circle/ball is stable which therefore means that a time restriction does not exist."
   ]
  },
  {
   "cell_type": "code",
   "execution_count": null,
   "metadata": {
    "collapsed": false
   },
   "outputs": [],
   "source": []
  },
  {
   "cell_type": "code",
   "execution_count": null,
   "metadata": {
    "collapsed": true
   },
   "outputs": [],
   "source": []
  }
 ],
 "metadata": {
  "anaconda-cloud": {},
  "celltoolbar": "Create Assignment",
  "kernelspec": {
   "display_name": "Python [Root]",
   "language": "python",
   "name": "Python [Root]"
  },
  "language_info": {
   "codemirror_mode": {
    "name": "ipython",
    "version": 2
   },
   "file_extension": ".py",
   "mimetype": "text/x-python",
   "name": "python",
   "nbconvert_exporter": "python",
   "pygments_lexer": "ipython2",
   "version": "2.7.12"
  },
  "latex_envs": {
   "bibliofile": "biblio.bib",
   "cite_by": "apalike",
   "current_citInitial": 1,
   "eqLabelWithNumbers": true,
   "eqNumInitial": 0
  }
 },
 "nbformat": 4,
 "nbformat_minor": 0
}
