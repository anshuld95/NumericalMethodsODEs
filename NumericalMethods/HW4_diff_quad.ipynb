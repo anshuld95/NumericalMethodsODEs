{
 "cells": [
  {
   "cell_type": "code",
   "execution_count": 1,
   "metadata": {
    "collapsed": false,
    "nbgrader": {
     "grade": false,
     "grade_id": "header1",
     "locked": false,
     "solution": false
    }
   },
   "outputs": [],
   "source": [
    "%matplotlib inline\n",
    "%precision 16\n",
    "import numpy\n",
    "import matplotlib.pyplot as plt"
   ]
  },
  {
   "cell_type": "markdown",
   "metadata": {
    "nbgrader": {
     "grade": false,
     "grade_id": "header2",
     "locked": true,
     "solution": false
    }
   },
   "source": [
    "Before you turn this problem in, make sure everything runs as expected. First, restart the kernel (in the menubar, select Kernel $\\rightarrow$ Restart) and then run all cells (in the menubar, select Cell $\\rightarrow$ Run All).\n",
    "\n",
    "Make sure you fill in any place that says YOUR CODE HERE or \"YOUR ANSWER HERE\", as well as your name and collaborators below:"
   ]
  },
  {
   "cell_type": "markdown",
   "metadata": {
    "nbgrader": {
     "grade": false,
     "grade_id": "header3",
     "locked": true,
     "solution": false
    }
   },
   "source": [
    "# HW 4:  Numerical Differentiation and Quadrature"
   ]
  },
  {
   "cell_type": "markdown",
   "metadata": {
    "nbgrader": {
     "grade": false,
     "grade_id": "Q-1",
     "locked": true,
     "solution": false
    }
   },
   "source": [
    "## Question 1 - Fundamental Theorem of Calculus"
   ]
  },
  {
   "cell_type": "markdown",
   "metadata": {
    "nbgrader": {
     "grade": false,
     "grade_id": "Q-1a",
     "locked": true,
     "solution": false
    }
   },
   "source": [
    "**(a)** (15) Write a function that computes the integral of the derivative \n",
    "\n",
    "$$I[f] = \\int^x_0 f'(\\hat{x}) d\\hat{x}$$\n",
    "\n",
    "and returns the error from the expected calculation.  Use a second order accurate centered difference scheme and then a left-hand rule to compute the absolute error.  In this case the left-hand quadrature is\n",
    "\n",
    "$$Q[f] = f(x_i) \\Delta x$$\n",
    "\n",
    "The function should take in $x$ values and the function $f(x)$ and return a vector of the **errors** for each value $x$ given."
   ]
  },
  {
   "cell_type": "code",
   "execution_count": 2,
   "metadata": {
    "collapsed": false,
    "nbgrader": {
     "grade": false,
     "grade_id": "A-1a",
     "locked": false,
     "solution": true
    }
   },
   "outputs": [],
   "source": [
    "def int_diff_error(x, f):\n",
    "    \"\"\"Compute the integral of the derivative and return a vector of errors\n",
    "    \n",
    "    :Input:\n",
    "     - *x* (ndarray) - the linspace we are using for our values\n",
    "     - *f* (function) - function of x\n",
    "     \n",
    "    :Output:\n",
    "     - *error* (ndarray) - vector of error calculations\n",
    "    \"\"\"\n",
    "    ### INSERT CODE HERE\n",
    "    #Second order differnce \n",
    "    delta_x = x[1] - x[0]\n",
    "    \n",
    "    f_prime_hat = numpy.empty(x.shape)\n",
    "    f_prime_hat[1:-1] = (f(x[2:]) - f(x[:-2])) / (2 * delta_x)\n",
    "\n",
    "    # Use first-order differences for points at edge of domain\n",
    "    f_prime_hat[0] = (f(x[1]) - f(x[0])) / delta_x     # Forward Difference at x_0\n",
    "    f_prime_hat[-1] = (f(x[-1]) - f(x[-2])) / delta_x  # Backward Difference at x_N\n",
    "    \n",
    "    #left-hand rule\n",
    "    Qf = numpy.zeros(x.shape)\n",
    "    Qf[0] = f_prime_hat[0]*delta_x + f(0)\n",
    "    for i in xrange(1, x.shape[0]):\n",
    "        Qf[i] = Qf[i-1] + f_prime_hat[i]*delta_x\n",
    "    error = numpy.abs(Qf - f(x))\n",
    "    return error"
   ]
  },
  {
   "cell_type": "code",
   "execution_count": 3,
   "metadata": {
    "collapsed": false,
    "nbgrader": {
     "grade": true,
     "grade_id": "T-1a",
     "locked": true,
     "points": 15,
     "solution": false
    }
   },
   "outputs": [
    {
     "name": "stdout",
     "output_type": "stream",
     "text": [
      "0.00670785973681\n",
      "Successful FTC evaluation.\n"
     ]
    }
   ],
   "source": [
    "f = lambda x: 1.0 / (1.0 + 100.0 * x**2)\n",
    "x = numpy.linspace(0.0, 1.0, 500)\n",
    "print numpy.max(int_diff_error(x, f))\n",
    "numpy.testing.assert_allclose(int_diff_error(x, f), numpy.zeros(500), atol=1e-2)\n",
    "print \"Successful FTC evaluation.\""
   ]
  },
  {
   "cell_type": "markdown",
   "metadata": {
    "nbgrader": {
     "grade": false,
     "grade_id": "Q-1b",
     "locked": true,
     "solution": false
    }
   },
   "source": [
    "**(b)** (15) Compute the same as above except reverse the order of the operations, i.e.\n",
    "\n",
    "$$D[f] = \\frac{\\text{d}}{\\text{d}x} \\int^x_0 f(\\hat{x}) d\\hat{x}$$\n"
   ]
  },
  {
   "cell_type": "code",
   "execution_count": 4,
   "metadata": {
    "collapsed": false,
    "nbgrader": {
     "grade": false,
     "grade_id": "A-1b",
     "locked": false,
     "solution": true
    }
   },
   "outputs": [],
   "source": [
    "def diff_int_error(x, f):\n",
    "    \"\"\"Compute the integral of the derivative and return a vector of errors\n",
    "    \n",
    "    :Input:\n",
    "     - *x* (ndarray) - the linspace we are using for our values\n",
    "     - *f* (function) - function of x\n",
    "     \n",
    "    :Output:\n",
    "     - *error* (ndarray) - vector of error calculations\n",
    "    \"\"\"\n",
    "    ### INSERT CODE HERE\n",
    "    #left hand scheme\n",
    "    delta_x = x[1] - x[0]\n",
    "    \n",
    "    Qf = numpy.zeros(x.shape)\n",
    "    Qf[0] = f(x[0])*delta_x + f(0)\n",
    "    for i in xrange(1, x.shape[0]):\n",
    "        Qf[i] = Qf[i-1] + f(x[i])*delta_x\n",
    "    \n",
    "    #second order difference\n",
    "    f_prime_hat = numpy.empty(x.shape)\n",
    "    f_prime_hat[1:-1] = (Qf[2:] - Qf[:-2]) / (2 * delta_x)\n",
    "\n",
    "    # Use first-order differences for points at edge of domain\n",
    "    f_prime_hat[0] = (Qf[1] - Qf[0]) / delta_x     # Forward Difference at x_0\n",
    "    f_prime_hat[-1] = (Qf[-1] - Qf[-2]) / delta_x  # Backward Difference at x_N\n",
    "    \n",
    "    error = numpy.abs(f_prime_hat - f(x))\n",
    "    \n",
    "    return error"
   ]
  },
  {
   "cell_type": "code",
   "execution_count": 5,
   "metadata": {
    "collapsed": false,
    "nbgrader": {
     "grade": true,
     "grade_id": "T-1b",
     "locked": true,
     "points": 15,
     "solution": false
    }
   },
   "outputs": [
    {
     "name": "stdout",
     "output_type": "stream",
     "text": [
      "0.00650713794122\n",
      "Successful FTC evaluation.\n"
     ]
    }
   ],
   "source": [
    "f = lambda x: 1.0 / (1.0 + 100.0 * x**2)\n",
    "x = numpy.linspace(0.0, 1.0, 500)\n",
    "print numpy.max(diff_int_error(x, f))\n",
    "numpy.testing.assert_allclose(diff_int_error(x, f), numpy.zeros(500), atol=1e-2)\n",
    "print \"Successful FTC evaluation.\""
   ]
  },
  {
   "cell_type": "markdown",
   "metadata": {
    "nbgrader": {
     "grade": false,
     "grade_id": "Q-1c",
     "locked": true,
     "solution": false
    }
   },
   "source": [
    "**(c)** (10) Plot the convergence rate for the number of partitions `N = [10,100,200,300,400,500]` on a `loglog` plot by computing the norm over the error given for each $N$ by using the `numpy.linalg.norm` command with `ord=2` vs. the $\\Delta x$ used.  Theorize about what you observe regarding the order of convergence."
   ]
  },
  {
   "cell_type": "markdown",
   "metadata": {
    "nbgrader": {
     "grade": true,
     "grade_id": "A-1c1",
     "locked": false,
     "points": 5,
     "solution": true
    }
   },
   "source": [
    "**Comments**\n",
    "As per the graph below, we can see the the order of convergence is less that first order. While we would expect the left hand rule to be first order, it may be the errors accumuated from using an interpolant for differentiation that gives us this lower order of convergence. "
   ]
  },
  {
   "cell_type": "code",
   "execution_count": 6,
   "metadata": {
    "collapsed": false,
    "nbgrader": {
     "grade": true,
     "grade_id": "A-1c2",
     "locked": false,
     "points": 5,
     "solution": true
    }
   },
   "outputs": [
    {
     "data": {
      "image/png": "[encoded data removed]",
      "text/plain": [
       "<matplotlib.figure.Figure at 0x10a235410>"
      ]
     },
     "metadata": {},
     "output_type": "display_data"
    }
   ],
   "source": [
    "### INSERT CODE HERE\n",
    "num_partitions = [10,100,200,300,400,500]\n",
    "f = lambda x: 1.0 / (1.0 + 100.0 * x**2)\n",
    "\n",
    "delta_x = numpy.empty(len(num_partitions))\n",
    "error_int_diff = numpy.empty(len(num_partitions))\n",
    "error_diff_int = numpy.empty(len(num_partitions))\n",
    "\n",
    "for (j, N) in enumerate(num_partitions):\n",
    "    x_hat = numpy.linspace(0.0, 1.0, N+1)\n",
    "    delta_x[j] = x_hat[1] - x_hat[0]\n",
    "    \n",
    "    error_int_diff[j] = numpy.linalg.norm(int_diff_error(x_hat, f),ord=2)\n",
    "    error_diff_int[j] = numpy.linalg.norm(diff_int_error(x_hat, f) , ord=2)\n",
    "\n",
    "fig = plt.figure()\n",
    "axes = fig.add_subplot(1,1,1)\n",
    "\n",
    "order_C = lambda delta_x, error, order: numpy.exp(numpy.log(error) - order * numpy.log(delta_x))\n",
    "axes.loglog(delta_x, order_C(delta_x[0], error_int_diff[0], 1.) * delta_x**1., 'r--', label=\"1st Order\")\n",
    "axes.loglog(delta_x, order_C(delta_x[0], error_diff_int[0], 1.) * delta_x**1., 'b--', label=\"1st Order\")\n",
    "axes.loglog(delta_x, error_int_diff, 'ro', label=\"int_diff\")\n",
    "axes.loglog(delta_x, error_diff_int, 'bo', label=\"diff_int\")\n",
    "\n",
    "axes.set_xlabel(\"$\\Delta x$\")\n",
    "axes.set_ylabel(\"E[f]\")\n",
    "axes.set_title(\"Quadrature Errors\")\n",
    "axes.legend(loc=4)\n",
    "\n",
    "plt.show()"
   ]
  },
  {
   "cell_type": "markdown",
   "metadata": {
    "nbgrader": {
     "grade": false,
     "grade_id": "Q-2",
     "locked": true,
     "solution": false
    }
   },
   "source": [
    "## Question 2 - Quadrature\n",
    "\n",
    "Consider the scaled Fresnel integrals\n",
    "\n",
    "$$I_c = \\int^1_0 \\frac{\\cos x}{\\sqrt{x}} dx~~~~\\text{and}~~~~I_s = \\int^1_0 \\frac{\\sin x}{\\sqrt{x}} dx$$\n",
    "\n",
    "which have values\n",
    "\n",
    "$$I_c = \\sqrt{2 \\pi} \\cdot C\\left(\\sqrt{\\frac{2}{\\pi}}\\right) \\approx 1.8090484758005438$$\n",
    "\n",
    "$$I_s = \\sqrt{2 \\pi} \\cdot S\\left(\\sqrt{\\frac{2}{\\pi}}\\right) \\approx 0.62053660344676231$$\n",
    "\n",
    "where the functions $C(x)$ and $S(x)$ can be evaluated by `scipy.special.fresnel`."
   ]
  },
  {
   "cell_type": "markdown",
   "metadata": {
    "nbgrader": {
     "grade": false,
     "grade_id": "Q-2a",
     "locked": true,
     "solution": false
    }
   },
   "source": [
    "**(a)** (10) Write a function that computes both integrals using the  trapezoidal rule with N partitions of equal length \"ignoring\" the singularity at $x=0$ by setting integrands to 0."
   ]
  },
  {
   "cell_type": "code",
   "execution_count": 7,
   "metadata": {
    "collapsed": true,
    "nbgrader": {
     "grade": false,
     "grade_id": "A-2a",
     "locked": false,
     "solution": true
    }
   },
   "outputs": [],
   "source": [
    "def trap_1(N):\n",
    "    \"\"\"Compute the integral of the fresnel functions with trapezoid rule (ignore 0)\n",
    "    \n",
    "    :Input:\n",
    "     - *N* (integer) - Number of partitions\n",
    "     \n",
    "    :Output:\n",
    "     - *Is, Ic* (tuple) - Approximation of the Ic and Is integral \n",
    "    \"\"\"\n",
    "    ### INSERT CODE HERE\n",
    "    def f_c(x):\n",
    "        if x == 0:\n",
    "            return 0.\n",
    "        else:\n",
    "            return numpy.cos(x) / numpy.sqrt(x)\n",
    "    def f_s(x):\n",
    "        if x == 0:\n",
    "            return 0. \n",
    "        else:\n",
    "            return numpy.sin(x) / numpy.sqrt(x)\n",
    "    \n",
    "    x = numpy.linspace(0.0,1.0,N+1)\n",
    "    delta_x = x[1] - x[0]\n",
    "    \n",
    "    Qf_c = numpy.zeros(x.shape)\n",
    "    Qf_s = numpy.zeros(x.shape)\n",
    "    Qf_c[0] = (f_c(x[1]) + f_c(x[0])) * delta_x / 2.0\n",
    "    Qf_s[0] = (f_s(x[1]) + f_s(x[0])) * delta_x / 2.0\n",
    "    for i in xrange(1, N):\n",
    "        Qf_c[i] = (f_c(x[i + 1]) + f_c(x[i])) * delta_x / 2.0\n",
    "        Qf_s[i] = (f_s(x[i + 1]) + f_s(x[i])) * delta_x / 2.0\n",
    "    \n",
    "    Is = numpy.sum(Qf_s)\n",
    "    Ic = numpy.sum(Qf_c)\n",
    "    return Is, Ic"
   ]
  },
  {
   "cell_type": "code",
   "execution_count": 8,
   "metadata": {
    "collapsed": false,
    "nbgrader": {
     "grade": true,
     "grade_id": "T-2a",
     "locked": true,
     "points": 10,
     "solution": false
    }
   },
   "outputs": [
    {
     "name": "stdout",
     "output_type": "stream",
     "text": [
      "Error: 7.32497950293e-05\n",
      "Computed the integrals correctly using the trapezoidal rule only.\n"
     ]
    }
   ],
   "source": [
    "import scipy.special\n",
    "Is, Ic = scipy.special.fresnel(numpy.sqrt(2.0 / numpy.pi))\n",
    "Is *= numpy.sqrt(2.0 * numpy.pi)\n",
    "Ic *= numpy.sqrt(2.0 * numpy.pi)\n",
    "Is_hat, Ic_hat = trap_1(200)\n",
    "error = numpy.abs(Is_hat - Is)\n",
    "print \"Error: %s\" % error\n",
    "numpy.testing.assert_allclose(error, 0.0, atol=1e-4)\n",
    "print \"Computed the integrals correctly using the trapezoidal rule only.\"    "
   ]
  },
  {
   "cell_type": "markdown",
   "metadata": {
    "nbgrader": {
     "grade": false,
     "grade_id": "Q-2b",
     "locked": true,
     "solution": false
    }
   },
   "source": [
    "**(b)** (10) A weighted Newton-Cotes quadrature rule is a modification of our version of Newton-Cotes quadrature except that we also multiply by a weighting function such that\n",
    "\n",
    "$$\\int^1_0 w(x) f(x) dx = \\sum^{N}_{i=1} w_i f(x_i)$$\n",
    "\n",
    "For the weight $x^{-1/2}$ we can show that \n",
    "\n",
    "$$\\int^1_0 \\frac{f(x)}{\\sqrt{x}} dx \\approx \\frac{2}{3} (2 f(0) + f(1))$$\n",
    "\n",
    "Combining this formula with the trapezoidal rule approach above, evaluate the integrals again by using the trapezoid rule except for the partition $[0,\\Delta x]$ that involves the singularity use the above weighted Newton-Cotes rule.  Note that you will have to map the rule to the partition."
   ]
  },
  {
   "cell_type": "code",
   "execution_count": 9,
   "metadata": {
    "collapsed": true,
    "nbgrader": {
     "grade": false,
     "grade_id": "A-2b",
     "locked": false,
     "solution": true
    }
   },
   "outputs": [],
   "source": [
    "def trap_wnc(N):\n",
    "    \"\"\"Compute the integral of the fresnel functions with trapezoid rule \n",
    "    \n",
    "    :Input:\n",
    "     - *N* (integer) - Number of partitions\n",
    "     \n",
    "    :Output:\n",
    "     - *Is, Ic* (tuple) - Approximation of the Ic and Is integral \n",
    "    \"\"\"\n",
    "    ### INSERT CODE HERE\n",
    "    f_c = lambda x: numpy.cos(x) / numpy.sqrt(x)\n",
    "    f_s = lambda x: numpy.sin(x) / numpy.sqrt(x)\n",
    "    \n",
    "    x = numpy.linspace(0.0,1.0,N+1)\n",
    "    delta_x = x[1] - x[0]\n",
    "    \n",
    "    xi_map = lambda a,b,xi : (b - a) / 2.0 * xi + (a + b) / 2.0\n",
    "    Qf_s = numpy.zeros(x.shape)\n",
    "    Qf_c = numpy.zeros(x.shape)\n",
    "    Qf_s[0] = (delta_x/3) * ((2*f_s(xi_map(0,delta_x,0)))+f_s(xi_map(0,delta_x,1)))\n",
    "    Qf_c[0] = (delta_x/3) * ((2*f_c(xi_map(0,delta_x,0)))+f_c(xi_map(0,delta_x,1)))\n",
    "    \n",
    "    for i in xrange(1, N):\n",
    "        Qf_c[i] = (f_c(x[i + 1]) + f_c(x[i])) * delta_x / 2.0\n",
    "        Qf_s[i] = (f_s(x[i + 1]) + f_s(x[i])) * delta_x / 2.0\n",
    "        \n",
    "    Is = numpy.sum(Qf_s)\n",
    "    Ic = numpy.sum(Qf_c)\n",
    "    return Is, Ic\n",
    "    "
   ]
  },
  {
   "cell_type": "code",
   "execution_count": 10,
   "metadata": {
    "collapsed": false,
    "nbgrader": {
     "grade": true,
     "grade_id": "T-2b",
     "locked": true,
     "points": 10,
     "solution": false
    },
    "scrolled": true
   },
   "outputs": [
    {
     "name": "stdout",
     "output_type": "stream",
     "text": [
      "Error: 3.44913784502e-05\n",
      "Computed the integrals correctly using the trapezoidal and Newton-Cotes rules.\n"
     ]
    }
   ],
   "source": [
    "import scipy.special\n",
    "Is, Ic = scipy.special.fresnel(numpy.sqrt(2.0 / numpy.pi))\n",
    "Is *= numpy.sqrt(2.0 * numpy.pi)\n",
    "Ic *= numpy.sqrt(2.0 * numpy.pi)\n",
    "Is_hat, Ic_hat = trap_wnc(200)\n",
    "error = numpy.abs(Is_hat - Is)\n",
    "print \"Error: %s\" % error\n",
    "numpy.testing.assert_allclose(error, 0.0, atol=1e-4)\n",
    "print \"Computed the integrals correctly using the trapezoidal and Newton-Cotes rules.\"    "
   ]
  },
  {
   "cell_type": "markdown",
   "metadata": {
    "nbgrader": {
     "grade": false,
     "grade_id": "Q-2c",
     "locked": true,
     "solution": false
    }
   },
   "source": [
    "**(c)** (10) Do a change of variables $x = t^2$ and evaluate each integral using the trapezoidal rule for the entire domain."
   ]
  },
  {
   "cell_type": "markdown",
   "metadata": {},
   "source": [
    "**Change of variables**\n",
    "\n",
    "$$x = t^2$$\n",
    "$$dx = 2t dt$$\n",
    "$$I_c = \\int^1_0 \\frac{\\cos t^2}{t} 2t dt~~~~\\text{and}~~~~I_s = \\int^1_0 \\frac{\\sin t^2}{t} 2tdt$$\n",
    "$$I_c = \\int^1_0 2\\cos t^2 dt~~~~\\text{and}~~~~I_s = \\int^1_0 2 \\sin t^2 dt$$\n",
    "\n"
   ]
  },
  {
   "cell_type": "code",
   "execution_count": 11,
   "metadata": {
    "collapsed": true,
    "nbgrader": {
     "grade": false,
     "grade_id": "A-2c",
     "locked": false,
     "solution": true
    }
   },
   "outputs": [],
   "source": [
    "def trap_transformed(N):\n",
    "    \"\"\"Compute the integral of the fresnel functions with trapezoid rule after change of variables\n",
    "    \n",
    "    :Input:\n",
    "     - *N* (integer) - Number of partitions\n",
    "     \n",
    "    :Output:\n",
    "     - *Is, Ic* (tuple) - Approximation of the Ic and Is integral \n",
    "    \"\"\"\n",
    "    ### INSERT CODE HERE\n",
    "    f_c = lambda t: 2*numpy.cos(t**2)\n",
    "    f_s = lambda t: 2*numpy.sin(t**2)\n",
    "    \n",
    "    x = numpy.linspace(0.0,1.0,N+1)\n",
    "    delta_x = x[1] - x[0]\n",
    "    \n",
    "    Qf_c = numpy.zeros(x.shape)\n",
    "    Qf_s = numpy.zeros(x.shape)\n",
    "    Qf_c[0] = (f_c(x[1]) + f_c(x[0])) * delta_x / 2.0\n",
    "    Qf_s[0] = (f_s(x[1]) + f_s(x[0])) * delta_x / 2.0\n",
    "    for i in xrange(1, N):\n",
    "        Qf_c[i] = (f_c(x[i + 1]) + f_c(x[i])) * delta_x / 2.0\n",
    "        Qf_s[i] = (f_s(x[i + 1]) + f_s(x[i])) * delta_x / 2.0\n",
    "    \n",
    "    Is = numpy.sum(Qf_s)\n",
    "    Ic = numpy.sum(Qf_c)\n",
    "    return Is, Ic"
   ]
  },
  {
   "cell_type": "code",
   "execution_count": 12,
   "metadata": {
    "collapsed": false,
    "nbgrader": {
     "grade": true,
     "grade_id": "T-2c",
     "locked": true,
     "points": 10,
     "solution": false
    }
   },
   "outputs": [
    {
     "name": "stdout",
     "output_type": "stream",
     "text": [
      "Error: 4.50254425033e-06\n",
      "Computed the integrals correctly using the trapezoidal rule.\n"
     ]
    }
   ],
   "source": [
    "import scipy.special\n",
    "Is, Ic = scipy.special.fresnel(numpy.sqrt(2.0 / numpy.pi))\n",
    "Is *= numpy.sqrt(2.0 * numpy.pi)\n",
    "Ic *= numpy.sqrt(2.0 * numpy.pi)\n",
    "Is_hat, Ic_hat = trap_transformed(200)\n",
    "error = numpy.abs(Is_hat - Is)\n",
    "print \"Error: %s\" % error\n",
    "numpy.testing.assert_allclose(error, 0.0, atol=1e-5)\n",
    "print \"Computed the integrals correctly using the trapezoidal rule.\"    "
   ]
  },
  {
   "cell_type": "markdown",
   "metadata": {
    "nbgrader": {
     "grade": false,
     "grade_id": "Q-2d",
     "locked": true,
     "solution": false
    }
   },
   "source": [
    "**(d)** (10) Do the same as in part (c) but use 3-point Gauss-Legendre quadrature."
   ]
  },
  {
   "cell_type": "code",
   "execution_count": 13,
   "metadata": {
    "collapsed": false,
    "nbgrader": {
     "grade": false,
     "grade_id": "A-2d",
     "locked": false,
     "solution": true
    }
   },
   "outputs": [],
   "source": [
    "def gauss_legendre_3(N):\n",
    "    \"\"\"Compute the integral of the fresnel functions with gaussian-legendre using 3 points\n",
    "    \n",
    "    :Input:\n",
    "     - *N* (integer) - Number of partitions\n",
    "     \n",
    "    :Output:\n",
    "     - *Is, Ic* (tuple) - Approximation of the Ic and Is integral \n",
    "    \"\"\"\n",
    "    ### INSERT CODE HERE\n",
    "    f_c = lambda t: 2*numpy.cos(t**2)\n",
    "    f_s = lambda t: 2*numpy.sin(t**2)\n",
    "    \n",
    "    x = numpy.linspace(0.0,1.0,N+1)\n",
    "    delta_x = x[1] - x[0]\n",
    "    \n",
    "    xi_map = lambda a,b,xi : (b - a) / 2.0 * xi + (a + b) / 2.0\n",
    "    xi_0 = -numpy.sqrt(3.0 / 5.0)\n",
    "    xi_1 =  numpy.sqrt(3.0 / 5.0)\n",
    "    \n",
    "    Qf_c = numpy.zeros(x.shape)\n",
    "    Qf_s = numpy.zeros(x.shape)\n",
    "    Qf_c[0] = (((8.0/9.0) * f_c(xi_map(x[0],x[1],0))) + (5.0/9.0)*(f_c(xi_map(x[0], x[1],xi_0)) + f_c(xi_map(x[0],x[1],xi_1)))) * (delta_x/2.0)\n",
    "    Qf_s[0] = (((8.0/9.0) * f_s(xi_map(x[0],x[1],0))) + (5.0/9.0)*(f_s(xi_map(x[0], x[1],xi_0)) + f_s(xi_map(x[0],x[1],xi_1)))) * (delta_x/2.0)\n",
    "    for i in xrange(1, N):\n",
    "        Qf_c[i] = (((8.0/9.0) * f_c(xi_map(x[i],x[i+1],0))) + (5.0/9.0)*(f_c(xi_map(x[i], x[i+1],xi_0)) + f_c(xi_map(x[i],x[i+1],xi_1)))) * (delta_x/2.0)\n",
    "        Qf_s[i] = (((8.0/9.0) * f_s(xi_map(x[i],x[i+1],0))) + (5.0/9.0)*(f_s(xi_map(x[i], x[i+1],xi_0)) + f_s(xi_map(x[i],x[i+1],xi_1)))) * (delta_x/2.0)\n",
    "\n",
    "    Is = numpy.sum(Qf_s)\n",
    "    Ic = numpy.sum(Qf_c)\n",
    "    return Is, Ic"
   ]
  },
  {
   "cell_type": "code",
   "execution_count": 14,
   "metadata": {
    "collapsed": false,
    "nbgrader": {
     "grade": true,
     "grade_id": "T-2d",
     "locked": true,
     "points": 10,
     "solution": false
    }
   },
   "outputs": [
    {
     "name": "stdout",
     "output_type": "stream",
     "text": [
      "Error: 8.57063309212e-11\n",
      "Computed the integrals correctly using the trapezoidal and Newton-Cotes rules.\n"
     ]
    }
   ],
   "source": [
    "import scipy.special\n",
    "Is, Ic = scipy.special.fresnel(numpy.sqrt(2.0 / numpy.pi))\n",
    "Is *= numpy.sqrt(2.0 * numpy.pi)\n",
    "Ic *= numpy.sqrt(2.0 * numpy.pi)\n",
    "Is_hat, Ic_hat = gauss_legendre_3(10)\n",
    "error = numpy.abs(Is_hat - Is)\n",
    "print \"Error: %s\" % error\n",
    "numpy.testing.assert_allclose(error, 0.0, atol=1e-10)\n",
    "print \"Computed the integrals correctly using the trapezoidal and Newton-Cotes rules.\"    "
   ]
  },
  {
   "cell_type": "markdown",
   "metadata": {
    "nbgrader": {
     "grade": false,
     "grade_id": "Q-2e",
     "locked": true,
     "solution": false
    }
   },
   "source": [
    "**(e)** (10) Check the order of accuracy for each of the methods above and plot these on a `loglog` plot with appropriate reference lines to indicate the order of each."
   ]
  },
  {
   "cell_type": "code",
   "execution_count": 15,
   "metadata": {
    "collapsed": false,
    "nbgrader": {
     "grade": true,
     "grade_id": "A-2e",
     "locked": false,
     "points": 10,
     "solution": true
    }
   },
   "outputs": [
    {
     "data": {
      "image/png": "[encoded data removed]",
      "text/plain": [
       "<matplotlib.figure.Figure at 0x103d92b50>"
      ]
     },
     "metadata": {},
     "output_type": "display_data"
    }
   ],
   "source": [
    "### INSERT CODE HERE\n",
    "num_partitions = range(50,1000,50)\n",
    "Is, Ic = scipy.special.fresnel(numpy.sqrt(2.0 / numpy.pi))\n",
    "Is *= numpy.sqrt(2.0 * numpy.pi)\n",
    "Ic *= numpy.sqrt(2.0 * numpy.pi)\n",
    "\n",
    "delta_x = numpy.empty(len(num_partitions))\n",
    "error_trap_1 = numpy.empty((len(num_partitions),2))\n",
    "error_trap_wnc = numpy.empty((len(num_partitions),2))\n",
    "error_trap_transformed = numpy.empty((len(num_partitions),2))\n",
    "error_trap_gauss = numpy.empty((len(num_partitions),2))\n",
    "\n",
    "for (j, N) in enumerate(num_partitions):\n",
    "    x_hat = numpy.linspace(0.0, 1.0, N+1)\n",
    "    delta_x[j] = x_hat[1] - x_hat[0]\n",
    "    \n",
    "    error_trap_1[j, 0] = numpy.abs(Is - trap_1(N)[0])\n",
    "    error_trap_1[j, 1] = numpy.abs(Ic - trap_1(N)[1])\n",
    "    \n",
    "    error_trap_wnc[j, 0] = numpy.abs(Is - trap_wnc(N)[0])\n",
    "    error_trap_wnc[j, 1] = numpy.abs(Ic - trap_wnc(N)[1])\n",
    "    \n",
    "    error_trap_transformed[j, 0] = numpy.abs(Is - trap_transformed(N)[0])\n",
    "    error_trap_transformed[j, 1] = numpy.abs(Ic - trap_transformed(N)[1])\n",
    "    \n",
    "    error_trap_gauss[j, 0] = numpy.abs(Is - gauss_legendre_3(N)[0])\n",
    "    error_trap_gauss[j, 1] = numpy.abs(Ic - gauss_legendre_3(N)[1])\n",
    "\n",
    "fig = plt.figure()\n",
    "fig.set_figwidth(fig.get_figwidth()*2)\n",
    "\n",
    "axes = fig.add_subplot(1,2,1)\n",
    "\n",
    "order_C = lambda delta_x, error, order: numpy.exp(numpy.log(error) - order * numpy.log(delta_x))\n",
    "axes.loglog(delta_x, order_C(delta_x[0], error_trap_1[0,0], 1.5) * delta_x**1.5, 'b--', label=\"1.5 Order\")\n",
    "axes.loglog(delta_x, order_C(delta_x[0], error_trap_wnc[0,0], 1.5) * delta_x**1.5, 'r--', label=\"1.5 Order\")\n",
    "axes.loglog(delta_x, order_C(delta_x[0], error_trap_transformed[0,0], 2.0) * delta_x**2.0, 'k--', label=\"2nd Order\")\n",
    "axes.loglog(delta_x, error_trap_1[:,0], 'bo', label=\"trap_1\")\n",
    "axes.loglog(delta_x, error_trap_wnc[:,0], 'ro', label=\"trap wnc\")\n",
    "axes.loglog(delta_x, error_trap_transformed[:,0], 'ko', label=\"trap transformed\")\n",
    "axes.loglog(delta_x, error_trap_gauss[:,0], 'mo', label=\"gauss\")\n",
    "\n",
    "axes.set_xlabel(\"$\\Delta x$\")\n",
    "axes.set_ylabel(\"E[f]\")\n",
    "axes.set_title(\"Is Quadrature Errors\")\n",
    "axes.legend(loc=4)\n",
    "\n",
    "axes = fig.add_subplot(1,2,2)\n",
    "\n",
    "order_C = lambda delta_x, error, order: numpy.exp(numpy.log(error) - order * numpy.log(delta_x))\n",
    "axes.loglog(delta_x, order_C(delta_x[0], error_trap_1[0,1], .5) * delta_x**.5, 'b--', label=\"half Order\")\n",
    "axes.loglog(delta_x, order_C(delta_x[0], error_trap_wnc[0,1], .5) * delta_x**.5, 'r--', label=\"half Order\")\n",
    "axes.loglog(delta_x, order_C(delta_x[0], error_trap_transformed[0,1], 2.0) * delta_x**2.0, 'k--', label=\"2nd Order\")\n",
    "axes.loglog(delta_x, error_trap_1[:,1], 'bo', label=\"trap_1\")\n",
    "axes.loglog(delta_x, error_trap_wnc[:,1], 'ro', label=\"trap wnc\")\n",
    "axes.loglog(delta_x, error_trap_transformed[:,1], 'ko', label=\"trap transformed\")\n",
    "axes.loglog(delta_x, error_trap_gauss[:,1], 'mo', label=\"gauss\")\n",
    "\n",
    "axes.set_xlabel(\"$\\Delta x$\")\n",
    "axes.set_ylabel(\"E[f]\")\n",
    "axes.set_title(\"Ic Quadrature Errors\")\n",
    "axes.legend(loc=4)\n",
    "\n",
    "plt.show()\n"
   ]
  },
  {
   "cell_type": "markdown",
   "metadata": {
    "nbgrader": {
     "grade": false,
     "grade_id": "Q-2f",
     "locked": true,
     "solution": false
    }
   },
   "source": [
    "**(f)** (10) Comment on the results of this question and the vast differences in convergence rates even between the two integrations (why is $I_c$ less accurate than $I_s$)."
   ]
  },
  {
   "cell_type": "markdown",
   "metadata": {
    "nbgrader": {
     "grade": true,
     "grade_id": "A-2f",
     "locked": false,
     "points": 10,
     "solution": true
    }
   },
   "source": [
    "The results above show that as expected, the gaussian-legendre is the optimal approach. Furthermore, our transformed trapezoid version where we performed a change of variables performs with second order convergence. The difference here between our initial trapezoid method is that we got rid of the divergence at x = 0 with our first partition. Thus, the four methods show a progression in evalutaing these fresnel functions. The first method naively uses the the trapezoid rule ignoring the x=0 point. Next, we took into account the divergence at x=0 using an affine transofrmation to set up our intial bracket. Therefore, our intial point starts at a lower error but the order of convergence is still the same as we continue with the trapezoid rule. The order of convergence increases with the change in varaible approch because the function changes to something that is easier to work with and without a divergence. Thus this change in variable approach is best out of the three. \n",
    "\n",
    "The reason that the trapezoid rule for the change in variables performs better is because the graph of $2\\sin(t^2)$ almost looks like a line so the approximations from the trapezoid rule will be better. There is more curvature in the $sin(x)/\\sqrt(x)$ graph causing a different order of convergence.  \n",
    "\n",
    "The reason there are vast differences between the convergence rates of Ic and Is is because of the nature of sin and cosine functions. The Ic function is cosine meaning that the endpoint if a non-zero number whereas the endpoint for the sin function is 0. Thus, when we are ignoring or using a affine transform for x=0, we are not approximating the cosine function as well as we are the sin function. Thus, since order_c function taks the first element, these orders will be different. "
   ]
  },
  {
   "cell_type": "code",
   "execution_count": null,
   "metadata": {
    "collapsed": true
   },
   "outputs": [],
   "source": []
  },
  {
   "cell_type": "code",
   "execution_count": null,
   "metadata": {
    "collapsed": true
   },
   "outputs": [],
   "source": []
  }
 ],
 "metadata": {
  "anaconda-cloud": {},
  "celltoolbar": "Create Assignment",
  "kernelspec": {
   "display_name": "Python [Root]",
   "language": "python",
   "name": "Python [Root]"
  },
  "language_info": {
   "codemirror_mode": {
    "name": "ipython",
    "version": 2
   },
   "file_extension": ".py",
   "mimetype": "text/x-python",
   "name": "python",
   "nbconvert_exporter": "python",
   "pygments_lexer": "ipython2",
   "version": "2.7.12"
  }
 },
 "nbformat": 4,
 "nbformat_minor": 0
}
